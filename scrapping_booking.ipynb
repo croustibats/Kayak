{
 "cells": [
  {
   "cell_type": "code",
   "execution_count": 1,
   "metadata": {},
   "outputs": [
    {
     "name": "stdout",
     "output_type": "stream",
     "text": [
      "Requirement already satisfied: scrapy in c:\\users\\baptiste cournault\\appdata\\local\\programs\\python\\python310\\lib\\site-packages (2.6.1)\n",
      "Requirement already satisfied: itemloaders>=1.0.1 in c:\\users\\baptiste cournault\\appdata\\local\\programs\\python\\python310\\lib\\site-packages (from scrapy) (1.0.4)\n",
      "Requirement already satisfied: pyOpenSSL>=16.2.0 in c:\\users\\baptiste cournault\\appdata\\local\\programs\\python\\python310\\lib\\site-packages (from scrapy) (21.0.0)\n",
      "Requirement already satisfied: lxml>=3.5.0 in c:\\users\\baptiste cournault\\appdata\\local\\programs\\python\\python310\\lib\\site-packages (from scrapy) (4.9.0)\n",
      "Requirement already satisfied: cssselect>=0.9.1 in c:\\users\\baptiste cournault\\appdata\\local\\programs\\python\\python310\\lib\\site-packages (from scrapy) (1.1.0)\n",
      "Requirement already satisfied: PyDispatcher>=2.0.5 in c:\\users\\baptiste cournault\\appdata\\local\\programs\\python\\python310\\lib\\site-packages (from scrapy) (2.0.5)\n",
      "Requirement already satisfied: itemadapter>=0.1.0 in c:\\users\\baptiste cournault\\appdata\\local\\programs\\python\\python310\\lib\\site-packages (from scrapy) (0.6.0)\n",
      "Requirement already satisfied: zope.interface>=4.1.3 in c:\\users\\baptiste cournault\\appdata\\local\\programs\\python\\python310\\lib\\site-packages (from scrapy) (5.4.0)\n",
      "Requirement already satisfied: w3lib>=1.17.0 in c:\\users\\baptiste cournault\\appdata\\local\\programs\\python\\python310\\lib\\site-packages (from scrapy) (1.22.0)\n",
      "Requirement already satisfied: queuelib>=1.4.2 in c:\\users\\baptiste cournault\\appdata\\local\\programs\\python\\python310\\lib\\site-packages (from scrapy) (1.6.2)\n",
      "Requirement already satisfied: tldextract in c:\\users\\baptiste cournault\\appdata\\local\\programs\\python\\python310\\lib\\site-packages (from scrapy) (3.3.0)\n",
      "Requirement already satisfied: parsel>=1.5.0 in c:\\users\\baptiste cournault\\appdata\\local\\programs\\python\\python310\\lib\\site-packages (from scrapy) (1.6.0)\n",
      "Requirement already satisfied: setuptools in c:\\users\\baptiste cournault\\appdata\\local\\programs\\python\\python310\\lib\\site-packages (from scrapy) (57.4.0)\n",
      "Requirement already satisfied: service-identity>=16.0.0 in c:\\users\\baptiste cournault\\appdata\\local\\programs\\python\\python310\\lib\\site-packages (from scrapy) (21.1.0)\n",
      "Requirement already satisfied: protego>=0.1.15 in c:\\users\\baptiste cournault\\appdata\\local\\programs\\python\\python310\\lib\\site-packages (from scrapy) (0.2.1)\n",
      "Requirement already satisfied: Twisted>=17.9.0 in c:\\users\\baptiste cournault\\appdata\\local\\programs\\python\\python310\\lib\\site-packages (from scrapy) (22.4.0)\n",
      "Requirement already satisfied: cryptography>=2.0 in c:\\users\\baptiste cournault\\appdata\\local\\programs\\python\\python310\\lib\\site-packages (from scrapy) (35.0.0)\n",
      "Requirement already satisfied: cffi>=1.12 in c:\\users\\baptiste cournault\\appdata\\local\\programs\\python\\python310\\lib\\site-packages (from cryptography>=2.0->scrapy) (1.15.0)\n",
      "Requirement already satisfied: jmespath>=0.9.5 in c:\\users\\baptiste cournault\\appdata\\local\\programs\\python\\python310\\lib\\site-packages (from itemloaders>=1.0.1->scrapy) (1.0.0)\n",
      "Requirement already satisfied: six>=1.6.0 in c:\\users\\baptiste cournault\\appdata\\roaming\\python\\python310\\site-packages (from parsel>=1.5.0->scrapy) (1.16.0)\n",
      "Requirement already satisfied: pyasn1 in c:\\users\\baptiste cournault\\appdata\\local\\programs\\python\\python310\\lib\\site-packages (from service-identity>=16.0.0->scrapy) (0.4.8)\n",
      "Requirement already satisfied: attrs>=19.1.0 in c:\\users\\baptiste cournault\\appdata\\local\\programs\\python\\python310\\lib\\site-packages (from service-identity>=16.0.0->scrapy) (21.2.0)\n",
      "Requirement already satisfied: pyasn1-modules in c:\\users\\baptiste cournault\\appdata\\local\\programs\\python\\python310\\lib\\site-packages (from service-identity>=16.0.0->scrapy) (0.2.8)\n",
      "Requirement already satisfied: Automat>=0.8.0 in c:\\users\\baptiste cournault\\appdata\\local\\programs\\python\\python310\\lib\\site-packages (from Twisted>=17.9.0->scrapy) (20.2.0)\n",
      "Requirement already satisfied: constantly>=15.1 in c:\\users\\baptiste cournault\\appdata\\local\\programs\\python\\python310\\lib\\site-packages (from Twisted>=17.9.0->scrapy) (15.1.0)\n",
      "Requirement already satisfied: twisted-iocpsupport<2,>=1.0.2 in c:\\users\\baptiste cournault\\appdata\\local\\programs\\python\\python310\\lib\\site-packages (from Twisted>=17.9.0->scrapy) (1.0.2)\n",
      "Requirement already satisfied: typing-extensions>=3.6.5 in c:\\users\\baptiste cournault\\appdata\\local\\programs\\python\\python310\\lib\\site-packages (from Twisted>=17.9.0->scrapy) (4.2.0)\n",
      "Requirement already satisfied: incremental>=21.3.0 in c:\\users\\baptiste cournault\\appdata\\local\\programs\\python\\python310\\lib\\site-packages (from Twisted>=17.9.0->scrapy) (21.3.0)\n",
      "Requirement already satisfied: hyperlink>=17.1.1 in c:\\users\\baptiste cournault\\appdata\\local\\programs\\python\\python310\\lib\\site-packages (from Twisted>=17.9.0->scrapy) (21.0.0)\n",
      "Requirement already satisfied: filelock>=3.0.8 in c:\\users\\baptiste cournault\\appdata\\local\\programs\\python\\python310\\lib\\site-packages (from tldextract->scrapy) (3.7.0)\n",
      "Requirement already satisfied: requests>=2.1.0 in c:\\users\\baptiste cournault\\appdata\\local\\programs\\python\\python310\\lib\\site-packages (from tldextract->scrapy) (2.26.0)\n",
      "Requirement already satisfied: idna in c:\\users\\baptiste cournault\\appdata\\local\\programs\\python\\python310\\lib\\site-packages (from tldextract->scrapy) (3.3)\n",
      "Requirement already satisfied: requests-file>=1.4 in c:\\users\\baptiste cournault\\appdata\\local\\programs\\python\\python310\\lib\\site-packages (from tldextract->scrapy) (1.5.1)\n",
      "Requirement already satisfied: pycparser in c:\\users\\baptiste cournault\\appdata\\local\\programs\\python\\python310\\lib\\site-packages (from cffi>=1.12->cryptography>=2.0->scrapy) (2.20)\n",
      "Requirement already satisfied: certifi>=2017.4.17 in c:\\users\\baptiste cournault\\appdata\\local\\programs\\python\\python310\\lib\\site-packages (from requests>=2.1.0->tldextract->scrapy) (2021.10.8)\n",
      "Requirement already satisfied: charset-normalizer~=2.0.0 in c:\\users\\baptiste cournault\\appdata\\local\\programs\\python\\python310\\lib\\site-packages (from requests>=2.1.0->tldextract->scrapy) (2.0.7)\n",
      "Requirement already satisfied: urllib3<1.27,>=1.21.1 in c:\\users\\baptiste cournault\\appdata\\local\\programs\\python\\python310\\lib\\site-packages (from requests>=2.1.0->tldextract->scrapy) (1.26.7)\n"
     ]
    }
   ],
   "source": [
    "!pip install scrapy"
   ]
  },
  {
   "cell_type": "code",
   "execution_count": 6,
   "metadata": {},
   "outputs": [
    {
     "name": "stderr",
     "output_type": "stream",
     "text": [
      "2022-07-17 21:36:07 [scrapy.utils.log] INFO: Scrapy 2.6.1 started (bot: scrapybot)\n",
      "2022-07-17 21:36:07 [scrapy.utils.log] INFO: Versions: lxml 4.9.0.0, libxml2 2.9.12, cssselect 1.1.0, parsel 1.6.0, w3lib 1.22.0, Twisted 22.4.0, Python 3.10.0 (tags/v3.10.0:b494f59, Oct  4 2021, 19:00:18) [MSC v.1929 64 bit (AMD64)], pyOpenSSL 21.0.0 (OpenSSL 1.1.1l  24 Aug 2021), cryptography 35.0.0, Platform Windows-10-10.0.22000-SP0\n",
      "2022-07-17 21:36:07 [scrapy.crawler] INFO: Overridden settings:\n",
      "{'LOG_LEVEL': 20, 'USER_AGENT': 'Chrome/103.0.5060.114'}\n",
      "2022-07-17 21:36:08 [scrapy.extensions.telnet] INFO: Telnet Password: c26713d1ea125dc9\n",
      "2022-07-17 21:36:08 [scrapy.middleware] INFO: Enabled extensions:\n",
      "['scrapy.extensions.corestats.CoreStats',\n",
      " 'scrapy.extensions.telnet.TelnetConsole',\n",
      " 'scrapy.extensions.feedexport.FeedExporter',\n",
      " 'scrapy.extensions.logstats.LogStats']\n",
      "2022-07-17 21:36:08 [scrapy.middleware] INFO: Enabled downloader middlewares:\n",
      "['scrapy.downloadermiddlewares.httpauth.HttpAuthMiddleware',\n",
      " 'scrapy.downloadermiddlewares.downloadtimeout.DownloadTimeoutMiddleware',\n",
      " 'scrapy.downloadermiddlewares.defaultheaders.DefaultHeadersMiddleware',\n",
      " 'scrapy.downloadermiddlewares.useragent.UserAgentMiddleware',\n",
      " 'scrapy.downloadermiddlewares.retry.RetryMiddleware',\n",
      " 'scrapy.downloadermiddlewares.redirect.MetaRefreshMiddleware',\n",
      " 'scrapy.downloadermiddlewares.httpcompression.HttpCompressionMiddleware',\n",
      " 'scrapy.downloadermiddlewares.redirect.RedirectMiddleware',\n",
      " 'scrapy.downloadermiddlewares.cookies.CookiesMiddleware',\n",
      " 'scrapy.downloadermiddlewares.httpproxy.HttpProxyMiddleware',\n",
      " 'scrapy.downloadermiddlewares.stats.DownloaderStats']\n",
      "2022-07-17 21:36:08 [scrapy.middleware] INFO: Enabled spider middlewares:\n",
      "['scrapy.spidermiddlewares.httperror.HttpErrorMiddleware',\n",
      " 'scrapy.spidermiddlewares.offsite.OffsiteMiddleware',\n",
      " 'scrapy.spidermiddlewares.referer.RefererMiddleware',\n",
      " 'scrapy.spidermiddlewares.urllength.UrlLengthMiddleware',\n",
      " 'scrapy.spidermiddlewares.depth.DepthMiddleware']\n",
      "2022-07-17 21:36:08 [scrapy.middleware] INFO: Enabled item pipelines:\n",
      "[]\n",
      "2022-07-17 21:36:08 [scrapy.core.engine] INFO: Spider opened\n",
      "2022-07-17 21:36:08 [scrapy.extensions.logstats] INFO: Crawled 0 pages (at 0 pages/min), scraped 0 items (at 0 items/min)\n",
      "2022-07-17 21:36:08 [scrapy.extensions.telnet] INFO: Telnet console listening on 127.0.0.1:6023\n",
      "2022-07-17 21:36:14 [root] INFO: No next page. Terminating crawling process.\n",
      "2022-07-17 21:36:14 [scrapy.core.engine] INFO: Closing spider (finished)\n",
      "2022-07-17 21:36:14 [scrapy.extensions.feedexport] INFO: Stored json feed (26 items) in: scrapping-booking/hotel-paris.json\n",
      "2022-07-17 21:36:14 [scrapy.statscollectors] INFO: Dumping Scrapy stats:\n",
      "{'downloader/request_bytes': 4697,\n",
      " 'downloader/request_count': 4,\n",
      " 'downloader/request_method_count/GET': 4,\n",
      " 'downloader/response_bytes': 495559,\n",
      " 'downloader/response_count': 4,\n",
      " 'downloader/response_status_count/200': 3,\n",
      " 'downloader/response_status_count/302': 1,\n",
      " 'elapsed_time_seconds': 5.825158,\n",
      " 'feedexport/success_count/FileFeedStorage': 1,\n",
      " 'finish_reason': 'finished',\n",
      " 'finish_time': datetime.datetime(2022, 7, 17, 19, 36, 14, 169015),\n",
      " 'httpcompression/response_bytes': 2262067,\n",
      " 'httpcompression/response_count': 3,\n",
      " 'item_scraped_count': 26,\n",
      " 'log_count/INFO': 12,\n",
      " 'request_depth_max': 2,\n",
      " 'response_received_count': 3,\n",
      " 'scheduler/dequeued': 4,\n",
      " 'scheduler/dequeued/memory': 4,\n",
      " 'scheduler/enqueued': 4,\n",
      " 'scheduler/enqueued/memory': 4,\n",
      " 'start_time': datetime.datetime(2022, 7, 17, 19, 36, 8, 343857)}\n",
      "2022-07-17 21:36:14 [scrapy.core.engine] INFO: Spider closed (finished)\n"
     ]
    }
   ],
   "source": [
    "! python scrapping-booking/hotel-paris.py"
   ]
  },
  {
   "cell_type": "code",
   "execution_count": 30,
   "metadata": {},
   "outputs": [
    {
     "data": {
      "text/plain": [
       "'https://www.booking.com/searchresults.fr.html?label=gen173nr-1DCAEoggI46AdIM1gEaE2IAQGYAQ24ARfIAQzYAQPoAQGIAgGoAgO4AqfV0JYGwAIB0gIkMjMwY2Y0NWMtZjcxNy00NDFmLTg1Y2ItZDU4YjYzOWFlOGQ52AIE4AIB&sid=e96ce86cdb38de6444dce7338cc602dc&aid=304142&tmpl=searchresults&ac_click_type=b&ac_position=0&class_interval=1&dest_id=-1456928&dest_type=city&from_sf=1&group_adults=1&group_children=0&iata=PAR&label_click=undef&lang=fr&no_rooms=0&offset=11&sdinropi435ndvfdr=75'"
      ]
     },
     "execution_count": 30,
     "metadata": {},
     "output_type": "execute_result"
    }
   ],
   "source": [
    "import re\n",
    "\n",
    "url_txt = 'https://www.booking.com/searchresults.fr.html?label=gen173nr-1DCAEoggI46AdIM1gEaE2IAQGYAQ24ARfIAQzYAQPoAQGIAgGoAgO4AqfV0JYGwAIB0gIkMjMwY2Y0NWMtZjcxNy00NDFmLTg1Y2ItZDU4YjYzOWFlOGQ52AIE4AIB&sid=e96ce86cdb38de6444dce7338cc602dc&aid=304142&tmpl=searchresults&ac_click_type=b&ac_position=0&class_interval=1&dest_id=-1456928&dest_type=city&from_sf=1&group_adults=1&group_children=0&iata=PAR&label_click=undef&lang=fr&no_rooms=0&offset=10&sdinropi435ndvfdr=75'\n",
    "url_list = url_txt.split('offset=')\n",
    "\n",
    "temp = re.findall(r'\\d+', url_list[1])\n",
    "incr_step = 554//25 +1\n",
    "new_offset = int(temp[0]) + 1\n",
    "\n",
    "url_list[0] + 'offset=' + str(new_offset) + url_list[1][len(temp[0]):]\n"
   ]
  },
  {
   "cell_type": "code",
   "execution_count": 43,
   "metadata": {},
   "outputs": [
    {
     "data": {
      "text/plain": [
       "277.0"
      ]
     },
     "execution_count": 43,
     "metadata": {},
     "output_type": "execute_result"
    }
   ],
   "source": [
    "test_string = 'Saint-Malo : 554 établissements trouvés'\n",
    "res = [int(i) for i in test_string.split() if i.isdigit()]\n",
    "res[0]"
   ]
  },
  {
   "cell_type": "code",
   "execution_count": 5,
   "metadata": {},
   "outputs": [
    {
     "data": {
      "text/plain": [
       "0"
      ]
     },
     "execution_count": 5,
     "metadata": {},
     "output_type": "execute_result"
    }
   ],
   "source": [
    "5575%25"
   ]
  },
  {
   "cell_type": "code",
   "execution_count": 44,
   "metadata": {},
   "outputs": [
    {
     "data": {
      "text/plain": [
       "206"
      ]
     },
     "execution_count": 44,
     "metadata": {},
     "output_type": "execute_result"
    }
   ],
   "source": [
    "last_offset = 975\n",
    "\n",
    "5129//25 +1"
   ]
  },
  {
   "cell_type": "code",
   "execution_count": 1,
   "metadata": {},
   "outputs": [
    {
     "data": {
      "text/plain": [
       "1"
      ]
     },
     "execution_count": 1,
     "metadata": {},
     "output_type": "execute_result"
    }
   ],
   "source": [
    "26//25\n"
   ]
  },
  {
   "cell_type": "code",
   "execution_count": 49,
   "metadata": {},
   "outputs": [
    {
     "name": "stdout",
     "output_type": "stream",
     "text": [
      "['https://www.booking.com/searchresults.fr.html?label=gen173nr-1DCAEoggI46AdIM1gEaE2IAQGYAQ24ARfIAQzYAQPoAQGIAgGoAgO4Av2h0ZYGwAIB0gIkNmQyMGRhZmMtM2M4Ni00NGI3LWI2NzUtNTRhMWJhODg5Njk42AIE4AIB&sid=e96ce86cdb38de6444dce7338cc602dc&aid=304142&sb=1&sb_lp=1&src=index&src_elem=sb&error_url=https%3A%2F%2Fwww.booking.com%2Findex.fr.html%3Flabel%3Dgen173nr-1DCAEoggI46AdIM1gEaE2IAQGYAQ24ARfIAQzYAQPoAQGIAgGoAgO4Av2h0ZYGwAIB0gIkNmQyMGRhZmMtM2M4Ni00NGI3LWI2NzUtNTRhMWJhODg5Njk42AIE4AIB%26sid%3De96ce86cdb38de6444dce7338cc602dc%26sb_price_type%3Dtotal%26%26&ss=Saint-Malo%2C+Bretagne%2C+France&is_ski_area=&checkin_year=&checkin_month=&checkout_year=&checkout_month=&group_adults=1&group_children=0&no_rooms=1&b_h4u_keep_filters=&from_sf=1&ss_raw=St_mal&ac_position=0&ac_langcode=fr&ac_click_type=b&dest_id=-1466824&dest_type=city&place_id_lat=48.649616&place_id_lon=-2.025677&search_pageview_id=dac57ffecba20428&search_selected=true&search_pageview_id=dac57ffecba20428&ac_suggestion_list_length=5&ac_suggestion_theme_list_length=0&', '0']\n",
      "https://www.booking.com/searchresults.fr.html?label=gen173nr-1DCAEoggI46AdIM1gEaE2IAQGYAQ24ARfIAQzYAQPoAQGIAgGoAgO4Av2h0ZYGwAIB0gIkNmQyMGRhZmMtM2M4Ni00NGI3LWI2NzUtNTRhMWJhODg5Njk42AIE4AIB&sid=e96ce86cdb38de6444dce7338cc602dc&aid=304142&sb=1&sb_lp=1&src=index&src_elem=sb&error_url=https%3A%2F%2Fwww.booking.com%2Findex.fr.html%3Flabel%3Dgen173nr-1DCAEoggI46AdIM1gEaE2IAQGYAQ24ARfIAQzYAQPoAQGIAgGoAgO4Av2h0ZYGwAIB0gIkNmQyMGRhZmMtM2M4Ni00NGI3LWI2NzUtNTRhMWJhODg5Njk42AIE4AIB%26sid%3De96ce86cdb38de6444dce7338cc602dc%26sb_price_type%3Dtotal%26%26&ss=Saint-Malo%2C+Bretagne%2C+France&is_ski_area=&checkin_year=&checkin_month=&checkout_year=&checkout_month=&group_adults=1&group_children=0&no_rooms=1&b_h4u_keep_filters=&from_sf=1&ss_raw=St_mal&ac_position=0&ac_langcode=fr&ac_click_type=b&dest_id=-1466824&dest_type=city&place_id_lat=48.649616&place_id_lon=-2.025677&search_pageview_id=dac57ffecba20428&search_selected=true&search_pageview_id=dac57ffecba20428&ac_suggestion_list_length=5&ac_suggestion_theme_list_length=0&offset=25\n"
     ]
    }
   ],
   "source": [
    "current_url = 'https://www.booking.com/searchresults.fr.html?label=gen173nr-1DCAEoggI46AdIM1gEaE2IAQGYAQ24ARfIAQzYAQPoAQGIAgGoAgO4Av2h0ZYGwAIB0gIkNmQyMGRhZmMtM2M4Ni00NGI3LWI2NzUtNTRhMWJhODg5Njk42AIE4AIB&sid=e96ce86cdb38de6444dce7338cc602dc&aid=304142&sb=1&sb_lp=1&src=index&src_elem=sb&error_url=https%3A%2F%2Fwww.booking.com%2Findex.fr.html%3Flabel%3Dgen173nr-1DCAEoggI46AdIM1gEaE2IAQGYAQ24ARfIAQzYAQPoAQGIAgGoAgO4Av2h0ZYGwAIB0gIkNmQyMGRhZmMtM2M4Ni00NGI3LWI2NzUtNTRhMWJhODg5Njk42AIE4AIB%26sid%3De96ce86cdb38de6444dce7338cc602dc%26sb_price_type%3Dtotal%26%26&ss=Saint-Malo%2C+Bretagne%2C+France&is_ski_area=&checkin_year=&checkin_month=&checkout_year=&checkout_month=&group_adults=1&group_children=0&no_rooms=1&b_h4u_keep_filters=&from_sf=1&ss_raw=St_mal&ac_position=0&ac_langcode=fr&ac_click_type=b&dest_id=-1466824&dest_type=city&place_id_lat=48.649616&place_id_lon=-2.025677&search_pageview_id=dac57ffecba20428&search_selected=true&search_pageview_id=dac57ffecba20428&ac_suggestion_list_length=5&ac_suggestion_theme_list_length=0&offset=0'\n",
    "url_list = current_url.split('offset=')\n",
    "print(url_list)\n",
    "temp = re.findall(r'\\d+', url_list[1])\n",
    "incr_step = 25\n",
    "new_offset = int(temp[0]) + incr_step\n",
    "next_page = url_list[0] + 'offset=' + str(new_offset) + url_list[1][len(temp[0]):]\n",
    "\n",
    "print(next_page)"
   ]
  },
  {
   "cell_type": "code",
   "execution_count": 53,
   "metadata": {},
   "outputs": [
    {
     "name": "stdout",
     "output_type": "stream",
     "text": [
      "zeocn841\n"
     ]
    }
   ],
   "source": [
    "test= 'zeocn'\n",
    "test += '841'\n",
    "print(test)"
   ]
  },
  {
   "cell_type": "code",
   "execution_count": 1,
   "metadata": {},
   "outputs": [
    {
     "data": {
      "text/plain": [
       "200"
      ]
     },
     "execution_count": 1,
     "metadata": {},
     "output_type": "execute_result"
    }
   ],
   "source": [
    "import requests as r\n",
    "base_endpoint = 'https://www.booking.com/searchresults.fr.html?label=gen173nr-1DCAEoggI46AdIM1gEaE2IAQGYAQ24ARfIAQzYAQPoAQGIAgGoAgO4Au-xr5gGwAIB0gIkMzI3MTg0ZWUtZjUzNy00YzZkLTk0NzctYWI5YmE3NGFiNDU32AIE4AIB&sid=e96ce86cdb38de6444dce7338cc602dc&sb=1&sb_lp=1&src=index&src_elem=sb&error_url=https%3A%2F%2Fwww.booking.com%2Findex.fr.html%3Flabel%3Dgen173nr-1DCAEoggI46AdIM1gEaE2IAQGYAQ24ARfIAQzYAQPoAQGIAgGoAgO4Au-xr5gGwAIB0gIkMzI3MTg0ZWUtZjUzNy00YzZkLTk0NzctYWI5YmE3NGFiNDU32AIE4AIB%26sid%3De96ce86cdb38de6444dce7338cc602dc%26sb_price_type%3Dtotal%26%26&ss=%C3%A2ris&is_ski_area=0&checkin_year=&checkin_month=&checkout_year=&checkout_month=&group_adults=1&group_children=0&no_rooms=1&b_h4u_keep_filters=&from_sf=1&dest_id=&dest_type=&search_pageview_id=178c94776e13003b&search_selected=false'\n",
    "response = r.get(base_endpoint)\n",
    "response.status_code"
   ]
  }
 ],
 "metadata": {
  "kernelspec": {
   "display_name": "Python 3.10.0 64-bit",
   "language": "python",
   "name": "python3"
  },
  "language_info": {
   "codemirror_mode": {
    "name": "ipython",
    "version": 3
   },
   "file_extension": ".py",
   "mimetype": "text/x-python",
   "name": "python",
   "nbconvert_exporter": "python",
   "pygments_lexer": "ipython3",
   "version": "3.10.0"
  },
  "orig_nbformat": 4,
  "vscode": {
   "interpreter": {
    "hash": "6b23b447ae8d7dd20d4fc812b5289c3091e759321a9b689f6e1bbc2b9587a95b"
   }
  }
 },
 "nbformat": 4,
 "nbformat_minor": 2
}
