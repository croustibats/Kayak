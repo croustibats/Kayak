{
 "cells": [
  {
   "cell_type": "code",
   "execution_count": 59,
   "metadata": {},
   "outputs": [],
   "source": [
    "import pandas as pd\n",
    "import numpy as np\n",
    "import json\n",
    "import plotly.express as px\n",
    "import boto3\n",
    "import config\n",
    "from sqlalchemy import create_engine, text"
   ]
  },
  {
   "cell_type": "code",
   "execution_count": 3,
   "metadata": {},
   "outputs": [
    {
     "name": "stdout",
     "output_type": "stream",
     "text": [
      "shape :  (280, 35)\n"
     ]
    },
    {
     "data": {
      "text/html": [
       "<div>\n",
       "<style scoped>\n",
       "    .dataframe tbody tr th:only-of-type {\n",
       "        vertical-align: middle;\n",
       "    }\n",
       "\n",
       "    .dataframe tbody tr th {\n",
       "        vertical-align: top;\n",
       "    }\n",
       "\n",
       "    .dataframe thead th {\n",
       "        text-align: right;\n",
       "    }\n",
       "</style>\n",
       "<table border=\"1\" class=\"dataframe\">\n",
       "  <thead>\n",
       "    <tr style=\"text-align: right;\">\n",
       "      <th></th>\n",
       "      <th>Unnamed: 0</th>\n",
       "      <th>id</th>\n",
       "      <th>city</th>\n",
       "      <th>lat</th>\n",
       "      <th>lon</th>\n",
       "      <th>dt</th>\n",
       "      <th>sunrise</th>\n",
       "      <th>sunset</th>\n",
       "      <th>moonrise</th>\n",
       "      <th>moonset</th>\n",
       "      <th>...</th>\n",
       "      <th>wind_deg</th>\n",
       "      <th>wind_gust</th>\n",
       "      <th>weather_id</th>\n",
       "      <th>weather_main</th>\n",
       "      <th>weather_description</th>\n",
       "      <th>weather_icon</th>\n",
       "      <th>clouds</th>\n",
       "      <th>pop</th>\n",
       "      <th>rain</th>\n",
       "      <th>uvi</th>\n",
       "    </tr>\n",
       "  </thead>\n",
       "  <tbody>\n",
       "    <tr>\n",
       "      <th>0</th>\n",
       "      <td>0</td>\n",
       "      <td>0</td>\n",
       "      <td>Mont Saint Michel</td>\n",
       "      <td>48.635954</td>\n",
       "      <td>-1.51146</td>\n",
       "      <td>1663930800</td>\n",
       "      <td>1663912423</td>\n",
       "      <td>1663956197</td>\n",
       "      <td>1663900980</td>\n",
       "      <td>1663954560</td>\n",
       "      <td>...</td>\n",
       "      <td>305</td>\n",
       "      <td>6.86</td>\n",
       "      <td>500</td>\n",
       "      <td>Rain</td>\n",
       "      <td>light rain</td>\n",
       "      <td>10d</td>\n",
       "      <td>100</td>\n",
       "      <td>0.76</td>\n",
       "      <td>1.34</td>\n",
       "      <td>0.78</td>\n",
       "    </tr>\n",
       "    <tr>\n",
       "      <th>1</th>\n",
       "      <td>1</td>\n",
       "      <td>0</td>\n",
       "      <td>Mont Saint Michel</td>\n",
       "      <td>48.635954</td>\n",
       "      <td>-1.51146</td>\n",
       "      <td>1664017200</td>\n",
       "      <td>1663998907</td>\n",
       "      <td>1664042469</td>\n",
       "      <td>1663991640</td>\n",
       "      <td>1664041980</td>\n",
       "      <td>...</td>\n",
       "      <td>341</td>\n",
       "      <td>7.19</td>\n",
       "      <td>500</td>\n",
       "      <td>Rain</td>\n",
       "      <td>light rain</td>\n",
       "      <td>10d</td>\n",
       "      <td>33</td>\n",
       "      <td>0.74</td>\n",
       "      <td>1.89</td>\n",
       "      <td>3.31</td>\n",
       "    </tr>\n",
       "    <tr>\n",
       "      <th>2</th>\n",
       "      <td>2</td>\n",
       "      <td>0</td>\n",
       "      <td>Mont Saint Michel</td>\n",
       "      <td>48.635954</td>\n",
       "      <td>-1.51146</td>\n",
       "      <td>1664103600</td>\n",
       "      <td>1664085392</td>\n",
       "      <td>1664128742</td>\n",
       "      <td>1664082360</td>\n",
       "      <td>1664129340</td>\n",
       "      <td>...</td>\n",
       "      <td>25</td>\n",
       "      <td>13.05</td>\n",
       "      <td>500</td>\n",
       "      <td>Rain</td>\n",
       "      <td>light rain</td>\n",
       "      <td>10d</td>\n",
       "      <td>89</td>\n",
       "      <td>0.73</td>\n",
       "      <td>1.83</td>\n",
       "      <td>3.32</td>\n",
       "    </tr>\n",
       "    <tr>\n",
       "      <th>3</th>\n",
       "      <td>3</td>\n",
       "      <td>0</td>\n",
       "      <td>Mont Saint Michel</td>\n",
       "      <td>48.635954</td>\n",
       "      <td>-1.51146</td>\n",
       "      <td>1664190000</td>\n",
       "      <td>1664171876</td>\n",
       "      <td>1664215014</td>\n",
       "      <td>1664173140</td>\n",
       "      <td>1664216640</td>\n",
       "      <td>...</td>\n",
       "      <td>299</td>\n",
       "      <td>13.00</td>\n",
       "      <td>500</td>\n",
       "      <td>Rain</td>\n",
       "      <td>light rain</td>\n",
       "      <td>10d</td>\n",
       "      <td>85</td>\n",
       "      <td>0.98</td>\n",
       "      <td>2.19</td>\n",
       "      <td>1.94</td>\n",
       "    </tr>\n",
       "    <tr>\n",
       "      <th>4</th>\n",
       "      <td>4</td>\n",
       "      <td>0</td>\n",
       "      <td>Mont Saint Michel</td>\n",
       "      <td>48.635954</td>\n",
       "      <td>-1.51146</td>\n",
       "      <td>1664276400</td>\n",
       "      <td>1664258361</td>\n",
       "      <td>1664301286</td>\n",
       "      <td>1664264040</td>\n",
       "      <td>1664304060</td>\n",
       "      <td>...</td>\n",
       "      <td>295</td>\n",
       "      <td>13.04</td>\n",
       "      <td>501</td>\n",
       "      <td>Rain</td>\n",
       "      <td>moderate rain</td>\n",
       "      <td>10d</td>\n",
       "      <td>98</td>\n",
       "      <td>1.00</td>\n",
       "      <td>5.91</td>\n",
       "      <td>1.58</td>\n",
       "    </tr>\n",
       "  </tbody>\n",
       "</table>\n",
       "<p>5 rows × 35 columns</p>\n",
       "</div>"
      ],
      "text/plain": [
       "   Unnamed: 0  id               city        lat      lon          dt  \\\n",
       "0           0   0  Mont Saint Michel  48.635954 -1.51146  1663930800   \n",
       "1           1   0  Mont Saint Michel  48.635954 -1.51146  1664017200   \n",
       "2           2   0  Mont Saint Michel  48.635954 -1.51146  1664103600   \n",
       "3           3   0  Mont Saint Michel  48.635954 -1.51146  1664190000   \n",
       "4           4   0  Mont Saint Michel  48.635954 -1.51146  1664276400   \n",
       "\n",
       "      sunrise      sunset    moonrise     moonset  ...  wind_deg  wind_gust  \\\n",
       "0  1663912423  1663956197  1663900980  1663954560  ...       305       6.86   \n",
       "1  1663998907  1664042469  1663991640  1664041980  ...       341       7.19   \n",
       "2  1664085392  1664128742  1664082360  1664129340  ...        25      13.05   \n",
       "3  1664171876  1664215014  1664173140  1664216640  ...       299      13.00   \n",
       "4  1664258361  1664301286  1664264040  1664304060  ...       295      13.04   \n",
       "\n",
       "   weather_id  weather_main  weather_description  weather_icon  clouds   pop  \\\n",
       "0         500          Rain           light rain           10d     100  0.76   \n",
       "1         500          Rain           light rain           10d      33  0.74   \n",
       "2         500          Rain           light rain           10d      89  0.73   \n",
       "3         500          Rain           light rain           10d      85  0.98   \n",
       "4         501          Rain        moderate rain           10d      98  1.00   \n",
       "\n",
       "   rain   uvi  \n",
       "0  1.34  0.78  \n",
       "1  1.89  3.31  \n",
       "2  1.83  3.32  \n",
       "3  2.19  1.94  \n",
       "4  5.91  1.58  \n",
       "\n",
       "[5 rows x 35 columns]"
      ]
     },
     "execution_count": 3,
     "metadata": {},
     "output_type": "execute_result"
    }
   ],
   "source": [
    "# import weather dataset\n",
    "weather_df = pd.read_csv(\"WeatherForecast 2022-09-19.csv\")\n",
    "print('shape : ', weather_df.shape)\n",
    "weather_df.head()"
   ]
  },
  {
   "cell_type": "code",
   "execution_count": 4,
   "metadata": {},
   "outputs": [
    {
     "data": {
      "text/plain": [
       "Index(['Unnamed: 0', 'id', 'city', 'lat', 'lon', 'dt', 'sunrise', 'sunset',\n",
       "       'moonrise', 'moonset', 'moon_phase', 'temp_day', 'temp_min', 'temp_max',\n",
       "       'temp_night', 'temp_eve', 'temp_morn', 'feels_like_day',\n",
       "       'feels_like_night', 'feels_like_eve', 'feels_like_morn', 'pressure',\n",
       "       'humidity', 'dew_point', 'wind_speed', 'wind_deg', 'wind_gust',\n",
       "       'weather_id', 'weather_main', 'weather_description', 'weather_icon',\n",
       "       'clouds', 'pop', 'rain', 'uvi'],\n",
       "      dtype='object')"
      ]
     },
     "execution_count": 4,
     "metadata": {},
     "output_type": "execute_result"
    }
   ],
   "source": [
    "weather_df.columns"
   ]
  },
  {
   "cell_type": "code",
   "execution_count": 5,
   "metadata": {},
   "outputs": [
    {
     "name": "stderr",
     "output_type": "stream",
     "text": [
      "C:\\Users\\Baptiste Cournault\\AppData\\Local\\Temp\\ipykernel_28440\\3256834950.py:1: FutureWarning: Using .astype to convert from timezone-naive dtype to timezone-aware dtype is deprecated and will raise in a future version.  Use ser.dt.tz_localize instead.\n",
      "  weather_df['date'] = pd.to_datetime(weather_df['dt'], unit='s').astype('datetime64[ns, Europe/Paris]').dt.tz_convert('UTC')\n"
     ]
    }
   ],
   "source": [
    "weather_df['date'] = pd.to_datetime(weather_df['dt'], unit='s').astype('datetime64[ns, Europe/Paris]').dt.tz_convert('UTC')\n",
    "weather_df['date'] = weather_df[\"date\"].dt.date"
   ]
  },
  {
   "cell_type": "code",
   "execution_count": 6,
   "metadata": {},
   "outputs": [],
   "source": [
    "LAT_0 = 46.71109\n",
    "LON_0 = 1.7191036\n",
    "\n",
    "fig1 = px.scatter_mapbox(\n",
    "    weather_df, \n",
    "    lat=\"lat\",\n",
    "    lon=\"lon\",\n",
    "    animation_frame = 'date',\n",
    "    animation_group = 'city',\n",
    "    zoom = 4.75,\n",
    "    hover_name = 'city',\n",
    "    hover_data = ['weather_description', 'pop', 'rain', 'feels_like_day', 'date'],\n",
    "    center = {'lat': LAT_0, 'lon': LON_0}, \n",
    "    color='feels_like_day',\n",
    "    size = 'feels_like_day',\n",
    "    title = 'weather forecast for the next 7 days',\n",
    "    mapbox_style='carto-positron',\n",
    "    color_continuous_scale='Bluered',\n",
    "    opacity = 0.7,\n",
    "    height = 700,\n",
    "    )"
   ]
  },
  {
   "cell_type": "code",
   "execution_count": 7,
   "metadata": {},
   "outputs": [
    {
     "data": {
      "application/vnd.plotly.v1+json": {
       "config": {
        "plotlyServerURL": "https://plot.ly"
       },
       "data": [
        {
         "customdata": [
          [
           "light rain",
           0.76,
           1.34,
           17.33,
           "2022-09-23"
          ],
          [
           "light rain",
           0.91,
           3.08,
           17.67,
           "2022-09-23"
          ],
          [
           "light rain",
           0.68,
           2.75,
           16.79,
           "2022-09-23"
          ],
          [
           "light rain",
           0.94,
           2.94,
           16.42,
           "2022-09-23"
          ],
          [
           "light rain",
           0.91,
           1.1,
           17.09,
           "2022-09-23"
          ],
          [
           "overcast clouds",
           0.14,
           null,
           18.57,
           "2022-09-23"
          ],
          [
           "light rain",
           0.57,
           3.45,
           18.24,
           "2022-09-23"
          ],
          [
           "light rain",
           0.78,
           3.42,
           18.08,
           "2022-09-23"
          ],
          [
           "overcast clouds",
           0,
           null,
           17.63,
           "2022-09-23"
          ],
          [
           "overcast clouds",
           0,
           null,
           16.29,
           "2022-09-23"
          ],
          [
           "overcast clouds",
           0,
           null,
           19.35,
           "2022-09-23"
          ],
          [
           "overcast clouds",
           0,
           null,
           19.72,
           "2022-09-23"
          ],
          [
           "overcast clouds",
           0.4,
           null,
           18.54,
           "2022-09-23"
          ],
          [
           "overcast clouds",
           0.17,
           null,
           17.98,
           "2022-09-23"
          ],
          [
           "overcast clouds",
           0.09,
           null,
           19.69,
           "2022-09-23"
          ],
          [
           "overcast clouds",
           0,
           null,
           22.88,
           "2022-09-23"
          ],
          [
           "light rain",
           0.75,
           1.42,
           21.39,
           "2022-09-23"
          ],
          [
           "broken clouds",
           0,
           null,
           17.44,
           "2022-09-23"
          ],
          [
           "broken clouds",
           0,
           null,
           21.72,
           "2022-09-23"
          ],
          [
           "broken clouds",
           0,
           null,
           21.24,
           "2022-09-23"
          ],
          [
           "broken clouds",
           0,
           null,
           21.33,
           "2022-09-23"
          ],
          [
           "broken clouds",
           0,
           null,
           21.74,
           "2022-09-23"
          ],
          [
           "broken clouds",
           0.06,
           null,
           23.67,
           "2022-09-23"
          ],
          [
           "light rain",
           0.35,
           0.11,
           22.46,
           "2022-09-23"
          ],
          [
           "light rain",
           0.39,
           0.13,
           23.22,
           "2022-09-23"
          ],
          [
           "light rain",
           0.53,
           0.54,
           21.99,
           "2022-09-23"
          ],
          [
           "light rain",
           0.34,
           0.37,
           21.58,
           "2022-09-23"
          ],
          [
           "moderate rain",
           1,
           1.46,
           24.02,
           "2022-09-23"
          ],
          [
           "light rain",
           1,
           1.25,
           23.89,
           "2022-09-23"
          ],
          [
           "moderate rain",
           0.99,
           2.21,
           19.03,
           "2022-09-23"
          ],
          [
           "moderate rain",
           0.99,
           4.76,
           23.96,
           "2022-09-23"
          ],
          [
           "moderate rain",
           1,
           3.67,
           22.73,
           "2022-09-23"
          ],
          [
           "light rain",
           0.81,
           1.59,
           19.45,
           "2022-09-23"
          ],
          [
           "light rain",
           0.85,
           1.8,
           19.97,
           "2022-09-23"
          ],
          [
           "overcast clouds",
           0.17,
           null,
           17.9,
           "2022-09-23"
          ]
         ],
         "hovertemplate": "<b>%{hovertext}</b><br><br>date=%{customdata[4]}<br>feels_like_day=%{marker.color}<br>lat=%{lat}<br>lon=%{lon}<br>weather_description=%{customdata[0]}<br>pop=%{customdata[1]}<br>rain=%{customdata[2]}<extra></extra>",
         "hovertext": [
          "Mont Saint Michel",
          "St Malo",
          "Bayeux",
          "Le Havre",
          "Rouen",
          "Paris",
          "Amiens",
          "Lille",
          "Strasbourg",
          "Chateau du Haut Koenigsbourg",
          "Colmar",
          "Eguisheim",
          "Besancon",
          "Dijon",
          "Annecy",
          "Grenoble",
          "Lyon",
          "Gorges du Verdon",
          "Bormes les Mimosas",
          "Cassis",
          "Marseille",
          "Aix en Provence",
          "Avignon",
          "Uzes",
          "Nimes",
          "Aigues Mortes",
          "Saintes Maries de la mer",
          "Collioure",
          "Carcassonne",
          "Ariege",
          "Toulouse",
          "Montauban",
          "Biarritz",
          "Bayonne",
          "La Rochelle"
         ],
         "ids": [
          "Mont Saint Michel",
          "St Malo",
          "Bayeux",
          "Le Havre",
          "Rouen",
          "Paris",
          "Amiens",
          "Lille",
          "Strasbourg",
          "Chateau du Haut Koenigsbourg",
          "Colmar",
          "Eguisheim",
          "Besancon",
          "Dijon",
          "Annecy",
          "Grenoble",
          "Lyon",
          "Gorges du Verdon",
          "Bormes les Mimosas",
          "Cassis",
          "Marseille",
          "Aix en Provence",
          "Avignon",
          "Uzes",
          "Nimes",
          "Aigues Mortes",
          "Saintes Maries de la mer",
          "Collioure",
          "Carcassonne",
          "Ariege",
          "Toulouse",
          "Montauban",
          "Biarritz",
          "Bayonne",
          "La Rochelle"
         ],
         "lat": [
          48.6359541,
          48.649518,
          49.2764624,
          49.4938975,
          49.4404591,
          48.8588897,
          49.8941708,
          50.6365654,
          48.584614,
          48.249489800000006,
          48.0777517,
          48.0447968,
          47.2380222,
          47.3215806,
          45.8992348,
          45.1875602,
          45.7578137,
          43.7496562,
          43.1506968,
          43.2140359,
          43.2961743,
          43.5298424,
          43.9492493,
          44.0121279,
          43.8374249,
          43.5658225,
          43.4522771,
          42.52505,
          43.2130358,
          42.9455368,
          43.6044622,
          44.0175835,
          43.47114375,
          43.4945144,
          46.1591126
         ],
         "legendgroup": "",
         "lon": [
          -1.511459954959514,
          -2.0260409,
          -0.7024738,
          0.1079732,
          1.0939658,
          2.3200410217200766,
          2.2956951,
          3.0635282,
          7.7507127,
          7.34429620253195,
          7.3579641,
          7.3079618,
          6.0243622,
          5.0414701,
          6.1288847,
          5.7357819,
          4.8320114,
          6.3285616,
          6.3419285,
          5.5396318,
          5.3699525,
          5.4474738,
          4.8059012,
          4.4196718,
          4.3600687,
          4.1912837,
          4.4287172,
          3.0831554,
          2.3491069,
          1.4065544156065486,
          1.4442469,
          1.3549991,
          -1.552726590666314,
          -1.4736657,
          -1.1520434
         ],
         "marker": {
          "color": [
           17.33,
           17.67,
           16.79,
           16.42,
           17.09,
           18.57,
           18.24,
           18.08,
           17.63,
           16.29,
           19.35,
           19.72,
           18.54,
           17.98,
           19.69,
           22.88,
           21.39,
           17.44,
           21.72,
           21.24,
           21.33,
           21.74,
           23.67,
           22.46,
           23.22,
           21.99,
           21.58,
           24.02,
           23.89,
           19.03,
           23.96,
           22.73,
           19.45,
           19.97,
           17.9
          ],
          "coloraxis": "coloraxis",
          "opacity": 0.7,
          "size": [
           17.33,
           17.67,
           16.79,
           16.42,
           17.09,
           18.57,
           18.24,
           18.08,
           17.63,
           16.29,
           19.35,
           19.72,
           18.54,
           17.98,
           19.69,
           22.88,
           21.39,
           17.44,
           21.72,
           21.24,
           21.33,
           21.74,
           23.67,
           22.46,
           23.22,
           21.99,
           21.58,
           24.02,
           23.89,
           19.03,
           23.96,
           22.73,
           19.45,
           19.97,
           17.9
          ],
          "sizemode": "area",
          "sizeref": 0.06005
         },
         "mode": "markers",
         "name": "",
         "showlegend": false,
         "subplot": "mapbox",
         "type": "scattermapbox"
        }
       ],
       "frames": [
        {
         "data": [
          {
           "customdata": [
            [
             "light rain",
             0.76,
             1.34,
             17.33,
             "2022-09-23"
            ],
            [
             "light rain",
             0.91,
             3.08,
             17.67,
             "2022-09-23"
            ],
            [
             "light rain",
             0.68,
             2.75,
             16.79,
             "2022-09-23"
            ],
            [
             "light rain",
             0.94,
             2.94,
             16.42,
             "2022-09-23"
            ],
            [
             "light rain",
             0.91,
             1.1,
             17.09,
             "2022-09-23"
            ],
            [
             "overcast clouds",
             0.14,
             null,
             18.57,
             "2022-09-23"
            ],
            [
             "light rain",
             0.57,
             3.45,
             18.24,
             "2022-09-23"
            ],
            [
             "light rain",
             0.78,
             3.42,
             18.08,
             "2022-09-23"
            ],
            [
             "overcast clouds",
             0,
             null,
             17.63,
             "2022-09-23"
            ],
            [
             "overcast clouds",
             0,
             null,
             16.29,
             "2022-09-23"
            ],
            [
             "overcast clouds",
             0,
             null,
             19.35,
             "2022-09-23"
            ],
            [
             "overcast clouds",
             0,
             null,
             19.72,
             "2022-09-23"
            ],
            [
             "overcast clouds",
             0.4,
             null,
             18.54,
             "2022-09-23"
            ],
            [
             "overcast clouds",
             0.17,
             null,
             17.98,
             "2022-09-23"
            ],
            [
             "overcast clouds",
             0.09,
             null,
             19.69,
             "2022-09-23"
            ],
            [
             "overcast clouds",
             0,
             null,
             22.88,
             "2022-09-23"
            ],
            [
             "light rain",
             0.75,
             1.42,
             21.39,
             "2022-09-23"
            ],
            [
             "broken clouds",
             0,
             null,
             17.44,
             "2022-09-23"
            ],
            [
             "broken clouds",
             0,
             null,
             21.72,
             "2022-09-23"
            ],
            [
             "broken clouds",
             0,
             null,
             21.24,
             "2022-09-23"
            ],
            [
             "broken clouds",
             0,
             null,
             21.33,
             "2022-09-23"
            ],
            [
             "broken clouds",
             0,
             null,
             21.74,
             "2022-09-23"
            ],
            [
             "broken clouds",
             0.06,
             null,
             23.67,
             "2022-09-23"
            ],
            [
             "light rain",
             0.35,
             0.11,
             22.46,
             "2022-09-23"
            ],
            [
             "light rain",
             0.39,
             0.13,
             23.22,
             "2022-09-23"
            ],
            [
             "light rain",
             0.53,
             0.54,
             21.99,
             "2022-09-23"
            ],
            [
             "light rain",
             0.34,
             0.37,
             21.58,
             "2022-09-23"
            ],
            [
             "moderate rain",
             1,
             1.46,
             24.02,
             "2022-09-23"
            ],
            [
             "light rain",
             1,
             1.25,
             23.89,
             "2022-09-23"
            ],
            [
             "moderate rain",
             0.99,
             2.21,
             19.03,
             "2022-09-23"
            ],
            [
             "moderate rain",
             0.99,
             4.76,
             23.96,
             "2022-09-23"
            ],
            [
             "moderate rain",
             1,
             3.67,
             22.73,
             "2022-09-23"
            ],
            [
             "light rain",
             0.81,
             1.59,
             19.45,
             "2022-09-23"
            ],
            [
             "light rain",
             0.85,
             1.8,
             19.97,
             "2022-09-23"
            ],
            [
             "overcast clouds",
             0.17,
             null,
             17.9,
             "2022-09-23"
            ]
           ],
           "hovertemplate": "<b>%{hovertext}</b><br><br>date=%{customdata[4]}<br>feels_like_day=%{marker.color}<br>lat=%{lat}<br>lon=%{lon}<br>weather_description=%{customdata[0]}<br>pop=%{customdata[1]}<br>rain=%{customdata[2]}<extra></extra>",
           "hovertext": [
            "Mont Saint Michel",
            "St Malo",
            "Bayeux",
            "Le Havre",
            "Rouen",
            "Paris",
            "Amiens",
            "Lille",
            "Strasbourg",
            "Chateau du Haut Koenigsbourg",
            "Colmar",
            "Eguisheim",
            "Besancon",
            "Dijon",
            "Annecy",
            "Grenoble",
            "Lyon",
            "Gorges du Verdon",
            "Bormes les Mimosas",
            "Cassis",
            "Marseille",
            "Aix en Provence",
            "Avignon",
            "Uzes",
            "Nimes",
            "Aigues Mortes",
            "Saintes Maries de la mer",
            "Collioure",
            "Carcassonne",
            "Ariege",
            "Toulouse",
            "Montauban",
            "Biarritz",
            "Bayonne",
            "La Rochelle"
           ],
           "ids": [
            "Mont Saint Michel",
            "St Malo",
            "Bayeux",
            "Le Havre",
            "Rouen",
            "Paris",
            "Amiens",
            "Lille",
            "Strasbourg",
            "Chateau du Haut Koenigsbourg",
            "Colmar",
            "Eguisheim",
            "Besancon",
            "Dijon",
            "Annecy",
            "Grenoble",
            "Lyon",
            "Gorges du Verdon",
            "Bormes les Mimosas",
            "Cassis",
            "Marseille",
            "Aix en Provence",
            "Avignon",
            "Uzes",
            "Nimes",
            "Aigues Mortes",
            "Saintes Maries de la mer",
            "Collioure",
            "Carcassonne",
            "Ariege",
            "Toulouse",
            "Montauban",
            "Biarritz",
            "Bayonne",
            "La Rochelle"
           ],
           "lat": [
            48.6359541,
            48.649518,
            49.2764624,
            49.4938975,
            49.4404591,
            48.8588897,
            49.8941708,
            50.6365654,
            48.584614,
            48.249489800000006,
            48.0777517,
            48.0447968,
            47.2380222,
            47.3215806,
            45.8992348,
            45.1875602,
            45.7578137,
            43.7496562,
            43.1506968,
            43.2140359,
            43.2961743,
            43.5298424,
            43.9492493,
            44.0121279,
            43.8374249,
            43.5658225,
            43.4522771,
            42.52505,
            43.2130358,
            42.9455368,
            43.6044622,
            44.0175835,
            43.47114375,
            43.4945144,
            46.1591126
           ],
           "legendgroup": "",
           "lon": [
            -1.511459954959514,
            -2.0260409,
            -0.7024738,
            0.1079732,
            1.0939658,
            2.3200410217200766,
            2.2956951,
            3.0635282,
            7.7507127,
            7.34429620253195,
            7.3579641,
            7.3079618,
            6.0243622,
            5.0414701,
            6.1288847,
            5.7357819,
            4.8320114,
            6.3285616,
            6.3419285,
            5.5396318,
            5.3699525,
            5.4474738,
            4.8059012,
            4.4196718,
            4.3600687,
            4.1912837,
            4.4287172,
            3.0831554,
            2.3491069,
            1.4065544156065486,
            1.4442469,
            1.3549991,
            -1.552726590666314,
            -1.4736657,
            -1.1520434
           ],
           "marker": {
            "color": [
             17.33,
             17.67,
             16.79,
             16.42,
             17.09,
             18.57,
             18.24,
             18.08,
             17.63,
             16.29,
             19.35,
             19.72,
             18.54,
             17.98,
             19.69,
             22.88,
             21.39,
             17.44,
             21.72,
             21.24,
             21.33,
             21.74,
             23.67,
             22.46,
             23.22,
             21.99,
             21.58,
             24.02,
             23.89,
             19.03,
             23.96,
             22.73,
             19.45,
             19.97,
             17.9
            ],
            "coloraxis": "coloraxis",
            "opacity": 0.7,
            "size": [
             17.33,
             17.67,
             16.79,
             16.42,
             17.09,
             18.57,
             18.24,
             18.08,
             17.63,
             16.29,
             19.35,
             19.72,
             18.54,
             17.98,
             19.69,
             22.88,
             21.39,
             17.44,
             21.72,
             21.24,
             21.33,
             21.74,
             23.67,
             22.46,
             23.22,
             21.99,
             21.58,
             24.02,
             23.89,
             19.03,
             23.96,
             22.73,
             19.45,
             19.97,
             17.9
            ],
            "sizemode": "area",
            "sizeref": 0.06005
           },
           "mode": "markers",
           "name": "",
           "showlegend": false,
           "subplot": "mapbox",
           "type": "scattermapbox"
          }
         ],
         "name": "2022-09-23"
        },
        {
         "data": [
          {
           "customdata": [
            [
             "light rain",
             0.74,
             1.89,
             17.07,
             "2022-09-24"
            ],
            [
             "light rain",
             0.71,
             1.81,
             16.54,
             "2022-09-24"
            ],
            [
             "light rain",
             0.79,
             4.16,
             16.26,
             "2022-09-24"
            ],
            [
             "light rain",
             0.9,
             4.5,
             15.47,
             "2022-09-24"
            ],
            [
             "moderate rain",
             1,
             20.08,
             13.43,
             "2022-09-24"
            ],
            [
             "light rain",
             0.78,
             1.35,
             15.92,
             "2022-09-24"
            ],
            [
             "moderate rain",
             0.9,
             6.8,
             14.16,
             "2022-09-24"
            ],
            [
             "moderate rain",
             0.82,
             10.21,
             12.54,
             "2022-09-24"
            ],
            [
             "moderate rain",
             0.8,
             6.62,
             15.87,
             "2022-09-24"
            ],
            [
             "moderate rain",
             0.83,
             8.1,
             11.97,
             "2022-09-24"
            ],
            [
             "moderate rain",
             0.93,
             8.35,
             14.33,
             "2022-09-24"
            ],
            [
             "moderate rain",
             0.94,
             8.63,
             14.24,
             "2022-09-24"
            ],
            [
             "moderate rain",
             1,
             11.5,
             16.4,
             "2022-09-24"
            ],
            [
             "light rain",
             0.79,
             2.79,
             17.5,
             "2022-09-24"
            ],
            [
             "moderate rain",
             1,
             15.43,
             13.4,
             "2022-09-24"
            ],
            [
             "moderate rain",
             1,
             11.65,
             15.86,
             "2022-09-24"
            ],
            [
             "moderate rain",
             1,
             13.51,
             19.81,
             "2022-09-24"
            ],
            [
             "moderate rain",
             1,
             13.62,
             11.03,
             "2022-09-24"
            ],
            [
             "moderate rain",
             1,
             20.13,
             16.8,
             "2022-09-24"
            ],
            [
             "moderate rain",
             1,
             22.9,
             17.21,
             "2022-09-24"
            ],
            [
             "moderate rain",
             1,
             21.93,
             17.49,
             "2022-09-24"
            ],
            [
             "moderate rain",
             1,
             14.31,
             15.74,
             "2022-09-24"
            ],
            [
             "moderate rain",
             1,
             8.89,
             17.82,
             "2022-09-24"
            ],
            [
             "moderate rain",
             1,
             13.83,
             16.9,
             "2022-09-24"
            ],
            [
             "heavy intensity rain",
             1,
             20.12,
             19.26,
             "2022-09-24"
            ],
            [
             "heavy intensity rain",
             1,
             41.24,
             19.63,
             "2022-09-24"
            ],
            [
             "heavy intensity rain",
             1,
             43.72,
             19.18,
             "2022-09-24"
            ],
            [
             "moderate rain",
             1,
             9.69,
             20.61,
             "2022-09-24"
            ],
            [
             "heavy intensity rain",
             1,
             13.46,
             21.55,
             "2022-09-24"
            ],
            [
             "moderate rain",
             0.96,
             13.43,
             13.66,
             "2022-09-24"
            ],
            [
             "light rain",
             0.72,
             1.18,
             19.83,
             "2022-09-24"
            ],
            [
             "light rain",
             0.76,
             0.23,
             20.39,
             "2022-09-24"
            ],
            [
             "heavy intensity rain",
             0.97,
             20.38,
             16.7,
             "2022-09-24"
            ],
            [
             "heavy intensity rain",
             1,
             21.17,
             16.85,
             "2022-09-24"
            ],
            [
             "light rain",
             0.78,
             4.43,
             17.96,
             "2022-09-24"
            ]
           ],
           "hovertemplate": "<b>%{hovertext}</b><br><br>date=%{customdata[4]}<br>feels_like_day=%{marker.color}<br>lat=%{lat}<br>lon=%{lon}<br>weather_description=%{customdata[0]}<br>pop=%{customdata[1]}<br>rain=%{customdata[2]}<extra></extra>",
           "hovertext": [
            "Mont Saint Michel",
            "St Malo",
            "Bayeux",
            "Le Havre",
            "Rouen",
            "Paris",
            "Amiens",
            "Lille",
            "Strasbourg",
            "Chateau du Haut Koenigsbourg",
            "Colmar",
            "Eguisheim",
            "Besancon",
            "Dijon",
            "Annecy",
            "Grenoble",
            "Lyon",
            "Gorges du Verdon",
            "Bormes les Mimosas",
            "Cassis",
            "Marseille",
            "Aix en Provence",
            "Avignon",
            "Uzes",
            "Nimes",
            "Aigues Mortes",
            "Saintes Maries de la mer",
            "Collioure",
            "Carcassonne",
            "Ariege",
            "Toulouse",
            "Montauban",
            "Biarritz",
            "Bayonne",
            "La Rochelle"
           ],
           "ids": [
            "Mont Saint Michel",
            "St Malo",
            "Bayeux",
            "Le Havre",
            "Rouen",
            "Paris",
            "Amiens",
            "Lille",
            "Strasbourg",
            "Chateau du Haut Koenigsbourg",
            "Colmar",
            "Eguisheim",
            "Besancon",
            "Dijon",
            "Annecy",
            "Grenoble",
            "Lyon",
            "Gorges du Verdon",
            "Bormes les Mimosas",
            "Cassis",
            "Marseille",
            "Aix en Provence",
            "Avignon",
            "Uzes",
            "Nimes",
            "Aigues Mortes",
            "Saintes Maries de la mer",
            "Collioure",
            "Carcassonne",
            "Ariege",
            "Toulouse",
            "Montauban",
            "Biarritz",
            "Bayonne",
            "La Rochelle"
           ],
           "lat": [
            48.6359541,
            48.649518,
            49.2764624,
            49.4938975,
            49.4404591,
            48.8588897,
            49.8941708,
            50.6365654,
            48.584614,
            48.249489800000006,
            48.0777517,
            48.0447968,
            47.2380222,
            47.3215806,
            45.8992348,
            45.1875602,
            45.7578137,
            43.7496562,
            43.1506968,
            43.2140359,
            43.2961743,
            43.5298424,
            43.9492493,
            44.0121279,
            43.8374249,
            43.5658225,
            43.4522771,
            42.52505,
            43.2130358,
            42.9455368,
            43.6044622,
            44.0175835,
            43.47114375,
            43.4945144,
            46.1591126
           ],
           "legendgroup": "",
           "lon": [
            -1.511459954959514,
            -2.0260409,
            -0.7024738,
            0.1079732,
            1.0939658,
            2.3200410217200766,
            2.2956951,
            3.0635282,
            7.7507127,
            7.34429620253195,
            7.3579641,
            7.3079618,
            6.0243622,
            5.0414701,
            6.1288847,
            5.7357819,
            4.8320114,
            6.3285616,
            6.3419285,
            5.5396318,
            5.3699525,
            5.4474738,
            4.8059012,
            4.4196718,
            4.3600687,
            4.1912837,
            4.4287172,
            3.0831554,
            2.3491069,
            1.4065544156065486,
            1.4442469,
            1.3549991,
            -1.552726590666314,
            -1.4736657,
            -1.1520434
           ],
           "marker": {
            "color": [
             17.07,
             16.54,
             16.26,
             15.47,
             13.43,
             15.92,
             14.16,
             12.54,
             15.87,
             11.97,
             14.33,
             14.24,
             16.4,
             17.5,
             13.4,
             15.86,
             19.81,
             11.03,
             16.8,
             17.21,
             17.49,
             15.74,
             17.82,
             16.9,
             19.26,
             19.63,
             19.18,
             20.61,
             21.55,
             13.66,
             19.83,
             20.39,
             16.7,
             16.85,
             17.96
            ],
            "coloraxis": "coloraxis",
            "opacity": 0.7,
            "size": [
             17.07,
             16.54,
             16.26,
             15.47,
             13.43,
             15.92,
             14.16,
             12.54,
             15.87,
             11.97,
             14.33,
             14.24,
             16.4,
             17.5,
             13.4,
             15.86,
             19.81,
             11.03,
             16.8,
             17.21,
             17.49,
             15.74,
             17.82,
             16.9,
             19.26,
             19.63,
             19.18,
             20.61,
             21.55,
             13.66,
             19.83,
             20.39,
             16.7,
             16.85,
             17.96
            ],
            "sizemode": "area",
            "sizeref": 0.06005
           },
           "mode": "markers",
           "name": "",
           "showlegend": false,
           "subplot": "mapbox",
           "type": "scattermapbox"
          }
         ],
         "name": "2022-09-24"
        },
        {
         "data": [
          {
           "customdata": [
            [
             "light rain",
             0.73,
             1.83,
             16.12,
             "2022-09-25"
            ],
            [
             "light rain",
             0.59,
             3.13,
             15.87,
             "2022-09-25"
            ],
            [
             "light rain",
             0.77,
             8.28,
             14.44,
             "2022-09-25"
            ],
            [
             "light rain",
             0.98,
             9.67,
             15.2,
             "2022-09-25"
            ],
            [
             "moderate rain",
             0.97,
             5.16,
             14.06,
             "2022-09-25"
            ],
            [
             "light rain",
             0.62,
             1.28,
             13.19,
             "2022-09-25"
            ],
            [
             "light rain",
             0.87,
             2.41,
             11.17,
             "2022-09-25"
            ],
            [
             "light rain",
             0.88,
             4.17,
             14.4,
             "2022-09-25"
            ],
            [
             "light rain",
             0.81,
             1.45,
             15.02,
             "2022-09-25"
            ],
            [
             "light rain",
             0.86,
             4.74,
             12.78,
             "2022-09-25"
            ],
            [
             "light rain",
             0.86,
             4.04,
             15.85,
             "2022-09-25"
            ],
            [
             "light rain",
             0.87,
             4.53,
             16.03,
             "2022-09-25"
            ],
            [
             "light rain",
             0.81,
             1.88,
             12.66,
             "2022-09-25"
            ],
            [
             "moderate rain",
             0.95,
             7.27,
             11.25,
             "2022-09-25"
            ],
            [
             "heavy intensity rain",
             1,
             21.23,
             12.43,
             "2022-09-25"
            ],
            [
             "moderate rain",
             1,
             15.17,
             14.85,
             "2022-09-25"
            ],
            [
             "light rain",
             1,
             3.91,
             13.26,
             "2022-09-25"
            ],
            [
             "light rain",
             0.6,
             0.22,
             11.41,
             "2022-09-25"
            ],
            [
             "light rain",
             0.67,
             1.18,
             17.69,
             "2022-09-25"
            ],
            [
             "moderate rain",
             0.89,
             5.49,
             18.52,
             "2022-09-25"
            ],
            [
             "moderate rain",
             0.95,
             8.42,
             18.93,
             "2022-09-25"
            ],
            [
             "light rain",
             0.94,
             5.87,
             18.36,
             "2022-09-25"
            ],
            [
             "moderate rain",
             1,
             3.71,
             19.86,
             "2022-09-25"
            ],
            [
             "light rain",
             1,
             1.19,
             19,
             "2022-09-25"
            ],
            [
             "moderate rain",
             1,
             1.25,
             19.65,
             "2022-09-25"
            ],
            [
             "light rain",
             1,
             0.68,
             19.34,
             "2022-09-25"
            ],
            [
             "light rain",
             1,
             0.95,
             18.86,
             "2022-09-25"
            ],
            [
             "moderate rain",
             0.92,
             4.02,
             19.81,
             "2022-09-25"
            ],
            [
             "moderate rain",
             0.92,
             4.69,
             17.69,
             "2022-09-25"
            ],
            [
             "moderate rain",
             0.91,
             5.61,
             10.35,
             "2022-09-25"
            ],
            [
             "light rain",
             0.8,
             0.34,
             17.84,
             "2022-09-25"
            ],
            [
             "light rain",
             0.76,
             1.83,
             17.98,
             "2022-09-25"
            ],
            [
             "light rain",
             0.89,
             3.84,
             17.84,
             "2022-09-25"
            ],
            [
             "light rain",
             0.92,
             3.18,
             18.52,
             "2022-09-25"
            ],
            [
             "light rain",
             0.45,
             0.35,
             15.6,
             "2022-09-25"
            ]
           ],
           "hovertemplate": "<b>%{hovertext}</b><br><br>date=%{customdata[4]}<br>feels_like_day=%{marker.color}<br>lat=%{lat}<br>lon=%{lon}<br>weather_description=%{customdata[0]}<br>pop=%{customdata[1]}<br>rain=%{customdata[2]}<extra></extra>",
           "hovertext": [
            "Mont Saint Michel",
            "St Malo",
            "Bayeux",
            "Le Havre",
            "Rouen",
            "Paris",
            "Amiens",
            "Lille",
            "Strasbourg",
            "Chateau du Haut Koenigsbourg",
            "Colmar",
            "Eguisheim",
            "Besancon",
            "Dijon",
            "Annecy",
            "Grenoble",
            "Lyon",
            "Gorges du Verdon",
            "Bormes les Mimosas",
            "Cassis",
            "Marseille",
            "Aix en Provence",
            "Avignon",
            "Uzes",
            "Nimes",
            "Aigues Mortes",
            "Saintes Maries de la mer",
            "Collioure",
            "Carcassonne",
            "Ariege",
            "Toulouse",
            "Montauban",
            "Biarritz",
            "Bayonne",
            "La Rochelle"
           ],
           "ids": [
            "Mont Saint Michel",
            "St Malo",
            "Bayeux",
            "Le Havre",
            "Rouen",
            "Paris",
            "Amiens",
            "Lille",
            "Strasbourg",
            "Chateau du Haut Koenigsbourg",
            "Colmar",
            "Eguisheim",
            "Besancon",
            "Dijon",
            "Annecy",
            "Grenoble",
            "Lyon",
            "Gorges du Verdon",
            "Bormes les Mimosas",
            "Cassis",
            "Marseille",
            "Aix en Provence",
            "Avignon",
            "Uzes",
            "Nimes",
            "Aigues Mortes",
            "Saintes Maries de la mer",
            "Collioure",
            "Carcassonne",
            "Ariege",
            "Toulouse",
            "Montauban",
            "Biarritz",
            "Bayonne",
            "La Rochelle"
           ],
           "lat": [
            48.6359541,
            48.649518,
            49.2764624,
            49.4938975,
            49.4404591,
            48.8588897,
            49.8941708,
            50.6365654,
            48.584614,
            48.249489800000006,
            48.0777517,
            48.0447968,
            47.2380222,
            47.3215806,
            45.8992348,
            45.1875602,
            45.7578137,
            43.7496562,
            43.1506968,
            43.2140359,
            43.2961743,
            43.5298424,
            43.9492493,
            44.0121279,
            43.8374249,
            43.5658225,
            43.4522771,
            42.52505,
            43.2130358,
            42.9455368,
            43.6044622,
            44.0175835,
            43.47114375,
            43.4945144,
            46.1591126
           ],
           "legendgroup": "",
           "lon": [
            -1.511459954959514,
            -2.0260409,
            -0.7024738,
            0.1079732,
            1.0939658,
            2.3200410217200766,
            2.2956951,
            3.0635282,
            7.7507127,
            7.34429620253195,
            7.3579641,
            7.3079618,
            6.0243622,
            5.0414701,
            6.1288847,
            5.7357819,
            4.8320114,
            6.3285616,
            6.3419285,
            5.5396318,
            5.3699525,
            5.4474738,
            4.8059012,
            4.4196718,
            4.3600687,
            4.1912837,
            4.4287172,
            3.0831554,
            2.3491069,
            1.4065544156065486,
            1.4442469,
            1.3549991,
            -1.552726590666314,
            -1.4736657,
            -1.1520434
           ],
           "marker": {
            "color": [
             16.12,
             15.87,
             14.44,
             15.2,
             14.06,
             13.19,
             11.17,
             14.4,
             15.02,
             12.78,
             15.85,
             16.03,
             12.66,
             11.25,
             12.43,
             14.85,
             13.26,
             11.41,
             17.69,
             18.52,
             18.93,
             18.36,
             19.86,
             19,
             19.65,
             19.34,
             18.86,
             19.81,
             17.69,
             10.35,
             17.84,
             17.98,
             17.84,
             18.52,
             15.6
            ],
            "coloraxis": "coloraxis",
            "opacity": 0.7,
            "size": [
             16.12,
             15.87,
             14.44,
             15.2,
             14.06,
             13.19,
             11.17,
             14.4,
             15.02,
             12.78,
             15.85,
             16.03,
             12.66,
             11.25,
             12.43,
             14.85,
             13.26,
             11.41,
             17.69,
             18.52,
             18.93,
             18.36,
             19.86,
             19,
             19.65,
             19.34,
             18.86,
             19.81,
             17.69,
             10.35,
             17.84,
             17.98,
             17.84,
             18.52,
             15.6
            ],
            "sizemode": "area",
            "sizeref": 0.06005
           },
           "mode": "markers",
           "name": "",
           "showlegend": false,
           "subplot": "mapbox",
           "type": "scattermapbox"
          }
         ],
         "name": "2022-09-25"
        },
        {
         "data": [
          {
           "customdata": [
            [
             "light rain",
             0.98,
             2.19,
             14.35,
             "2022-09-26"
            ],
            [
             "light rain",
             0.88,
             1.82,
             15.36,
             "2022-09-26"
            ],
            [
             "light rain",
             0.87,
             2.53,
             13.85,
             "2022-09-26"
            ],
            [
             "light rain",
             0.98,
             5.27,
             14.67,
             "2022-09-26"
            ],
            [
             "light rain",
             1,
             2.83,
             13.09,
             "2022-09-26"
            ],
            [
             "light rain",
             1,
             2.35,
             17.25,
             "2022-09-26"
            ],
            [
             "moderate rain",
             1,
             7.74,
             13.24,
             "2022-09-26"
            ],
            [
             "moderate rain",
             1,
             11.84,
             12.65,
             "2022-09-26"
            ],
            [
             "light rain",
             0.95,
             4.83,
             14.65,
             "2022-09-26"
            ],
            [
             "moderate rain",
             0.92,
             4.74,
             11.61,
             "2022-09-26"
            ],
            [
             "light rain",
             0.78,
             2.15,
             15.37,
             "2022-09-26"
            ],
            [
             "light rain",
             0.76,
             1.46,
             15.41,
             "2022-09-26"
            ],
            [
             "light rain",
             0.73,
             1.78,
             13.1,
             "2022-09-26"
            ],
            [
             "light rain",
             0.88,
             3.12,
             14.66,
             "2022-09-26"
            ],
            [
             "light rain",
             0.42,
             0.79,
             15.94,
             "2022-09-26"
            ],
            [
             "light rain",
             0.2,
             0.11,
             17.68,
             "2022-09-26"
            ],
            [
             "few clouds",
             0.11,
             null,
             18.45,
             "2022-09-26"
            ],
            [
             "scattered clouds",
             0,
             null,
             16.76,
             "2022-09-26"
            ],
            [
             "overcast clouds",
             0,
             null,
             21.12,
             "2022-09-26"
            ],
            [
             "broken clouds",
             0,
             null,
             19.96,
             "2022-09-26"
            ],
            [
             "scattered clouds",
             0,
             null,
             19.99,
             "2022-09-26"
            ],
            [
             "scattered clouds",
             0,
             null,
             19.62,
             "2022-09-26"
            ],
            [
             "clear sky",
             0,
             null,
             20.55,
             "2022-09-26"
            ],
            [
             "clear sky",
             0,
             null,
             20.25,
             "2022-09-26"
            ],
            [
             "clear sky",
             0,
             null,
             21.09,
             "2022-09-26"
            ],
            [
             "clear sky",
             0,
             null,
             20.8,
             "2022-09-26"
            ],
            [
             "few clouds",
             0,
             null,
             20.2,
             "2022-09-26"
            ],
            [
             "few clouds",
             0.07,
             null,
             21.77,
             "2022-09-26"
            ],
            [
             "few clouds",
             0.01,
             null,
             19.21,
             "2022-09-26"
            ],
            [
             "light rain",
             0.28,
             0.34,
             12.29,
             "2022-09-26"
            ],
            [
             "scattered clouds",
             0.05,
             null,
             19.14,
             "2022-09-26"
            ],
            [
             "scattered clouds",
             0,
             null,
             18.96,
             "2022-09-26"
            ],
            [
             "light rain",
             0.57,
             5.1,
             16.39,
             "2022-09-26"
            ],
            [
             "light rain",
             0.56,
             4.36,
             17.02,
             "2022-09-26"
            ],
            [
             "light rain",
             0.93,
             1.21,
             15.89,
             "2022-09-26"
            ]
           ],
           "hovertemplate": "<b>%{hovertext}</b><br><br>date=%{customdata[4]}<br>feels_like_day=%{marker.color}<br>lat=%{lat}<br>lon=%{lon}<br>weather_description=%{customdata[0]}<br>pop=%{customdata[1]}<br>rain=%{customdata[2]}<extra></extra>",
           "hovertext": [
            "Mont Saint Michel",
            "St Malo",
            "Bayeux",
            "Le Havre",
            "Rouen",
            "Paris",
            "Amiens",
            "Lille",
            "Strasbourg",
            "Chateau du Haut Koenigsbourg",
            "Colmar",
            "Eguisheim",
            "Besancon",
            "Dijon",
            "Annecy",
            "Grenoble",
            "Lyon",
            "Gorges du Verdon",
            "Bormes les Mimosas",
            "Cassis",
            "Marseille",
            "Aix en Provence",
            "Avignon",
            "Uzes",
            "Nimes",
            "Aigues Mortes",
            "Saintes Maries de la mer",
            "Collioure",
            "Carcassonne",
            "Ariege",
            "Toulouse",
            "Montauban",
            "Biarritz",
            "Bayonne",
            "La Rochelle"
           ],
           "ids": [
            "Mont Saint Michel",
            "St Malo",
            "Bayeux",
            "Le Havre",
            "Rouen",
            "Paris",
            "Amiens",
            "Lille",
            "Strasbourg",
            "Chateau du Haut Koenigsbourg",
            "Colmar",
            "Eguisheim",
            "Besancon",
            "Dijon",
            "Annecy",
            "Grenoble",
            "Lyon",
            "Gorges du Verdon",
            "Bormes les Mimosas",
            "Cassis",
            "Marseille",
            "Aix en Provence",
            "Avignon",
            "Uzes",
            "Nimes",
            "Aigues Mortes",
            "Saintes Maries de la mer",
            "Collioure",
            "Carcassonne",
            "Ariege",
            "Toulouse",
            "Montauban",
            "Biarritz",
            "Bayonne",
            "La Rochelle"
           ],
           "lat": [
            48.6359541,
            48.649518,
            49.2764624,
            49.4938975,
            49.4404591,
            48.8588897,
            49.8941708,
            50.6365654,
            48.584614,
            48.249489800000006,
            48.0777517,
            48.0447968,
            47.2380222,
            47.3215806,
            45.8992348,
            45.1875602,
            45.7578137,
            43.7496562,
            43.1506968,
            43.2140359,
            43.2961743,
            43.5298424,
            43.9492493,
            44.0121279,
            43.8374249,
            43.5658225,
            43.4522771,
            42.52505,
            43.2130358,
            42.9455368,
            43.6044622,
            44.0175835,
            43.47114375,
            43.4945144,
            46.1591126
           ],
           "legendgroup": "",
           "lon": [
            -1.511459954959514,
            -2.0260409,
            -0.7024738,
            0.1079732,
            1.0939658,
            2.3200410217200766,
            2.2956951,
            3.0635282,
            7.7507127,
            7.34429620253195,
            7.3579641,
            7.3079618,
            6.0243622,
            5.0414701,
            6.1288847,
            5.7357819,
            4.8320114,
            6.3285616,
            6.3419285,
            5.5396318,
            5.3699525,
            5.4474738,
            4.8059012,
            4.4196718,
            4.3600687,
            4.1912837,
            4.4287172,
            3.0831554,
            2.3491069,
            1.4065544156065486,
            1.4442469,
            1.3549991,
            -1.552726590666314,
            -1.4736657,
            -1.1520434
           ],
           "marker": {
            "color": [
             14.35,
             15.36,
             13.85,
             14.67,
             13.09,
             17.25,
             13.24,
             12.65,
             14.65,
             11.61,
             15.37,
             15.41,
             13.1,
             14.66,
             15.94,
             17.68,
             18.45,
             16.76,
             21.12,
             19.96,
             19.99,
             19.62,
             20.55,
             20.25,
             21.09,
             20.8,
             20.2,
             21.77,
             19.21,
             12.29,
             19.14,
             18.96,
             16.39,
             17.02,
             15.89
            ],
            "coloraxis": "coloraxis",
            "opacity": 0.7,
            "size": [
             14.35,
             15.36,
             13.85,
             14.67,
             13.09,
             17.25,
             13.24,
             12.65,
             14.65,
             11.61,
             15.37,
             15.41,
             13.1,
             14.66,
             15.94,
             17.68,
             18.45,
             16.76,
             21.12,
             19.96,
             19.99,
             19.62,
             20.55,
             20.25,
             21.09,
             20.8,
             20.2,
             21.77,
             19.21,
             12.29,
             19.14,
             18.96,
             16.39,
             17.02,
             15.89
            ],
            "sizemode": "area",
            "sizeref": 0.06005
           },
           "mode": "markers",
           "name": "",
           "showlegend": false,
           "subplot": "mapbox",
           "type": "scattermapbox"
          }
         ],
         "name": "2022-09-26"
        },
        {
         "data": [
          {
           "customdata": [
            [
             "moderate rain",
             1,
             5.91,
             14.94,
             "2022-09-27"
            ],
            [
             "moderate rain",
             1,
             7.35,
             16,
             "2022-09-27"
            ],
            [
             "light rain",
             0.76,
             3.34,
             14.61,
             "2022-09-27"
            ],
            [
             "light rain",
             0.69,
             3.55,
             14.65,
             "2022-09-27"
            ],
            [
             "light rain",
             0.86,
             3.3,
             12.62,
             "2022-09-27"
            ],
            [
             "light rain",
             1,
             1.2,
             15.04,
             "2022-09-27"
            ],
            [
             "light rain",
             0.95,
             2.65,
             12.72,
             "2022-09-27"
            ],
            [
             "light rain",
             0.93,
             1.39,
             13.42,
             "2022-09-27"
            ],
            [
             "light rain",
             0.97,
             5.56,
             14.18,
             "2022-09-27"
            ],
            [
             "light rain",
             1,
             4.72,
             10.6,
             "2022-09-27"
            ],
            [
             "light rain",
             1,
             2.99,
             14.54,
             "2022-09-27"
            ],
            [
             "light rain",
             1,
             2.73,
             14.41,
             "2022-09-27"
            ],
            [
             "light rain",
             1,
             7.21,
             14.32,
             "2022-09-27"
            ],
            [
             "light rain",
             1,
             2.15,
             12.61,
             "2022-09-27"
            ],
            [
             "light rain",
             1,
             4.41,
             13.6,
             "2022-09-27"
            ],
            [
             "light rain",
             0.87,
             3.62,
             14.89,
             "2022-09-27"
            ],
            [
             "light rain",
             0.97,
             2.78,
             16.09,
             "2022-09-27"
            ],
            [
             "broken clouds",
             0,
             null,
             14.49,
             "2022-09-27"
            ],
            [
             "few clouds",
             0,
             null,
             19.54,
             "2022-09-27"
            ],
            [
             "broken clouds",
             0,
             null,
             19.32,
             "2022-09-27"
            ],
            [
             "broken clouds",
             0,
             null,
             19.61,
             "2022-09-27"
            ],
            [
             "scattered clouds",
             0,
             null,
             18.07,
             "2022-09-27"
            ],
            [
             "scattered clouds",
             0,
             null,
             19.49,
             "2022-09-27"
            ],
            [
             "scattered clouds",
             0.03,
             null,
             19.69,
             "2022-09-27"
            ],
            [
             "broken clouds",
             0.03,
             null,
             20.34,
             "2022-09-27"
            ],
            [
             "broken clouds",
             0.07,
             null,
             19.36,
             "2022-09-27"
            ],
            [
             "broken clouds",
             0.07,
             null,
             19.38,
             "2022-09-27"
            ],
            [
             "overcast clouds",
             0.29,
             null,
             19.3,
             "2022-09-27"
            ],
            [
             "light rain",
             0.61,
             2.22,
             14.59,
             "2022-09-27"
            ],
            [
             "light rain",
             0.76,
             4.05,
             7.02,
             "2022-09-27"
            ],
            [
             "light rain",
             0.96,
             2.87,
             15.81,
             "2022-09-27"
            ],
            [
             "light rain",
             1,
             3,
             16.17,
             "2022-09-27"
            ],
            [
             "moderate rain",
             1,
             21.87,
             18.22,
             "2022-09-27"
            ],
            [
             "moderate rain",
             1,
             21.83,
             18.94,
             "2022-09-27"
            ],
            [
             "light rain",
             0.7,
             0.86,
             17.19,
             "2022-09-27"
            ]
           ],
           "hovertemplate": "<b>%{hovertext}</b><br><br>date=%{customdata[4]}<br>feels_like_day=%{marker.color}<br>lat=%{lat}<br>lon=%{lon}<br>weather_description=%{customdata[0]}<br>pop=%{customdata[1]}<br>rain=%{customdata[2]}<extra></extra>",
           "hovertext": [
            "Mont Saint Michel",
            "St Malo",
            "Bayeux",
            "Le Havre",
            "Rouen",
            "Paris",
            "Amiens",
            "Lille",
            "Strasbourg",
            "Chateau du Haut Koenigsbourg",
            "Colmar",
            "Eguisheim",
            "Besancon",
            "Dijon",
            "Annecy",
            "Grenoble",
            "Lyon",
            "Gorges du Verdon",
            "Bormes les Mimosas",
            "Cassis",
            "Marseille",
            "Aix en Provence",
            "Avignon",
            "Uzes",
            "Nimes",
            "Aigues Mortes",
            "Saintes Maries de la mer",
            "Collioure",
            "Carcassonne",
            "Ariege",
            "Toulouse",
            "Montauban",
            "Biarritz",
            "Bayonne",
            "La Rochelle"
           ],
           "ids": [
            "Mont Saint Michel",
            "St Malo",
            "Bayeux",
            "Le Havre",
            "Rouen",
            "Paris",
            "Amiens",
            "Lille",
            "Strasbourg",
            "Chateau du Haut Koenigsbourg",
            "Colmar",
            "Eguisheim",
            "Besancon",
            "Dijon",
            "Annecy",
            "Grenoble",
            "Lyon",
            "Gorges du Verdon",
            "Bormes les Mimosas",
            "Cassis",
            "Marseille",
            "Aix en Provence",
            "Avignon",
            "Uzes",
            "Nimes",
            "Aigues Mortes",
            "Saintes Maries de la mer",
            "Collioure",
            "Carcassonne",
            "Ariege",
            "Toulouse",
            "Montauban",
            "Biarritz",
            "Bayonne",
            "La Rochelle"
           ],
           "lat": [
            48.6359541,
            48.649518,
            49.2764624,
            49.4938975,
            49.4404591,
            48.8588897,
            49.8941708,
            50.6365654,
            48.584614,
            48.249489800000006,
            48.0777517,
            48.0447968,
            47.2380222,
            47.3215806,
            45.8992348,
            45.1875602,
            45.7578137,
            43.7496562,
            43.1506968,
            43.2140359,
            43.2961743,
            43.5298424,
            43.9492493,
            44.0121279,
            43.8374249,
            43.5658225,
            43.4522771,
            42.52505,
            43.2130358,
            42.9455368,
            43.6044622,
            44.0175835,
            43.47114375,
            43.4945144,
            46.1591126
           ],
           "legendgroup": "",
           "lon": [
            -1.511459954959514,
            -2.0260409,
            -0.7024738,
            0.1079732,
            1.0939658,
            2.3200410217200766,
            2.2956951,
            3.0635282,
            7.7507127,
            7.34429620253195,
            7.3579641,
            7.3079618,
            6.0243622,
            5.0414701,
            6.1288847,
            5.7357819,
            4.8320114,
            6.3285616,
            6.3419285,
            5.5396318,
            5.3699525,
            5.4474738,
            4.8059012,
            4.4196718,
            4.3600687,
            4.1912837,
            4.4287172,
            3.0831554,
            2.3491069,
            1.4065544156065486,
            1.4442469,
            1.3549991,
            -1.552726590666314,
            -1.4736657,
            -1.1520434
           ],
           "marker": {
            "color": [
             14.94,
             16,
             14.61,
             14.65,
             12.62,
             15.04,
             12.72,
             13.42,
             14.18,
             10.6,
             14.54,
             14.41,
             14.32,
             12.61,
             13.6,
             14.89,
             16.09,
             14.49,
             19.54,
             19.32,
             19.61,
             18.07,
             19.49,
             19.69,
             20.34,
             19.36,
             19.38,
             19.3,
             14.59,
             7.02,
             15.81,
             16.17,
             18.22,
             18.94,
             17.19
            ],
            "coloraxis": "coloraxis",
            "opacity": 0.7,
            "size": [
             14.94,
             16,
             14.61,
             14.65,
             12.62,
             15.04,
             12.72,
             13.42,
             14.18,
             10.6,
             14.54,
             14.41,
             14.32,
             12.61,
             13.6,
             14.89,
             16.09,
             14.49,
             19.54,
             19.32,
             19.61,
             18.07,
             19.49,
             19.69,
             20.34,
             19.36,
             19.38,
             19.3,
             14.59,
             7.02,
             15.81,
             16.17,
             18.22,
             18.94,
             17.19
            ],
            "sizemode": "area",
            "sizeref": 0.06005
           },
           "mode": "markers",
           "name": "",
           "showlegend": false,
           "subplot": "mapbox",
           "type": "scattermapbox"
          }
         ],
         "name": "2022-09-27"
        },
        {
         "data": [
          {
           "customdata": [
            [
             "moderate rain",
             1,
             16.64,
             14.31,
             "2022-09-28"
            ],
            [
             "moderate rain",
             0.98,
             13.16,
             14.28,
             "2022-09-28"
            ],
            [
             "moderate rain",
             0.99,
             8.87,
             13.26,
             "2022-09-28"
            ],
            [
             "light rain",
             0.82,
             5.18,
             14.75,
             "2022-09-28"
            ],
            [
             "light rain",
             0.57,
             1.27,
             14.48,
             "2022-09-28"
            ],
            [
             "light rain",
             0.71,
             1.96,
             15.11,
             "2022-09-28"
            ],
            [
             "light rain",
             0.66,
             0.99,
             14.03,
             "2022-09-28"
            ],
            [
             "light rain",
             0.44,
             0.38,
             13.35,
             "2022-09-28"
            ],
            [
             "light rain",
             1,
             7.81,
             10.78,
             "2022-09-28"
            ],
            [
             "moderate rain",
             1,
             11.43,
             8.07,
             "2022-09-28"
            ],
            [
             "moderate rain",
             1,
             14.3,
             12.4,
             "2022-09-28"
            ],
            [
             "moderate rain",
             1,
             15.82,
             12.43,
             "2022-09-28"
            ],
            [
             "moderate rain",
             1,
             26.25,
             12.03,
             "2022-09-28"
            ],
            [
             "moderate rain",
             1,
             18.11,
             12.56,
             "2022-09-28"
            ],
            [
             "moderate rain",
             1,
             30.5,
             10.86,
             "2022-09-28"
            ],
            [
             "moderate rain",
             1,
             20.66,
             13.37,
             "2022-09-28"
            ],
            [
             "moderate rain",
             1,
             9.25,
             13.18,
             "2022-09-28"
            ],
            [
             "light rain",
             0.54,
             0.92,
             13.34,
             "2022-09-28"
            ],
            [
             "broken clouds",
             0.2,
             null,
             20.94,
             "2022-09-28"
            ],
            [
             "light rain",
             0.76,
             1.24,
             20.32,
             "2022-09-28"
            ],
            [
             "light rain",
             0.81,
             1.13,
             20.39,
             "2022-09-28"
            ],
            [
             "light rain",
             0.88,
             1.72,
             18.37,
             "2022-09-28"
            ],
            [
             "light rain",
             0.62,
             0.79,
             19.29,
             "2022-09-28"
            ],
            [
             "light rain",
             0.44,
             0.32,
             19.06,
             "2022-09-28"
            ],
            [
             "light rain",
             0.35,
             0.43,
             19.7,
             "2022-09-28"
            ],
            [
             "light rain",
             0.37,
             0.65,
             19.69,
             "2022-09-28"
            ],
            [
             "light rain",
             0.27,
             0.58,
             19.82,
             "2022-09-28"
            ],
            [
             "light rain",
             0.4,
             0.17,
             20.6,
             "2022-09-28"
            ],
            [
             "light rain",
             0.89,
             4.42,
             16.82,
             "2022-09-28"
            ],
            [
             "light rain",
             0.82,
             5.23,
             9.54,
             "2022-09-28"
            ],
            [
             "light rain",
             1,
             6.25,
             17.82,
             "2022-09-28"
            ],
            [
             "light rain",
             1,
             8.73,
             18.25,
             "2022-09-28"
            ],
            [
             "moderate rain",
             1,
             19,
             17.38,
             "2022-09-28"
            ],
            [
             "moderate rain",
             1,
             20.42,
             17.87,
             "2022-09-28"
            ],
            [
             "light rain",
             1,
             6.59,
             17.24,
             "2022-09-28"
            ]
           ],
           "hovertemplate": "<b>%{hovertext}</b><br><br>date=%{customdata[4]}<br>feels_like_day=%{marker.color}<br>lat=%{lat}<br>lon=%{lon}<br>weather_description=%{customdata[0]}<br>pop=%{customdata[1]}<br>rain=%{customdata[2]}<extra></extra>",
           "hovertext": [
            "Mont Saint Michel",
            "St Malo",
            "Bayeux",
            "Le Havre",
            "Rouen",
            "Paris",
            "Amiens",
            "Lille",
            "Strasbourg",
            "Chateau du Haut Koenigsbourg",
            "Colmar",
            "Eguisheim",
            "Besancon",
            "Dijon",
            "Annecy",
            "Grenoble",
            "Lyon",
            "Gorges du Verdon",
            "Bormes les Mimosas",
            "Cassis",
            "Marseille",
            "Aix en Provence",
            "Avignon",
            "Uzes",
            "Nimes",
            "Aigues Mortes",
            "Saintes Maries de la mer",
            "Collioure",
            "Carcassonne",
            "Ariege",
            "Toulouse",
            "Montauban",
            "Biarritz",
            "Bayonne",
            "La Rochelle"
           ],
           "ids": [
            "Mont Saint Michel",
            "St Malo",
            "Bayeux",
            "Le Havre",
            "Rouen",
            "Paris",
            "Amiens",
            "Lille",
            "Strasbourg",
            "Chateau du Haut Koenigsbourg",
            "Colmar",
            "Eguisheim",
            "Besancon",
            "Dijon",
            "Annecy",
            "Grenoble",
            "Lyon",
            "Gorges du Verdon",
            "Bormes les Mimosas",
            "Cassis",
            "Marseille",
            "Aix en Provence",
            "Avignon",
            "Uzes",
            "Nimes",
            "Aigues Mortes",
            "Saintes Maries de la mer",
            "Collioure",
            "Carcassonne",
            "Ariege",
            "Toulouse",
            "Montauban",
            "Biarritz",
            "Bayonne",
            "La Rochelle"
           ],
           "lat": [
            48.6359541,
            48.649518,
            49.2764624,
            49.4938975,
            49.4404591,
            48.8588897,
            49.8941708,
            50.6365654,
            48.584614,
            48.249489800000006,
            48.0777517,
            48.0447968,
            47.2380222,
            47.3215806,
            45.8992348,
            45.1875602,
            45.7578137,
            43.7496562,
            43.1506968,
            43.2140359,
            43.2961743,
            43.5298424,
            43.9492493,
            44.0121279,
            43.8374249,
            43.5658225,
            43.4522771,
            42.52505,
            43.2130358,
            42.9455368,
            43.6044622,
            44.0175835,
            43.47114375,
            43.4945144,
            46.1591126
           ],
           "legendgroup": "",
           "lon": [
            -1.511459954959514,
            -2.0260409,
            -0.7024738,
            0.1079732,
            1.0939658,
            2.3200410217200766,
            2.2956951,
            3.0635282,
            7.7507127,
            7.34429620253195,
            7.3579641,
            7.3079618,
            6.0243622,
            5.0414701,
            6.1288847,
            5.7357819,
            4.8320114,
            6.3285616,
            6.3419285,
            5.5396318,
            5.3699525,
            5.4474738,
            4.8059012,
            4.4196718,
            4.3600687,
            4.1912837,
            4.4287172,
            3.0831554,
            2.3491069,
            1.4065544156065486,
            1.4442469,
            1.3549991,
            -1.552726590666314,
            -1.4736657,
            -1.1520434
           ],
           "marker": {
            "color": [
             14.31,
             14.28,
             13.26,
             14.75,
             14.48,
             15.11,
             14.03,
             13.35,
             10.78,
             8.07,
             12.4,
             12.43,
             12.03,
             12.56,
             10.86,
             13.37,
             13.18,
             13.34,
             20.94,
             20.32,
             20.39,
             18.37,
             19.29,
             19.06,
             19.7,
             19.69,
             19.82,
             20.6,
             16.82,
             9.54,
             17.82,
             18.25,
             17.38,
             17.87,
             17.24
            ],
            "coloraxis": "coloraxis",
            "opacity": 0.7,
            "size": [
             14.31,
             14.28,
             13.26,
             14.75,
             14.48,
             15.11,
             14.03,
             13.35,
             10.78,
             8.07,
             12.4,
             12.43,
             12.03,
             12.56,
             10.86,
             13.37,
             13.18,
             13.34,
             20.94,
             20.32,
             20.39,
             18.37,
             19.29,
             19.06,
             19.7,
             19.69,
             19.82,
             20.6,
             16.82,
             9.54,
             17.82,
             18.25,
             17.38,
             17.87,
             17.24
            ],
            "sizemode": "area",
            "sizeref": 0.06005
           },
           "mode": "markers",
           "name": "",
           "showlegend": false,
           "subplot": "mapbox",
           "type": "scattermapbox"
          }
         ],
         "name": "2022-09-28"
        },
        {
         "data": [
          {
           "customdata": [
            [
             "light rain",
             0.98,
             11.74,
             14.68,
             "2022-09-29"
            ],
            [
             "light rain",
             0.94,
             9.13,
             14.8,
             "2022-09-29"
            ],
            [
             "light rain",
             1,
             7.52,
             14.03,
             "2022-09-29"
            ],
            [
             "moderate rain",
             1,
             13.44,
             13.98,
             "2022-09-29"
            ],
            [
             "light rain",
             1,
             6.98,
             13.76,
             "2022-09-29"
            ],
            [
             "light rain",
             1,
             2.84,
             11.3,
             "2022-09-29"
            ],
            [
             "light rain",
             0.93,
             4.18,
             12.88,
             "2022-09-29"
            ],
            [
             "light rain",
             0.56,
             1,
             14.27,
             "2022-09-29"
            ],
            [
             "light rain",
             0.84,
             6.8,
             13.85,
             "2022-09-29"
            ],
            [
             "light rain",
             0.92,
             5.87,
             10.1,
             "2022-09-29"
            ],
            [
             "moderate rain",
             0.95,
             7.05,
             13.92,
             "2022-09-29"
            ],
            [
             "moderate rain",
             0.95,
             7.08,
             14.05,
             "2022-09-29"
            ],
            [
             "light rain",
             0.96,
             5.08,
             12.73,
             "2022-09-29"
            ],
            [
             "light rain",
             1,
             6.01,
             13.5,
             "2022-09-29"
            ],
            [
             "light rain",
             1,
             5.63,
             11.47,
             "2022-09-29"
            ],
            [
             "light rain",
             0.83,
             4.44,
             15.88,
             "2022-09-29"
            ],
            [
             "moderate rain",
             0.92,
             8.44,
             12.47,
             "2022-09-29"
            ],
            [
             "overcast clouds",
             0.03,
             null,
             15.28,
             "2022-09-29"
            ],
            [
             "broken clouds",
             0.08,
             null,
             20.36,
             "2022-09-29"
            ],
            [
             "overcast clouds",
             0.1,
             null,
             19.35,
             "2022-09-29"
            ],
            [
             "overcast clouds",
             0.11,
             null,
             19.41,
             "2022-09-29"
            ],
            [
             "overcast clouds",
             0.04,
             null,
             19.16,
             "2022-09-29"
            ],
            [
             "light rain",
             0.35,
             0.1,
             20.57,
             "2022-09-29"
            ],
            [
             "overcast clouds",
             0.37,
             null,
             17.56,
             "2022-09-29"
            ],
            [
             "overcast clouds",
             0.23,
             null,
             18.86,
             "2022-09-29"
            ],
            [
             "overcast clouds",
             0.12,
             null,
             18.14,
             "2022-09-29"
            ],
            [
             "overcast clouds",
             0.08,
             null,
             18.95,
             "2022-09-29"
            ],
            [
             "light rain",
             0.59,
             7.92,
             19.93,
             "2022-09-29"
            ],
            [
             "light rain",
             0.8,
             4.71,
             15.63,
             "2022-09-29"
            ],
            [
             "moderate rain",
             0.98,
             5.53,
             5.89,
             "2022-09-29"
            ],
            [
             "moderate rain",
             1,
             14.21,
             16.33,
             "2022-09-29"
            ],
            [
             "moderate rain",
             1,
             23.36,
             16.72,
             "2022-09-29"
            ],
            [
             "moderate rain",
             1,
             34.49,
             15.85,
             "2022-09-29"
            ],
            [
             "moderate rain",
             1,
             34.64,
             16.27,
             "2022-09-29"
            ],
            [
             "light rain",
             0.66,
             3.2,
             16.38,
             "2022-09-29"
            ]
           ],
           "hovertemplate": "<b>%{hovertext}</b><br><br>date=%{customdata[4]}<br>feels_like_day=%{marker.color}<br>lat=%{lat}<br>lon=%{lon}<br>weather_description=%{customdata[0]}<br>pop=%{customdata[1]}<br>rain=%{customdata[2]}<extra></extra>",
           "hovertext": [
            "Mont Saint Michel",
            "St Malo",
            "Bayeux",
            "Le Havre",
            "Rouen",
            "Paris",
            "Amiens",
            "Lille",
            "Strasbourg",
            "Chateau du Haut Koenigsbourg",
            "Colmar",
            "Eguisheim",
            "Besancon",
            "Dijon",
            "Annecy",
            "Grenoble",
            "Lyon",
            "Gorges du Verdon",
            "Bormes les Mimosas",
            "Cassis",
            "Marseille",
            "Aix en Provence",
            "Avignon",
            "Uzes",
            "Nimes",
            "Aigues Mortes",
            "Saintes Maries de la mer",
            "Collioure",
            "Carcassonne",
            "Ariege",
            "Toulouse",
            "Montauban",
            "Biarritz",
            "Bayonne",
            "La Rochelle"
           ],
           "ids": [
            "Mont Saint Michel",
            "St Malo",
            "Bayeux",
            "Le Havre",
            "Rouen",
            "Paris",
            "Amiens",
            "Lille",
            "Strasbourg",
            "Chateau du Haut Koenigsbourg",
            "Colmar",
            "Eguisheim",
            "Besancon",
            "Dijon",
            "Annecy",
            "Grenoble",
            "Lyon",
            "Gorges du Verdon",
            "Bormes les Mimosas",
            "Cassis",
            "Marseille",
            "Aix en Provence",
            "Avignon",
            "Uzes",
            "Nimes",
            "Aigues Mortes",
            "Saintes Maries de la mer",
            "Collioure",
            "Carcassonne",
            "Ariege",
            "Toulouse",
            "Montauban",
            "Biarritz",
            "Bayonne",
            "La Rochelle"
           ],
           "lat": [
            48.6359541,
            48.649518,
            49.2764624,
            49.4938975,
            49.4404591,
            48.8588897,
            49.8941708,
            50.6365654,
            48.584614,
            48.249489800000006,
            48.0777517,
            48.0447968,
            47.2380222,
            47.3215806,
            45.8992348,
            45.1875602,
            45.7578137,
            43.7496562,
            43.1506968,
            43.2140359,
            43.2961743,
            43.5298424,
            43.9492493,
            44.0121279,
            43.8374249,
            43.5658225,
            43.4522771,
            42.52505,
            43.2130358,
            42.9455368,
            43.6044622,
            44.0175835,
            43.47114375,
            43.4945144,
            46.1591126
           ],
           "legendgroup": "",
           "lon": [
            -1.511459954959514,
            -2.0260409,
            -0.7024738,
            0.1079732,
            1.0939658,
            2.3200410217200766,
            2.2956951,
            3.0635282,
            7.7507127,
            7.34429620253195,
            7.3579641,
            7.3079618,
            6.0243622,
            5.0414701,
            6.1288847,
            5.7357819,
            4.8320114,
            6.3285616,
            6.3419285,
            5.5396318,
            5.3699525,
            5.4474738,
            4.8059012,
            4.4196718,
            4.3600687,
            4.1912837,
            4.4287172,
            3.0831554,
            2.3491069,
            1.4065544156065486,
            1.4442469,
            1.3549991,
            -1.552726590666314,
            -1.4736657,
            -1.1520434
           ],
           "marker": {
            "color": [
             14.68,
             14.8,
             14.03,
             13.98,
             13.76,
             11.3,
             12.88,
             14.27,
             13.85,
             10.1,
             13.92,
             14.05,
             12.73,
             13.5,
             11.47,
             15.88,
             12.47,
             15.28,
             20.36,
             19.35,
             19.41,
             19.16,
             20.57,
             17.56,
             18.86,
             18.14,
             18.95,
             19.93,
             15.63,
             5.89,
             16.33,
             16.72,
             15.85,
             16.27,
             16.38
            ],
            "coloraxis": "coloraxis",
            "opacity": 0.7,
            "size": [
             14.68,
             14.8,
             14.03,
             13.98,
             13.76,
             11.3,
             12.88,
             14.27,
             13.85,
             10.1,
             13.92,
             14.05,
             12.73,
             13.5,
             11.47,
             15.88,
             12.47,
             15.28,
             20.36,
             19.35,
             19.41,
             19.16,
             20.57,
             17.56,
             18.86,
             18.14,
             18.95,
             19.93,
             15.63,
             5.89,
             16.33,
             16.72,
             15.85,
             16.27,
             16.38
            ],
            "sizemode": "area",
            "sizeref": 0.06005
           },
           "mode": "markers",
           "name": "",
           "showlegend": false,
           "subplot": "mapbox",
           "type": "scattermapbox"
          }
         ],
         "name": "2022-09-29"
        },
        {
         "data": [
          {
           "customdata": [
            [
             "clear sky",
             0.16,
             null,
             15.97,
             "2022-09-30"
            ],
            [
             "light rain",
             0.28,
             0.57,
             15.8,
             "2022-09-30"
            ],
            [
             "clear sky",
             0,
             null,
             15.93,
             "2022-09-30"
            ],
            [
             "clear sky",
             0.06,
             null,
             14.21,
             "2022-09-30"
            ],
            [
             "clear sky",
             0.08,
             null,
             15.9,
             "2022-09-30"
            ],
            [
             "clear sky",
             0.07,
             null,
             15.81,
             "2022-09-30"
            ],
            [
             "clear sky",
             0,
             null,
             15.43,
             "2022-09-30"
            ],
            [
             "clear sky",
             0.06,
             null,
             15.6,
             "2022-09-30"
            ],
            [
             "light rain",
             0.73,
             0.77,
             14.28,
             "2022-09-30"
            ],
            [
             "moderate rain",
             0.9,
             7.12,
             11,
             "2022-09-30"
            ],
            [
             "light rain",
             0.93,
             6.14,
             14.71,
             "2022-09-30"
            ],
            [
             "light rain",
             0.94,
             6.86,
             14.61,
             "2022-09-30"
            ],
            [
             "light rain",
             0.58,
             1.8,
             13.77,
             "2022-09-30"
            ],
            [
             "light rain",
             0.69,
             0.92,
             13.97,
             "2022-09-30"
            ],
            [
             "light rain",
             0.54,
             1.37,
             14.07,
             "2022-09-30"
            ],
            [
             "light rain",
             0.23,
             0.11,
             15.08,
             "2022-09-30"
            ],
            [
             "light rain",
             0.84,
             0.38,
             15.74,
             "2022-09-30"
            ],
            [
             "light rain",
             0.36,
             0.23,
             12.94,
             "2022-09-30"
            ],
            [
             "light rain",
             0.57,
             2.05,
             17.58,
             "2022-09-30"
            ],
            [
             "moderate rain",
             0.76,
             6.1,
             13.68,
             "2022-09-30"
            ],
            [
             "light rain",
             0.68,
             4.9,
             13.62,
             "2022-09-30"
            ],
            [
             "light rain",
             0.48,
             1.47,
             12.46,
             "2022-09-30"
            ],
            [
             "overcast clouds",
             0.17,
             null,
             16.15,
             "2022-09-30"
            ],
            [
             "overcast clouds",
             0.08,
             null,
             15.95,
             "2022-09-30"
            ],
            [
             "overcast clouds",
             0.21,
             null,
             16.52,
             "2022-09-30"
            ],
            [
             "light rain",
             0.43,
             0.14,
             16.36,
             "2022-09-30"
            ],
            [
             "light rain",
             0.52,
             0.63,
             16.65,
             "2022-09-30"
            ],
            [
             "moderate rain",
             0.98,
             8.7,
             13.36,
             "2022-09-30"
            ],
            [
             "moderate rain",
             1,
             10.09,
             11.25,
             "2022-09-30"
            ],
            [
             "moderate rain",
             1,
             18.96,
             3.63,
             "2022-09-30"
            ],
            [
             "moderate rain",
             1,
             13.29,
             14.33,
             "2022-09-30"
            ],
            [
             "moderate rain",
             0.93,
             12.87,
             16.1,
             "2022-09-30"
            ],
            [
             "heavy intensity rain",
             1,
             58.3,
             15.85,
             "2022-09-30"
            ],
            [
             "heavy intensity rain",
             1,
             57.65,
             16.44,
             "2022-09-30"
            ],
            [
             "light rain",
             0.43,
             0.47,
             16.23,
             "2022-09-30"
            ]
           ],
           "hovertemplate": "<b>%{hovertext}</b><br><br>date=%{customdata[4]}<br>feels_like_day=%{marker.color}<br>lat=%{lat}<br>lon=%{lon}<br>weather_description=%{customdata[0]}<br>pop=%{customdata[1]}<br>rain=%{customdata[2]}<extra></extra>",
           "hovertext": [
            "Mont Saint Michel",
            "St Malo",
            "Bayeux",
            "Le Havre",
            "Rouen",
            "Paris",
            "Amiens",
            "Lille",
            "Strasbourg",
            "Chateau du Haut Koenigsbourg",
            "Colmar",
            "Eguisheim",
            "Besancon",
            "Dijon",
            "Annecy",
            "Grenoble",
            "Lyon",
            "Gorges du Verdon",
            "Bormes les Mimosas",
            "Cassis",
            "Marseille",
            "Aix en Provence",
            "Avignon",
            "Uzes",
            "Nimes",
            "Aigues Mortes",
            "Saintes Maries de la mer",
            "Collioure",
            "Carcassonne",
            "Ariege",
            "Toulouse",
            "Montauban",
            "Biarritz",
            "Bayonne",
            "La Rochelle"
           ],
           "ids": [
            "Mont Saint Michel",
            "St Malo",
            "Bayeux",
            "Le Havre",
            "Rouen",
            "Paris",
            "Amiens",
            "Lille",
            "Strasbourg",
            "Chateau du Haut Koenigsbourg",
            "Colmar",
            "Eguisheim",
            "Besancon",
            "Dijon",
            "Annecy",
            "Grenoble",
            "Lyon",
            "Gorges du Verdon",
            "Bormes les Mimosas",
            "Cassis",
            "Marseille",
            "Aix en Provence",
            "Avignon",
            "Uzes",
            "Nimes",
            "Aigues Mortes",
            "Saintes Maries de la mer",
            "Collioure",
            "Carcassonne",
            "Ariege",
            "Toulouse",
            "Montauban",
            "Biarritz",
            "Bayonne",
            "La Rochelle"
           ],
           "lat": [
            48.6359541,
            48.649518,
            49.2764624,
            49.4938975,
            49.4404591,
            48.8588897,
            49.8941708,
            50.6365654,
            48.584614,
            48.249489800000006,
            48.0777517,
            48.0447968,
            47.2380222,
            47.3215806,
            45.8992348,
            45.1875602,
            45.7578137,
            43.7496562,
            43.1506968,
            43.2140359,
            43.2961743,
            43.5298424,
            43.9492493,
            44.0121279,
            43.8374249,
            43.5658225,
            43.4522771,
            42.52505,
            43.2130358,
            42.9455368,
            43.6044622,
            44.0175835,
            43.47114375,
            43.4945144,
            46.1591126
           ],
           "legendgroup": "",
           "lon": [
            -1.511459954959514,
            -2.0260409,
            -0.7024738,
            0.1079732,
            1.0939658,
            2.3200410217200766,
            2.2956951,
            3.0635282,
            7.7507127,
            7.34429620253195,
            7.3579641,
            7.3079618,
            6.0243622,
            5.0414701,
            6.1288847,
            5.7357819,
            4.8320114,
            6.3285616,
            6.3419285,
            5.5396318,
            5.3699525,
            5.4474738,
            4.8059012,
            4.4196718,
            4.3600687,
            4.1912837,
            4.4287172,
            3.0831554,
            2.3491069,
            1.4065544156065486,
            1.4442469,
            1.3549991,
            -1.552726590666314,
            -1.4736657,
            -1.1520434
           ],
           "marker": {
            "color": [
             15.97,
             15.8,
             15.93,
             14.21,
             15.9,
             15.81,
             15.43,
             15.6,
             14.28,
             11,
             14.71,
             14.61,
             13.77,
             13.97,
             14.07,
             15.08,
             15.74,
             12.94,
             17.58,
             13.68,
             13.62,
             12.46,
             16.15,
             15.95,
             16.52,
             16.36,
             16.65,
             13.36,
             11.25,
             3.63,
             14.33,
             16.1,
             15.85,
             16.44,
             16.23
            ],
            "coloraxis": "coloraxis",
            "opacity": 0.7,
            "size": [
             15.97,
             15.8,
             15.93,
             14.21,
             15.9,
             15.81,
             15.43,
             15.6,
             14.28,
             11,
             14.71,
             14.61,
             13.77,
             13.97,
             14.07,
             15.08,
             15.74,
             12.94,
             17.58,
             13.68,
             13.62,
             12.46,
             16.15,
             15.95,
             16.52,
             16.36,
             16.65,
             13.36,
             11.25,
             3.63,
             14.33,
             16.1,
             15.85,
             16.44,
             16.23
            ],
            "sizemode": "area",
            "sizeref": 0.06005
           },
           "mode": "markers",
           "name": "",
           "showlegend": false,
           "subplot": "mapbox",
           "type": "scattermapbox"
          }
         ],
         "name": "2022-09-30"
        }
       ],
       "layout": {
        "coloraxis": {
         "colorbar": {
          "title": {
           "text": "feels_like_day"
          }
         },
         "colorscale": [
          [
           0,
           "rgb(0,0,255)"
          ],
          [
           1,
           "rgb(255,0,0)"
          ]
         ]
        },
        "height": 700,
        "legend": {
         "itemsizing": "constant",
         "tracegroupgap": 0
        },
        "mapbox": {
         "center": {
          "lat": 46.71109,
          "lon": 1.7191036
         },
         "domain": {
          "x": [
           0,
           1
          ],
          "y": [
           0,
           1
          ]
         },
         "style": "carto-positron",
         "zoom": 4.75
        },
        "sliders": [
         {
          "active": 0,
          "currentvalue": {
           "prefix": "date="
          },
          "len": 0.9,
          "pad": {
           "b": 10,
           "t": 60
          },
          "steps": [
           {
            "args": [
             [
              "2022-09-23"
             ],
             {
              "frame": {
               "duration": 0,
               "redraw": true
              },
              "fromcurrent": true,
              "mode": "immediate",
              "transition": {
               "duration": 0,
               "easing": "linear"
              }
             }
            ],
            "label": "2022-09-23",
            "method": "animate"
           },
           {
            "args": [
             [
              "2022-09-24"
             ],
             {
              "frame": {
               "duration": 0,
               "redraw": true
              },
              "fromcurrent": true,
              "mode": "immediate",
              "transition": {
               "duration": 0,
               "easing": "linear"
              }
             }
            ],
            "label": "2022-09-24",
            "method": "animate"
           },
           {
            "args": [
             [
              "2022-09-25"
             ],
             {
              "frame": {
               "duration": 0,
               "redraw": true
              },
              "fromcurrent": true,
              "mode": "immediate",
              "transition": {
               "duration": 0,
               "easing": "linear"
              }
             }
            ],
            "label": "2022-09-25",
            "method": "animate"
           },
           {
            "args": [
             [
              "2022-09-26"
             ],
             {
              "frame": {
               "duration": 0,
               "redraw": true
              },
              "fromcurrent": true,
              "mode": "immediate",
              "transition": {
               "duration": 0,
               "easing": "linear"
              }
             }
            ],
            "label": "2022-09-26",
            "method": "animate"
           },
           {
            "args": [
             [
              "2022-09-27"
             ],
             {
              "frame": {
               "duration": 0,
               "redraw": true
              },
              "fromcurrent": true,
              "mode": "immediate",
              "transition": {
               "duration": 0,
               "easing": "linear"
              }
             }
            ],
            "label": "2022-09-27",
            "method": "animate"
           },
           {
            "args": [
             [
              "2022-09-28"
             ],
             {
              "frame": {
               "duration": 0,
               "redraw": true
              },
              "fromcurrent": true,
              "mode": "immediate",
              "transition": {
               "duration": 0,
               "easing": "linear"
              }
             }
            ],
            "label": "2022-09-28",
            "method": "animate"
           },
           {
            "args": [
             [
              "2022-09-29"
             ],
             {
              "frame": {
               "duration": 0,
               "redraw": true
              },
              "fromcurrent": true,
              "mode": "immediate",
              "transition": {
               "duration": 0,
               "easing": "linear"
              }
             }
            ],
            "label": "2022-09-29",
            "method": "animate"
           },
           {
            "args": [
             [
              "2022-09-30"
             ],
             {
              "frame": {
               "duration": 0,
               "redraw": true
              },
              "fromcurrent": true,
              "mode": "immediate",
              "transition": {
               "duration": 0,
               "easing": "linear"
              }
             }
            ],
            "label": "2022-09-30",
            "method": "animate"
           }
          ],
          "x": 0.1,
          "xanchor": "left",
          "y": 0,
          "yanchor": "top"
         }
        ],
        "template": {
         "data": {
          "bar": [
           {
            "error_x": {
             "color": "#2a3f5f"
            },
            "error_y": {
             "color": "#2a3f5f"
            },
            "marker": {
             "line": {
              "color": "#E5ECF6",
              "width": 0.5
             },
             "pattern": {
              "fillmode": "overlay",
              "size": 10,
              "solidity": 0.2
             }
            },
            "type": "bar"
           }
          ],
          "barpolar": [
           {
            "marker": {
             "line": {
              "color": "#E5ECF6",
              "width": 0.5
             },
             "pattern": {
              "fillmode": "overlay",
              "size": 10,
              "solidity": 0.2
             }
            },
            "type": "barpolar"
           }
          ],
          "carpet": [
           {
            "aaxis": {
             "endlinecolor": "#2a3f5f",
             "gridcolor": "white",
             "linecolor": "white",
             "minorgridcolor": "white",
             "startlinecolor": "#2a3f5f"
            },
            "baxis": {
             "endlinecolor": "#2a3f5f",
             "gridcolor": "white",
             "linecolor": "white",
             "minorgridcolor": "white",
             "startlinecolor": "#2a3f5f"
            },
            "type": "carpet"
           }
          ],
          "choropleth": [
           {
            "colorbar": {
             "outlinewidth": 0,
             "ticks": ""
            },
            "type": "choropleth"
           }
          ],
          "contour": [
           {
            "colorbar": {
             "outlinewidth": 0,
             "ticks": ""
            },
            "colorscale": [
             [
              0,
              "#0d0887"
             ],
             [
              0.1111111111111111,
              "#46039f"
             ],
             [
              0.2222222222222222,
              "#7201a8"
             ],
             [
              0.3333333333333333,
              "#9c179e"
             ],
             [
              0.4444444444444444,
              "#bd3786"
             ],
             [
              0.5555555555555556,
              "#d8576b"
             ],
             [
              0.6666666666666666,
              "#ed7953"
             ],
             [
              0.7777777777777778,
              "#fb9f3a"
             ],
             [
              0.8888888888888888,
              "#fdca26"
             ],
             [
              1,
              "#f0f921"
             ]
            ],
            "type": "contour"
           }
          ],
          "contourcarpet": [
           {
            "colorbar": {
             "outlinewidth": 0,
             "ticks": ""
            },
            "type": "contourcarpet"
           }
          ],
          "heatmap": [
           {
            "colorbar": {
             "outlinewidth": 0,
             "ticks": ""
            },
            "colorscale": [
             [
              0,
              "#0d0887"
             ],
             [
              0.1111111111111111,
              "#46039f"
             ],
             [
              0.2222222222222222,
              "#7201a8"
             ],
             [
              0.3333333333333333,
              "#9c179e"
             ],
             [
              0.4444444444444444,
              "#bd3786"
             ],
             [
              0.5555555555555556,
              "#d8576b"
             ],
             [
              0.6666666666666666,
              "#ed7953"
             ],
             [
              0.7777777777777778,
              "#fb9f3a"
             ],
             [
              0.8888888888888888,
              "#fdca26"
             ],
             [
              1,
              "#f0f921"
             ]
            ],
            "type": "heatmap"
           }
          ],
          "heatmapgl": [
           {
            "colorbar": {
             "outlinewidth": 0,
             "ticks": ""
            },
            "colorscale": [
             [
              0,
              "#0d0887"
             ],
             [
              0.1111111111111111,
              "#46039f"
             ],
             [
              0.2222222222222222,
              "#7201a8"
             ],
             [
              0.3333333333333333,
              "#9c179e"
             ],
             [
              0.4444444444444444,
              "#bd3786"
             ],
             [
              0.5555555555555556,
              "#d8576b"
             ],
             [
              0.6666666666666666,
              "#ed7953"
             ],
             [
              0.7777777777777778,
              "#fb9f3a"
             ],
             [
              0.8888888888888888,
              "#fdca26"
             ],
             [
              1,
              "#f0f921"
             ]
            ],
            "type": "heatmapgl"
           }
          ],
          "histogram": [
           {
            "marker": {
             "pattern": {
              "fillmode": "overlay",
              "size": 10,
              "solidity": 0.2
             }
            },
            "type": "histogram"
           }
          ],
          "histogram2d": [
           {
            "colorbar": {
             "outlinewidth": 0,
             "ticks": ""
            },
            "colorscale": [
             [
              0,
              "#0d0887"
             ],
             [
              0.1111111111111111,
              "#46039f"
             ],
             [
              0.2222222222222222,
              "#7201a8"
             ],
             [
              0.3333333333333333,
              "#9c179e"
             ],
             [
              0.4444444444444444,
              "#bd3786"
             ],
             [
              0.5555555555555556,
              "#d8576b"
             ],
             [
              0.6666666666666666,
              "#ed7953"
             ],
             [
              0.7777777777777778,
              "#fb9f3a"
             ],
             [
              0.8888888888888888,
              "#fdca26"
             ],
             [
              1,
              "#f0f921"
             ]
            ],
            "type": "histogram2d"
           }
          ],
          "histogram2dcontour": [
           {
            "colorbar": {
             "outlinewidth": 0,
             "ticks": ""
            },
            "colorscale": [
             [
              0,
              "#0d0887"
             ],
             [
              0.1111111111111111,
              "#46039f"
             ],
             [
              0.2222222222222222,
              "#7201a8"
             ],
             [
              0.3333333333333333,
              "#9c179e"
             ],
             [
              0.4444444444444444,
              "#bd3786"
             ],
             [
              0.5555555555555556,
              "#d8576b"
             ],
             [
              0.6666666666666666,
              "#ed7953"
             ],
             [
              0.7777777777777778,
              "#fb9f3a"
             ],
             [
              0.8888888888888888,
              "#fdca26"
             ],
             [
              1,
              "#f0f921"
             ]
            ],
            "type": "histogram2dcontour"
           }
          ],
          "mesh3d": [
           {
            "colorbar": {
             "outlinewidth": 0,
             "ticks": ""
            },
            "type": "mesh3d"
           }
          ],
          "parcoords": [
           {
            "line": {
             "colorbar": {
              "outlinewidth": 0,
              "ticks": ""
             }
            },
            "type": "parcoords"
           }
          ],
          "pie": [
           {
            "automargin": true,
            "type": "pie"
           }
          ],
          "scatter": [
           {
            "fillpattern": {
             "fillmode": "overlay",
             "size": 10,
             "solidity": 0.2
            },
            "type": "scatter"
           }
          ],
          "scatter3d": [
           {
            "line": {
             "colorbar": {
              "outlinewidth": 0,
              "ticks": ""
             }
            },
            "marker": {
             "colorbar": {
              "outlinewidth": 0,
              "ticks": ""
             }
            },
            "type": "scatter3d"
           }
          ],
          "scattercarpet": [
           {
            "marker": {
             "colorbar": {
              "outlinewidth": 0,
              "ticks": ""
             }
            },
            "type": "scattercarpet"
           }
          ],
          "scattergeo": [
           {
            "marker": {
             "colorbar": {
              "outlinewidth": 0,
              "ticks": ""
             }
            },
            "type": "scattergeo"
           }
          ],
          "scattergl": [
           {
            "marker": {
             "colorbar": {
              "outlinewidth": 0,
              "ticks": ""
             }
            },
            "type": "scattergl"
           }
          ],
          "scattermapbox": [
           {
            "marker": {
             "colorbar": {
              "outlinewidth": 0,
              "ticks": ""
             }
            },
            "type": "scattermapbox"
           }
          ],
          "scatterpolar": [
           {
            "marker": {
             "colorbar": {
              "outlinewidth": 0,
              "ticks": ""
             }
            },
            "type": "scatterpolar"
           }
          ],
          "scatterpolargl": [
           {
            "marker": {
             "colorbar": {
              "outlinewidth": 0,
              "ticks": ""
             }
            },
            "type": "scatterpolargl"
           }
          ],
          "scatterternary": [
           {
            "marker": {
             "colorbar": {
              "outlinewidth": 0,
              "ticks": ""
             }
            },
            "type": "scatterternary"
           }
          ],
          "surface": [
           {
            "colorbar": {
             "outlinewidth": 0,
             "ticks": ""
            },
            "colorscale": [
             [
              0,
              "#0d0887"
             ],
             [
              0.1111111111111111,
              "#46039f"
             ],
             [
              0.2222222222222222,
              "#7201a8"
             ],
             [
              0.3333333333333333,
              "#9c179e"
             ],
             [
              0.4444444444444444,
              "#bd3786"
             ],
             [
              0.5555555555555556,
              "#d8576b"
             ],
             [
              0.6666666666666666,
              "#ed7953"
             ],
             [
              0.7777777777777778,
              "#fb9f3a"
             ],
             [
              0.8888888888888888,
              "#fdca26"
             ],
             [
              1,
              "#f0f921"
             ]
            ],
            "type": "surface"
           }
          ],
          "table": [
           {
            "cells": {
             "fill": {
              "color": "#EBF0F8"
             },
             "line": {
              "color": "white"
             }
            },
            "header": {
             "fill": {
              "color": "#C8D4E3"
             },
             "line": {
              "color": "white"
             }
            },
            "type": "table"
           }
          ]
         },
         "layout": {
          "annotationdefaults": {
           "arrowcolor": "#2a3f5f",
           "arrowhead": 0,
           "arrowwidth": 1
          },
          "autotypenumbers": "strict",
          "coloraxis": {
           "colorbar": {
            "outlinewidth": 0,
            "ticks": ""
           }
          },
          "colorscale": {
           "diverging": [
            [
             0,
             "#8e0152"
            ],
            [
             0.1,
             "#c51b7d"
            ],
            [
             0.2,
             "#de77ae"
            ],
            [
             0.3,
             "#f1b6da"
            ],
            [
             0.4,
             "#fde0ef"
            ],
            [
             0.5,
             "#f7f7f7"
            ],
            [
             0.6,
             "#e6f5d0"
            ],
            [
             0.7,
             "#b8e186"
            ],
            [
             0.8,
             "#7fbc41"
            ],
            [
             0.9,
             "#4d9221"
            ],
            [
             1,
             "#276419"
            ]
           ],
           "sequential": [
            [
             0,
             "#0d0887"
            ],
            [
             0.1111111111111111,
             "#46039f"
            ],
            [
             0.2222222222222222,
             "#7201a8"
            ],
            [
             0.3333333333333333,
             "#9c179e"
            ],
            [
             0.4444444444444444,
             "#bd3786"
            ],
            [
             0.5555555555555556,
             "#d8576b"
            ],
            [
             0.6666666666666666,
             "#ed7953"
            ],
            [
             0.7777777777777778,
             "#fb9f3a"
            ],
            [
             0.8888888888888888,
             "#fdca26"
            ],
            [
             1,
             "#f0f921"
            ]
           ],
           "sequentialminus": [
            [
             0,
             "#0d0887"
            ],
            [
             0.1111111111111111,
             "#46039f"
            ],
            [
             0.2222222222222222,
             "#7201a8"
            ],
            [
             0.3333333333333333,
             "#9c179e"
            ],
            [
             0.4444444444444444,
             "#bd3786"
            ],
            [
             0.5555555555555556,
             "#d8576b"
            ],
            [
             0.6666666666666666,
             "#ed7953"
            ],
            [
             0.7777777777777778,
             "#fb9f3a"
            ],
            [
             0.8888888888888888,
             "#fdca26"
            ],
            [
             1,
             "#f0f921"
            ]
           ]
          },
          "colorway": [
           "#636efa",
           "#EF553B",
           "#00cc96",
           "#ab63fa",
           "#FFA15A",
           "#19d3f3",
           "#FF6692",
           "#B6E880",
           "#FF97FF",
           "#FECB52"
          ],
          "font": {
           "color": "#2a3f5f"
          },
          "geo": {
           "bgcolor": "white",
           "lakecolor": "white",
           "landcolor": "#E5ECF6",
           "showlakes": true,
           "showland": true,
           "subunitcolor": "white"
          },
          "hoverlabel": {
           "align": "left"
          },
          "hovermode": "closest",
          "mapbox": {
           "style": "light"
          },
          "paper_bgcolor": "white",
          "plot_bgcolor": "#E5ECF6",
          "polar": {
           "angularaxis": {
            "gridcolor": "white",
            "linecolor": "white",
            "ticks": ""
           },
           "bgcolor": "#E5ECF6",
           "radialaxis": {
            "gridcolor": "white",
            "linecolor": "white",
            "ticks": ""
           }
          },
          "scene": {
           "xaxis": {
            "backgroundcolor": "#E5ECF6",
            "gridcolor": "white",
            "gridwidth": 2,
            "linecolor": "white",
            "showbackground": true,
            "ticks": "",
            "zerolinecolor": "white"
           },
           "yaxis": {
            "backgroundcolor": "#E5ECF6",
            "gridcolor": "white",
            "gridwidth": 2,
            "linecolor": "white",
            "showbackground": true,
            "ticks": "",
            "zerolinecolor": "white"
           },
           "zaxis": {
            "backgroundcolor": "#E5ECF6",
            "gridcolor": "white",
            "gridwidth": 2,
            "linecolor": "white",
            "showbackground": true,
            "ticks": "",
            "zerolinecolor": "white"
           }
          },
          "shapedefaults": {
           "line": {
            "color": "#2a3f5f"
           }
          },
          "ternary": {
           "aaxis": {
            "gridcolor": "white",
            "linecolor": "white",
            "ticks": ""
           },
           "baxis": {
            "gridcolor": "white",
            "linecolor": "white",
            "ticks": ""
           },
           "bgcolor": "#E5ECF6",
           "caxis": {
            "gridcolor": "white",
            "linecolor": "white",
            "ticks": ""
           }
          },
          "title": {
           "x": 0.05
          },
          "xaxis": {
           "automargin": true,
           "gridcolor": "white",
           "linecolor": "white",
           "ticks": "",
           "title": {
            "standoff": 15
           },
           "zerolinecolor": "white",
           "zerolinewidth": 2
          },
          "yaxis": {
           "automargin": true,
           "gridcolor": "white",
           "linecolor": "white",
           "ticks": "",
           "title": {
            "standoff": 15
           },
           "zerolinecolor": "white",
           "zerolinewidth": 2
          }
         }
        },
        "title": {
         "text": "weather forecast for the next 7 days"
        },
        "updatemenus": [
         {
          "buttons": [
           {
            "args": [
             null,
             {
              "frame": {
               "duration": 500,
               "redraw": true
              },
              "fromcurrent": true,
              "mode": "immediate",
              "transition": {
               "duration": 500,
               "easing": "linear"
              }
             }
            ],
            "label": "&#9654;",
            "method": "animate"
           },
           {
            "args": [
             [
              null
             ],
             {
              "frame": {
               "duration": 0,
               "redraw": true
              },
              "fromcurrent": true,
              "mode": "immediate",
              "transition": {
               "duration": 0,
               "easing": "linear"
              }
             }
            ],
            "label": "&#9724;",
            "method": "animate"
           }
          ],
          "direction": "left",
          "pad": {
           "r": 10,
           "t": 70
          },
          "showactive": false,
          "type": "buttons",
          "x": 0.1,
          "xanchor": "right",
          "y": 0,
          "yanchor": "top"
         }
        ]
       }
      }
     },
     "metadata": {},
     "output_type": "display_data"
    }
   ],
   "source": [
    "fig1.show()"
   ]
  },
  {
   "cell_type": "code",
   "execution_count": 8,
   "metadata": {},
   "outputs": [],
   "source": [
    "df_pivot = weather_df.pivot_table(index=['id', 'city'], values=['pop', 'rain','clouds', 'feels_like_day', 'feels_like_night', 'feels_like_eve', 'feels_like_morn', 'lat', 'lon'], aggfunc='mean', sort=True)"
   ]
  },
  {
   "cell_type": "code",
   "execution_count": 9,
   "metadata": {},
   "outputs": [
    {
     "data": {
      "text/html": [
       "<div>\n",
       "<style scoped>\n",
       "    .dataframe tbody tr th:only-of-type {\n",
       "        vertical-align: middle;\n",
       "    }\n",
       "\n",
       "    .dataframe tbody tr th {\n",
       "        vertical-align: top;\n",
       "    }\n",
       "\n",
       "    .dataframe thead th {\n",
       "        text-align: right;\n",
       "    }\n",
       "</style>\n",
       "<table border=\"1\" class=\"dataframe\">\n",
       "  <thead>\n",
       "    <tr style=\"text-align: right;\">\n",
       "      <th></th>\n",
       "      <th></th>\n",
       "      <th>clouds</th>\n",
       "      <th>feels_like_day</th>\n",
       "      <th>feels_like_eve</th>\n",
       "      <th>feels_like_morn</th>\n",
       "      <th>feels_like_night</th>\n",
       "      <th>lat</th>\n",
       "      <th>lon</th>\n",
       "      <th>pop</th>\n",
       "      <th>rain</th>\n",
       "    </tr>\n",
       "    <tr>\n",
       "      <th>id</th>\n",
       "      <th>city</th>\n",
       "      <th></th>\n",
       "      <th></th>\n",
       "      <th></th>\n",
       "      <th></th>\n",
       "      <th></th>\n",
       "      <th></th>\n",
       "      <th></th>\n",
       "      <th></th>\n",
       "      <th></th>\n",
       "    </tr>\n",
       "  </thead>\n",
       "  <tbody>\n",
       "    <tr>\n",
       "      <th>0</th>\n",
       "      <th>Mont Saint Michel</th>\n",
       "      <td>71.500</td>\n",
       "      <td>15.59625</td>\n",
       "      <td>13.97875</td>\n",
       "      <td>11.54875</td>\n",
       "      <td>12.43500</td>\n",
       "      <td>48.635954</td>\n",
       "      <td>-1.511460</td>\n",
       "      <td>0.79375</td>\n",
       "      <td>5.934286</td>\n",
       "    </tr>\n",
       "    <tr>\n",
       "      <th>1</th>\n",
       "      <th>St Malo</th>\n",
       "      <td>73.250</td>\n",
       "      <td>15.79000</td>\n",
       "      <td>14.60125</td>\n",
       "      <td>13.23000</td>\n",
       "      <td>14.06500</td>\n",
       "      <td>48.649518</td>\n",
       "      <td>-2.026041</td>\n",
       "      <td>0.78625</td>\n",
       "      <td>5.006250</td>\n",
       "    </tr>\n",
       "    <tr>\n",
       "      <th>2</th>\n",
       "      <th>Bayeux</th>\n",
       "      <td>74.000</td>\n",
       "      <td>14.89625</td>\n",
       "      <td>12.45250</td>\n",
       "      <td>9.92375</td>\n",
       "      <td>11.29750</td>\n",
       "      <td>49.276462</td>\n",
       "      <td>-0.702474</td>\n",
       "      <td>0.73250</td>\n",
       "      <td>5.350000</td>\n",
       "    </tr>\n",
       "    <tr>\n",
       "      <th>3</th>\n",
       "      <th>Le Havre</th>\n",
       "      <td>78.250</td>\n",
       "      <td>14.91875</td>\n",
       "      <td>14.21000</td>\n",
       "      <td>13.41625</td>\n",
       "      <td>13.77625</td>\n",
       "      <td>49.493898</td>\n",
       "      <td>0.107973</td>\n",
       "      <td>0.79625</td>\n",
       "      <td>6.364286</td>\n",
       "    </tr>\n",
       "    <tr>\n",
       "      <th>4</th>\n",
       "      <th>Rouen</th>\n",
       "      <td>86.500</td>\n",
       "      <td>14.30375</td>\n",
       "      <td>12.28875</td>\n",
       "      <td>10.16875</td>\n",
       "      <td>10.41375</td>\n",
       "      <td>49.440459</td>\n",
       "      <td>1.093966</td>\n",
       "      <td>0.79875</td>\n",
       "      <td>5.817143</td>\n",
       "    </tr>\n",
       "    <tr>\n",
       "      <th>5</th>\n",
       "      <th>Paris</th>\n",
       "      <td>85.625</td>\n",
       "      <td>15.27375</td>\n",
       "      <td>14.07500</td>\n",
       "      <td>11.44500</td>\n",
       "      <td>12.63875</td>\n",
       "      <td>48.858890</td>\n",
       "      <td>2.320041</td>\n",
       "      <td>0.66500</td>\n",
       "      <td>1.830000</td>\n",
       "    </tr>\n",
       "    <tr>\n",
       "      <th>6</th>\n",
       "      <th>Amiens</th>\n",
       "      <td>86.000</td>\n",
       "      <td>13.98375</td>\n",
       "      <td>11.85625</td>\n",
       "      <td>9.61125</td>\n",
       "      <td>10.33375</td>\n",
       "      <td>49.894171</td>\n",
       "      <td>2.295695</td>\n",
       "      <td>0.73500</td>\n",
       "      <td>4.031429</td>\n",
       "    </tr>\n",
       "    <tr>\n",
       "      <th>7</th>\n",
       "      <th>Lille</th>\n",
       "      <td>76.125</td>\n",
       "      <td>14.28875</td>\n",
       "      <td>12.17750</td>\n",
       "      <td>9.25875</td>\n",
       "      <td>10.97625</td>\n",
       "      <td>50.636565</td>\n",
       "      <td>3.063528</td>\n",
       "      <td>0.68375</td>\n",
       "      <td>4.630000</td>\n",
       "    </tr>\n",
       "    <tr>\n",
       "      <th>8</th>\n",
       "      <th>Strasbourg</th>\n",
       "      <td>91.500</td>\n",
       "      <td>14.53250</td>\n",
       "      <td>12.41125</td>\n",
       "      <td>9.02500</td>\n",
       "      <td>11.30625</td>\n",
       "      <td>48.584614</td>\n",
       "      <td>7.750713</td>\n",
       "      <td>0.76250</td>\n",
       "      <td>4.834286</td>\n",
       "    </tr>\n",
       "    <tr>\n",
       "      <th>9</th>\n",
       "      <th>Chateau du Haut Koenigsbourg</th>\n",
       "      <td>90.000</td>\n",
       "      <td>11.55250</td>\n",
       "      <td>8.39625</td>\n",
       "      <td>6.44250</td>\n",
       "      <td>7.07875</td>\n",
       "      <td>48.249490</td>\n",
       "      <td>7.344296</td>\n",
       "      <td>0.80375</td>\n",
       "      <td>6.674286</td>\n",
       "    </tr>\n",
       "    <tr>\n",
       "      <th>10</th>\n",
       "      <th>Colmar</th>\n",
       "      <td>88.500</td>\n",
       "      <td>15.05875</td>\n",
       "      <td>12.18125</td>\n",
       "      <td>9.37875</td>\n",
       "      <td>10.99000</td>\n",
       "      <td>48.077752</td>\n",
       "      <td>7.357964</td>\n",
       "      <td>0.80625</td>\n",
       "      <td>6.431429</td>\n",
       "    </tr>\n",
       "    <tr>\n",
       "      <th>11</th>\n",
       "      <th>Eguisheim</th>\n",
       "      <td>88.000</td>\n",
       "      <td>15.11250</td>\n",
       "      <td>12.12750</td>\n",
       "      <td>9.51375</td>\n",
       "      <td>11.01250</td>\n",
       "      <td>48.044797</td>\n",
       "      <td>7.307962</td>\n",
       "      <td>0.80750</td>\n",
       "      <td>6.730000</td>\n",
       "    </tr>\n",
       "    <tr>\n",
       "      <th>12</th>\n",
       "      <th>Besancon</th>\n",
       "      <td>90.500</td>\n",
       "      <td>14.19375</td>\n",
       "      <td>11.30625</td>\n",
       "      <td>9.02625</td>\n",
       "      <td>9.94625</td>\n",
       "      <td>47.238022</td>\n",
       "      <td>6.024362</td>\n",
       "      <td>0.81000</td>\n",
       "      <td>7.928571</td>\n",
       "    </tr>\n",
       "    <tr>\n",
       "      <th>13</th>\n",
       "      <th>Dijon</th>\n",
       "      <td>91.125</td>\n",
       "      <td>14.25375</td>\n",
       "      <td>12.21250</td>\n",
       "      <td>9.14875</td>\n",
       "      <td>10.62625</td>\n",
       "      <td>47.321581</td>\n",
       "      <td>5.041470</td>\n",
       "      <td>0.81000</td>\n",
       "      <td>5.767143</td>\n",
       "    </tr>\n",
       "    <tr>\n",
       "      <th>14</th>\n",
       "      <th>Annecy</th>\n",
       "      <td>88.500</td>\n",
       "      <td>13.93250</td>\n",
       "      <td>11.43250</td>\n",
       "      <td>9.29375</td>\n",
       "      <td>10.18625</td>\n",
       "      <td>45.899235</td>\n",
       "      <td>6.128885</td>\n",
       "      <td>0.75625</td>\n",
       "      <td>11.337143</td>\n",
       "    </tr>\n",
       "    <tr>\n",
       "      <th>15</th>\n",
       "      <th>Grenoble</th>\n",
       "      <td>90.750</td>\n",
       "      <td>16.31125</td>\n",
       "      <td>13.35375</td>\n",
       "      <td>11.32000</td>\n",
       "      <td>12.04875</td>\n",
       "      <td>45.187560</td>\n",
       "      <td>5.735782</td>\n",
       "      <td>0.64125</td>\n",
       "      <td>7.965714</td>\n",
       "    </tr>\n",
       "    <tr>\n",
       "      <th>16</th>\n",
       "      <th>Lyon</th>\n",
       "      <td>71.375</td>\n",
       "      <td>16.29875</td>\n",
       "      <td>14.39250</td>\n",
       "      <td>11.15250</td>\n",
       "      <td>12.87375</td>\n",
       "      <td>45.757814</td>\n",
       "      <td>4.832011</td>\n",
       "      <td>0.82375</td>\n",
       "      <td>5.670000</td>\n",
       "    </tr>\n",
       "    <tr>\n",
       "      <th>17</th>\n",
       "      <th>Gorges du Verdon</th>\n",
       "      <td>85.000</td>\n",
       "      <td>14.08625</td>\n",
       "      <td>10.43875</td>\n",
       "      <td>7.03125</td>\n",
       "      <td>8.66125</td>\n",
       "      <td>43.749656</td>\n",
       "      <td>6.328562</td>\n",
       "      <td>0.31625</td>\n",
       "      <td>3.747500</td>\n",
       "    </tr>\n",
       "    <tr>\n",
       "      <th>18</th>\n",
       "      <th>Bormes les Mimosas</th>\n",
       "      <td>80.375</td>\n",
       "      <td>19.46875</td>\n",
       "      <td>17.81750</td>\n",
       "      <td>15.64875</td>\n",
       "      <td>17.18250</td>\n",
       "      <td>43.150697</td>\n",
       "      <td>6.341928</td>\n",
       "      <td>0.31500</td>\n",
       "      <td>7.786667</td>\n",
       "    </tr>\n",
       "    <tr>\n",
       "      <th>19</th>\n",
       "      <th>Cassis</th>\n",
       "      <td>84.250</td>\n",
       "      <td>18.70000</td>\n",
       "      <td>18.78375</td>\n",
       "      <td>16.62375</td>\n",
       "      <td>18.06250</td>\n",
       "      <td>43.214036</td>\n",
       "      <td>5.539632</td>\n",
       "      <td>0.43875</td>\n",
       "      <td>8.932500</td>\n",
       "    </tr>\n",
       "    <tr>\n",
       "      <th>20</th>\n",
       "      <th>Marseille</th>\n",
       "      <td>81.750</td>\n",
       "      <td>18.84625</td>\n",
       "      <td>19.24875</td>\n",
       "      <td>16.74875</td>\n",
       "      <td>18.44250</td>\n",
       "      <td>43.296174</td>\n",
       "      <td>5.369953</td>\n",
       "      <td>0.44375</td>\n",
       "      <td>9.095000</td>\n",
       "    </tr>\n",
       "    <tr>\n",
       "      <th>21</th>\n",
       "      <th>Aix en Provence</th>\n",
       "      <td>79.875</td>\n",
       "      <td>17.94000</td>\n",
       "      <td>16.98250</td>\n",
       "      <td>13.68250</td>\n",
       "      <td>15.76250</td>\n",
       "      <td>43.529842</td>\n",
       "      <td>5.447474</td>\n",
       "      <td>0.41750</td>\n",
       "      <td>5.842500</td>\n",
       "    </tr>\n",
       "    <tr>\n",
       "      <th>22</th>\n",
       "      <th>Avignon</th>\n",
       "      <td>76.875</td>\n",
       "      <td>19.67500</td>\n",
       "      <td>17.50000</td>\n",
       "      <td>13.14625</td>\n",
       "      <td>15.22750</td>\n",
       "      <td>43.949249</td>\n",
       "      <td>4.805901</td>\n",
       "      <td>0.40000</td>\n",
       "      <td>3.372500</td>\n",
       "    </tr>\n",
       "    <tr>\n",
       "      <th>23</th>\n",
       "      <th>Uzes</th>\n",
       "      <td>77.625</td>\n",
       "      <td>18.85875</td>\n",
       "      <td>16.14000</td>\n",
       "      <td>12.22000</td>\n",
       "      <td>13.89375</td>\n",
       "      <td>44.012128</td>\n",
       "      <td>4.419672</td>\n",
       "      <td>0.40875</td>\n",
       "      <td>3.862500</td>\n",
       "    </tr>\n",
       "    <tr>\n",
       "      <th>24</th>\n",
       "      <th>Nimes</th>\n",
       "      <td>78.750</td>\n",
       "      <td>19.83000</td>\n",
       "      <td>17.50125</td>\n",
       "      <td>13.41750</td>\n",
       "      <td>15.20250</td>\n",
       "      <td>43.837425</td>\n",
       "      <td>4.360069</td>\n",
       "      <td>0.40125</td>\n",
       "      <td>5.482500</td>\n",
       "    </tr>\n",
       "    <tr>\n",
       "      <th>25</th>\n",
       "      <th>Aigues Mortes</th>\n",
       "      <td>79.500</td>\n",
       "      <td>19.41375</td>\n",
       "      <td>18.69625</td>\n",
       "      <td>15.75625</td>\n",
       "      <td>17.12250</td>\n",
       "      <td>43.565823</td>\n",
       "      <td>4.191284</td>\n",
       "      <td>0.44000</td>\n",
       "      <td>8.650000</td>\n",
       "    </tr>\n",
       "    <tr>\n",
       "      <th>26</th>\n",
       "      <th>Saintes Maries de la mer</th>\n",
       "      <td>77.375</td>\n",
       "      <td>19.32750</td>\n",
       "      <td>18.87750</td>\n",
       "      <td>16.27000</td>\n",
       "      <td>17.48000</td>\n",
       "      <td>43.452277</td>\n",
       "      <td>4.428717</td>\n",
       "      <td>0.41000</td>\n",
       "      <td>9.250000</td>\n",
       "    </tr>\n",
       "    <tr>\n",
       "      <th>27</th>\n",
       "      <th>Collioure</th>\n",
       "      <td>79.500</td>\n",
       "      <td>19.92500</td>\n",
       "      <td>18.82625</td>\n",
       "      <td>15.90625</td>\n",
       "      <td>17.56375</td>\n",
       "      <td>42.525050</td>\n",
       "      <td>3.083155</td>\n",
       "      <td>0.65625</td>\n",
       "      <td>5.326667</td>\n",
       "    </tr>\n",
       "    <tr>\n",
       "      <th>28</th>\n",
       "      <th>Carcassonne</th>\n",
       "      <td>81.625</td>\n",
       "      <td>17.57875</td>\n",
       "      <td>16.00375</td>\n",
       "      <td>12.96875</td>\n",
       "      <td>14.46875</td>\n",
       "      <td>43.213036</td>\n",
       "      <td>2.349107</td>\n",
       "      <td>0.77875</td>\n",
       "      <td>5.834286</td>\n",
       "    </tr>\n",
       "    <tr>\n",
       "      <th>29</th>\n",
       "      <th>Ariege</th>\n",
       "      <td>85.375</td>\n",
       "      <td>10.17625</td>\n",
       "      <td>7.92875</td>\n",
       "      <td>5.25500</td>\n",
       "      <td>6.44375</td>\n",
       "      <td>42.945537</td>\n",
       "      <td>1.406554</td>\n",
       "      <td>0.83750</td>\n",
       "      <td>6.920000</td>\n",
       "    </tr>\n",
       "    <tr>\n",
       "      <th>30</th>\n",
       "      <th>Toulouse</th>\n",
       "      <td>81.250</td>\n",
       "      <td>18.13250</td>\n",
       "      <td>16.30375</td>\n",
       "      <td>12.77000</td>\n",
       "      <td>14.38625</td>\n",
       "      <td>43.604462</td>\n",
       "      <td>1.444247</td>\n",
       "      <td>0.81500</td>\n",
       "      <td>6.128571</td>\n",
       "    </tr>\n",
       "    <tr>\n",
       "      <th>31</th>\n",
       "      <th>Montauban</th>\n",
       "      <td>76.625</td>\n",
       "      <td>18.41250</td>\n",
       "      <td>15.80625</td>\n",
       "      <td>12.01125</td>\n",
       "      <td>13.41375</td>\n",
       "      <td>44.017584</td>\n",
       "      <td>1.354999</td>\n",
       "      <td>0.80625</td>\n",
       "      <td>7.670000</td>\n",
       "    </tr>\n",
       "    <tr>\n",
       "      <th>32</th>\n",
       "      <th>Biarritz</th>\n",
       "      <td>77.500</td>\n",
       "      <td>17.21000</td>\n",
       "      <td>16.25875</td>\n",
       "      <td>14.86000</td>\n",
       "      <td>15.48375</td>\n",
       "      <td>43.471144</td>\n",
       "      <td>-1.552727</td>\n",
       "      <td>0.90500</td>\n",
       "      <td>20.571250</td>\n",
       "    </tr>\n",
       "    <tr>\n",
       "      <th>33</th>\n",
       "      <th>Bayonne</th>\n",
       "      <td>75.375</td>\n",
       "      <td>17.73500</td>\n",
       "      <td>16.41875</td>\n",
       "      <td>14.83125</td>\n",
       "      <td>15.44500</td>\n",
       "      <td>43.494514</td>\n",
       "      <td>-1.473666</td>\n",
       "      <td>0.91625</td>\n",
       "      <td>20.631250</td>\n",
       "    </tr>\n",
       "    <tr>\n",
       "      <th>34</th>\n",
       "      <th>La Rochelle</th>\n",
       "      <td>67.500</td>\n",
       "      <td>16.79875</td>\n",
       "      <td>16.55000</td>\n",
       "      <td>13.56750</td>\n",
       "      <td>15.72375</td>\n",
       "      <td>46.159113</td>\n",
       "      <td>-1.152043</td>\n",
       "      <td>0.64000</td>\n",
       "      <td>2.444286</td>\n",
       "    </tr>\n",
       "  </tbody>\n",
       "</table>\n",
       "</div>"
      ],
      "text/plain": [
       "                                 clouds  feels_like_day  feels_like_eve  \\\n",
       "id city                                                                   \n",
       "0  Mont Saint Michel             71.500        15.59625        13.97875   \n",
       "1  St Malo                       73.250        15.79000        14.60125   \n",
       "2  Bayeux                        74.000        14.89625        12.45250   \n",
       "3  Le Havre                      78.250        14.91875        14.21000   \n",
       "4  Rouen                         86.500        14.30375        12.28875   \n",
       "5  Paris                         85.625        15.27375        14.07500   \n",
       "6  Amiens                        86.000        13.98375        11.85625   \n",
       "7  Lille                         76.125        14.28875        12.17750   \n",
       "8  Strasbourg                    91.500        14.53250        12.41125   \n",
       "9  Chateau du Haut Koenigsbourg  90.000        11.55250         8.39625   \n",
       "10 Colmar                        88.500        15.05875        12.18125   \n",
       "11 Eguisheim                     88.000        15.11250        12.12750   \n",
       "12 Besancon                      90.500        14.19375        11.30625   \n",
       "13 Dijon                         91.125        14.25375        12.21250   \n",
       "14 Annecy                        88.500        13.93250        11.43250   \n",
       "15 Grenoble                      90.750        16.31125        13.35375   \n",
       "16 Lyon                          71.375        16.29875        14.39250   \n",
       "17 Gorges du Verdon              85.000        14.08625        10.43875   \n",
       "18 Bormes les Mimosas            80.375        19.46875        17.81750   \n",
       "19 Cassis                        84.250        18.70000        18.78375   \n",
       "20 Marseille                     81.750        18.84625        19.24875   \n",
       "21 Aix en Provence               79.875        17.94000        16.98250   \n",
       "22 Avignon                       76.875        19.67500        17.50000   \n",
       "23 Uzes                          77.625        18.85875        16.14000   \n",
       "24 Nimes                         78.750        19.83000        17.50125   \n",
       "25 Aigues Mortes                 79.500        19.41375        18.69625   \n",
       "26 Saintes Maries de la mer      77.375        19.32750        18.87750   \n",
       "27 Collioure                     79.500        19.92500        18.82625   \n",
       "28 Carcassonne                   81.625        17.57875        16.00375   \n",
       "29 Ariege                        85.375        10.17625         7.92875   \n",
       "30 Toulouse                      81.250        18.13250        16.30375   \n",
       "31 Montauban                     76.625        18.41250        15.80625   \n",
       "32 Biarritz                      77.500        17.21000        16.25875   \n",
       "33 Bayonne                       75.375        17.73500        16.41875   \n",
       "34 La Rochelle                   67.500        16.79875        16.55000   \n",
       "\n",
       "                                 feels_like_morn  feels_like_night        lat  \\\n",
       "id city                                                                         \n",
       "0  Mont Saint Michel                    11.54875          12.43500  48.635954   \n",
       "1  St Malo                              13.23000          14.06500  48.649518   \n",
       "2  Bayeux                                9.92375          11.29750  49.276462   \n",
       "3  Le Havre                             13.41625          13.77625  49.493898   \n",
       "4  Rouen                                10.16875          10.41375  49.440459   \n",
       "5  Paris                                11.44500          12.63875  48.858890   \n",
       "6  Amiens                                9.61125          10.33375  49.894171   \n",
       "7  Lille                                 9.25875          10.97625  50.636565   \n",
       "8  Strasbourg                            9.02500          11.30625  48.584614   \n",
       "9  Chateau du Haut Koenigsbourg          6.44250           7.07875  48.249490   \n",
       "10 Colmar                                9.37875          10.99000  48.077752   \n",
       "11 Eguisheim                             9.51375          11.01250  48.044797   \n",
       "12 Besancon                              9.02625           9.94625  47.238022   \n",
       "13 Dijon                                 9.14875          10.62625  47.321581   \n",
       "14 Annecy                                9.29375          10.18625  45.899235   \n",
       "15 Grenoble                             11.32000          12.04875  45.187560   \n",
       "16 Lyon                                 11.15250          12.87375  45.757814   \n",
       "17 Gorges du Verdon                      7.03125           8.66125  43.749656   \n",
       "18 Bormes les Mimosas                   15.64875          17.18250  43.150697   \n",
       "19 Cassis                               16.62375          18.06250  43.214036   \n",
       "20 Marseille                            16.74875          18.44250  43.296174   \n",
       "21 Aix en Provence                      13.68250          15.76250  43.529842   \n",
       "22 Avignon                              13.14625          15.22750  43.949249   \n",
       "23 Uzes                                 12.22000          13.89375  44.012128   \n",
       "24 Nimes                                13.41750          15.20250  43.837425   \n",
       "25 Aigues Mortes                        15.75625          17.12250  43.565823   \n",
       "26 Saintes Maries de la mer             16.27000          17.48000  43.452277   \n",
       "27 Collioure                            15.90625          17.56375  42.525050   \n",
       "28 Carcassonne                          12.96875          14.46875  43.213036   \n",
       "29 Ariege                                5.25500           6.44375  42.945537   \n",
       "30 Toulouse                             12.77000          14.38625  43.604462   \n",
       "31 Montauban                            12.01125          13.41375  44.017584   \n",
       "32 Biarritz                             14.86000          15.48375  43.471144   \n",
       "33 Bayonne                              14.83125          15.44500  43.494514   \n",
       "34 La Rochelle                          13.56750          15.72375  46.159113   \n",
       "\n",
       "                                      lon      pop       rain  \n",
       "id city                                                        \n",
       "0  Mont Saint Michel            -1.511460  0.79375   5.934286  \n",
       "1  St Malo                      -2.026041  0.78625   5.006250  \n",
       "2  Bayeux                       -0.702474  0.73250   5.350000  \n",
       "3  Le Havre                      0.107973  0.79625   6.364286  \n",
       "4  Rouen                         1.093966  0.79875   5.817143  \n",
       "5  Paris                         2.320041  0.66500   1.830000  \n",
       "6  Amiens                        2.295695  0.73500   4.031429  \n",
       "7  Lille                         3.063528  0.68375   4.630000  \n",
       "8  Strasbourg                    7.750713  0.76250   4.834286  \n",
       "9  Chateau du Haut Koenigsbourg  7.344296  0.80375   6.674286  \n",
       "10 Colmar                        7.357964  0.80625   6.431429  \n",
       "11 Eguisheim                     7.307962  0.80750   6.730000  \n",
       "12 Besancon                      6.024362  0.81000   7.928571  \n",
       "13 Dijon                         5.041470  0.81000   5.767143  \n",
       "14 Annecy                        6.128885  0.75625  11.337143  \n",
       "15 Grenoble                      5.735782  0.64125   7.965714  \n",
       "16 Lyon                          4.832011  0.82375   5.670000  \n",
       "17 Gorges du Verdon              6.328562  0.31625   3.747500  \n",
       "18 Bormes les Mimosas            6.341928  0.31500   7.786667  \n",
       "19 Cassis                        5.539632  0.43875   8.932500  \n",
       "20 Marseille                     5.369953  0.44375   9.095000  \n",
       "21 Aix en Provence               5.447474  0.41750   5.842500  \n",
       "22 Avignon                       4.805901  0.40000   3.372500  \n",
       "23 Uzes                          4.419672  0.40875   3.862500  \n",
       "24 Nimes                         4.360069  0.40125   5.482500  \n",
       "25 Aigues Mortes                 4.191284  0.44000   8.650000  \n",
       "26 Saintes Maries de la mer      4.428717  0.41000   9.250000  \n",
       "27 Collioure                     3.083155  0.65625   5.326667  \n",
       "28 Carcassonne                   2.349107  0.77875   5.834286  \n",
       "29 Ariege                        1.406554  0.83750   6.920000  \n",
       "30 Toulouse                      1.444247  0.81500   6.128571  \n",
       "31 Montauban                     1.354999  0.80625   7.670000  \n",
       "32 Biarritz                     -1.552727  0.90500  20.571250  \n",
       "33 Bayonne                      -1.473666  0.91625  20.631250  \n",
       "34 La Rochelle                  -1.152043  0.64000   2.444286  "
      ]
     },
     "execution_count": 9,
     "metadata": {},
     "output_type": "execute_result"
    }
   ],
   "source": [
    "df_pivot"
   ]
  },
  {
   "cell_type": "code",
   "execution_count": 10,
   "metadata": {},
   "outputs": [],
   "source": [
    "df_pivot = df_pivot.sort_values(by=['rain', 'pop', 'clouds', 'feels_like_day'], ascending=[True, True, True, False])"
   ]
  },
  {
   "cell_type": "code",
   "execution_count": 11,
   "metadata": {},
   "outputs": [],
   "source": [
    "df_pivot['weather_description'] = weather_df.groupby(['id', 'city'])['weather_description'].agg(pd.Series.mode)"
   ]
  },
  {
   "cell_type": "code",
   "execution_count": 12,
   "metadata": {},
   "outputs": [],
   "source": [
    "df_pivot = df_pivot.reset_index()"
   ]
  },
  {
   "cell_type": "code",
   "execution_count": 13,
   "metadata": {},
   "outputs": [
    {
     "data": {
      "text/html": [
       "<div>\n",
       "<style scoped>\n",
       "    .dataframe tbody tr th:only-of-type {\n",
       "        vertical-align: middle;\n",
       "    }\n",
       "\n",
       "    .dataframe tbody tr th {\n",
       "        vertical-align: top;\n",
       "    }\n",
       "\n",
       "    .dataframe thead th {\n",
       "        text-align: right;\n",
       "    }\n",
       "</style>\n",
       "<table border=\"1\" class=\"dataframe\">\n",
       "  <thead>\n",
       "    <tr style=\"text-align: right;\">\n",
       "      <th></th>\n",
       "      <th>id</th>\n",
       "      <th>city</th>\n",
       "      <th>clouds</th>\n",
       "      <th>feels_like_day</th>\n",
       "      <th>feels_like_eve</th>\n",
       "      <th>feels_like_morn</th>\n",
       "      <th>feels_like_night</th>\n",
       "      <th>lat</th>\n",
       "      <th>lon</th>\n",
       "      <th>pop</th>\n",
       "      <th>rain</th>\n",
       "      <th>weather_description</th>\n",
       "    </tr>\n",
       "  </thead>\n",
       "  <tbody>\n",
       "    <tr>\n",
       "      <th>0</th>\n",
       "      <td>5</td>\n",
       "      <td>Paris</td>\n",
       "      <td>85.625</td>\n",
       "      <td>15.27375</td>\n",
       "      <td>14.07500</td>\n",
       "      <td>11.44500</td>\n",
       "      <td>12.63875</td>\n",
       "      <td>48.858890</td>\n",
       "      <td>2.320041</td>\n",
       "      <td>0.66500</td>\n",
       "      <td>1.830000</td>\n",
       "      <td>light rain</td>\n",
       "    </tr>\n",
       "    <tr>\n",
       "      <th>1</th>\n",
       "      <td>34</td>\n",
       "      <td>La Rochelle</td>\n",
       "      <td>67.500</td>\n",
       "      <td>16.79875</td>\n",
       "      <td>16.55000</td>\n",
       "      <td>13.56750</td>\n",
       "      <td>15.72375</td>\n",
       "      <td>46.159113</td>\n",
       "      <td>-1.152043</td>\n",
       "      <td>0.64000</td>\n",
       "      <td>2.444286</td>\n",
       "      <td>light rain</td>\n",
       "    </tr>\n",
       "    <tr>\n",
       "      <th>2</th>\n",
       "      <td>22</td>\n",
       "      <td>Avignon</td>\n",
       "      <td>76.875</td>\n",
       "      <td>19.67500</td>\n",
       "      <td>17.50000</td>\n",
       "      <td>13.14625</td>\n",
       "      <td>15.22750</td>\n",
       "      <td>43.949249</td>\n",
       "      <td>4.805901</td>\n",
       "      <td>0.40000</td>\n",
       "      <td>3.372500</td>\n",
       "      <td>[light rain, moderate rain]</td>\n",
       "    </tr>\n",
       "    <tr>\n",
       "      <th>3</th>\n",
       "      <td>17</td>\n",
       "      <td>Gorges du Verdon</td>\n",
       "      <td>85.000</td>\n",
       "      <td>14.08625</td>\n",
       "      <td>10.43875</td>\n",
       "      <td>7.03125</td>\n",
       "      <td>8.66125</td>\n",
       "      <td>43.749656</td>\n",
       "      <td>6.328562</td>\n",
       "      <td>0.31625</td>\n",
       "      <td>3.747500</td>\n",
       "      <td>light rain</td>\n",
       "    </tr>\n",
       "    <tr>\n",
       "      <th>4</th>\n",
       "      <td>23</td>\n",
       "      <td>Uzes</td>\n",
       "      <td>77.625</td>\n",
       "      <td>18.85875</td>\n",
       "      <td>16.14000</td>\n",
       "      <td>12.22000</td>\n",
       "      <td>13.89375</td>\n",
       "      <td>44.012128</td>\n",
       "      <td>4.419672</td>\n",
       "      <td>0.40875</td>\n",
       "      <td>3.862500</td>\n",
       "      <td>light rain</td>\n",
       "    </tr>\n",
       "    <tr>\n",
       "      <th>5</th>\n",
       "      <td>6</td>\n",
       "      <td>Amiens</td>\n",
       "      <td>86.000</td>\n",
       "      <td>13.98375</td>\n",
       "      <td>11.85625</td>\n",
       "      <td>9.61125</td>\n",
       "      <td>10.33375</td>\n",
       "      <td>49.894171</td>\n",
       "      <td>2.295695</td>\n",
       "      <td>0.73500</td>\n",
       "      <td>4.031429</td>\n",
       "      <td>light rain</td>\n",
       "    </tr>\n",
       "    <tr>\n",
       "      <th>6</th>\n",
       "      <td>7</td>\n",
       "      <td>Lille</td>\n",
       "      <td>76.125</td>\n",
       "      <td>14.28875</td>\n",
       "      <td>12.17750</td>\n",
       "      <td>9.25875</td>\n",
       "      <td>10.97625</td>\n",
       "      <td>50.636565</td>\n",
       "      <td>3.063528</td>\n",
       "      <td>0.68375</td>\n",
       "      <td>4.630000</td>\n",
       "      <td>light rain</td>\n",
       "    </tr>\n",
       "    <tr>\n",
       "      <th>7</th>\n",
       "      <td>8</td>\n",
       "      <td>Strasbourg</td>\n",
       "      <td>91.500</td>\n",
       "      <td>14.53250</td>\n",
       "      <td>12.41125</td>\n",
       "      <td>9.02500</td>\n",
       "      <td>11.30625</td>\n",
       "      <td>48.584614</td>\n",
       "      <td>7.750713</td>\n",
       "      <td>0.76250</td>\n",
       "      <td>4.834286</td>\n",
       "      <td>light rain</td>\n",
       "    </tr>\n",
       "    <tr>\n",
       "      <th>8</th>\n",
       "      <td>1</td>\n",
       "      <td>St Malo</td>\n",
       "      <td>73.250</td>\n",
       "      <td>15.79000</td>\n",
       "      <td>14.60125</td>\n",
       "      <td>13.23000</td>\n",
       "      <td>14.06500</td>\n",
       "      <td>48.649518</td>\n",
       "      <td>-2.026041</td>\n",
       "      <td>0.78625</td>\n",
       "      <td>5.006250</td>\n",
       "      <td>light rain</td>\n",
       "    </tr>\n",
       "    <tr>\n",
       "      <th>9</th>\n",
       "      <td>27</td>\n",
       "      <td>Collioure</td>\n",
       "      <td>79.500</td>\n",
       "      <td>19.92500</td>\n",
       "      <td>18.82625</td>\n",
       "      <td>15.90625</td>\n",
       "      <td>17.56375</td>\n",
       "      <td>42.525050</td>\n",
       "      <td>3.083155</td>\n",
       "      <td>0.65625</td>\n",
       "      <td>5.326667</td>\n",
       "      <td>moderate rain</td>\n",
       "    </tr>\n",
       "    <tr>\n",
       "      <th>10</th>\n",
       "      <td>2</td>\n",
       "      <td>Bayeux</td>\n",
       "      <td>74.000</td>\n",
       "      <td>14.89625</td>\n",
       "      <td>12.45250</td>\n",
       "      <td>9.92375</td>\n",
       "      <td>11.29750</td>\n",
       "      <td>49.276462</td>\n",
       "      <td>-0.702474</td>\n",
       "      <td>0.73250</td>\n",
       "      <td>5.350000</td>\n",
       "      <td>light rain</td>\n",
       "    </tr>\n",
       "    <tr>\n",
       "      <th>11</th>\n",
       "      <td>24</td>\n",
       "      <td>Nimes</td>\n",
       "      <td>78.750</td>\n",
       "      <td>19.83000</td>\n",
       "      <td>17.50125</td>\n",
       "      <td>13.41750</td>\n",
       "      <td>15.20250</td>\n",
       "      <td>43.837425</td>\n",
       "      <td>4.360069</td>\n",
       "      <td>0.40125</td>\n",
       "      <td>5.482500</td>\n",
       "      <td>[light rain, overcast clouds]</td>\n",
       "    </tr>\n",
       "    <tr>\n",
       "      <th>12</th>\n",
       "      <td>16</td>\n",
       "      <td>Lyon</td>\n",
       "      <td>71.375</td>\n",
       "      <td>16.29875</td>\n",
       "      <td>14.39250</td>\n",
       "      <td>11.15250</td>\n",
       "      <td>12.87375</td>\n",
       "      <td>45.757814</td>\n",
       "      <td>4.832011</td>\n",
       "      <td>0.82375</td>\n",
       "      <td>5.670000</td>\n",
       "      <td>light rain</td>\n",
       "    </tr>\n",
       "    <tr>\n",
       "      <th>13</th>\n",
       "      <td>13</td>\n",
       "      <td>Dijon</td>\n",
       "      <td>91.125</td>\n",
       "      <td>14.25375</td>\n",
       "      <td>12.21250</td>\n",
       "      <td>9.14875</td>\n",
       "      <td>10.62625</td>\n",
       "      <td>47.321581</td>\n",
       "      <td>5.041470</td>\n",
       "      <td>0.81000</td>\n",
       "      <td>5.767143</td>\n",
       "      <td>light rain</td>\n",
       "    </tr>\n",
       "    <tr>\n",
       "      <th>14</th>\n",
       "      <td>4</td>\n",
       "      <td>Rouen</td>\n",
       "      <td>86.500</td>\n",
       "      <td>14.30375</td>\n",
       "      <td>12.28875</td>\n",
       "      <td>10.16875</td>\n",
       "      <td>10.41375</td>\n",
       "      <td>49.440459</td>\n",
       "      <td>1.093966</td>\n",
       "      <td>0.79875</td>\n",
       "      <td>5.817143</td>\n",
       "      <td>light rain</td>\n",
       "    </tr>\n",
       "    <tr>\n",
       "      <th>15</th>\n",
       "      <td>28</td>\n",
       "      <td>Carcassonne</td>\n",
       "      <td>81.625</td>\n",
       "      <td>17.57875</td>\n",
       "      <td>16.00375</td>\n",
       "      <td>12.96875</td>\n",
       "      <td>14.46875</td>\n",
       "      <td>43.213036</td>\n",
       "      <td>2.349107</td>\n",
       "      <td>0.77875</td>\n",
       "      <td>5.834286</td>\n",
       "      <td>light rain</td>\n",
       "    </tr>\n",
       "    <tr>\n",
       "      <th>16</th>\n",
       "      <td>21</td>\n",
       "      <td>Aix en Provence</td>\n",
       "      <td>79.875</td>\n",
       "      <td>17.94000</td>\n",
       "      <td>16.98250</td>\n",
       "      <td>13.68250</td>\n",
       "      <td>15.76250</td>\n",
       "      <td>43.529842</td>\n",
       "      <td>5.447474</td>\n",
       "      <td>0.41750</td>\n",
       "      <td>5.842500</td>\n",
       "      <td>light rain</td>\n",
       "    </tr>\n",
       "    <tr>\n",
       "      <th>17</th>\n",
       "      <td>0</td>\n",
       "      <td>Mont Saint Michel</td>\n",
       "      <td>71.500</td>\n",
       "      <td>15.59625</td>\n",
       "      <td>13.97875</td>\n",
       "      <td>11.54875</td>\n",
       "      <td>12.43500</td>\n",
       "      <td>48.635954</td>\n",
       "      <td>-1.511460</td>\n",
       "      <td>0.79375</td>\n",
       "      <td>5.934286</td>\n",
       "      <td>light rain</td>\n",
       "    </tr>\n",
       "    <tr>\n",
       "      <th>18</th>\n",
       "      <td>30</td>\n",
       "      <td>Toulouse</td>\n",
       "      <td>81.250</td>\n",
       "      <td>18.13250</td>\n",
       "      <td>16.30375</td>\n",
       "      <td>12.77000</td>\n",
       "      <td>14.38625</td>\n",
       "      <td>43.604462</td>\n",
       "      <td>1.444247</td>\n",
       "      <td>0.81500</td>\n",
       "      <td>6.128571</td>\n",
       "      <td>light rain</td>\n",
       "    </tr>\n",
       "    <tr>\n",
       "      <th>19</th>\n",
       "      <td>3</td>\n",
       "      <td>Le Havre</td>\n",
       "      <td>78.250</td>\n",
       "      <td>14.91875</td>\n",
       "      <td>14.21000</td>\n",
       "      <td>13.41625</td>\n",
       "      <td>13.77625</td>\n",
       "      <td>49.493898</td>\n",
       "      <td>0.107973</td>\n",
       "      <td>0.79625</td>\n",
       "      <td>6.364286</td>\n",
       "      <td>light rain</td>\n",
       "    </tr>\n",
       "    <tr>\n",
       "      <th>20</th>\n",
       "      <td>10</td>\n",
       "      <td>Colmar</td>\n",
       "      <td>88.500</td>\n",
       "      <td>15.05875</td>\n",
       "      <td>12.18125</td>\n",
       "      <td>9.37875</td>\n",
       "      <td>10.99000</td>\n",
       "      <td>48.077752</td>\n",
       "      <td>7.357964</td>\n",
       "      <td>0.80625</td>\n",
       "      <td>6.431429</td>\n",
       "      <td>light rain</td>\n",
       "    </tr>\n",
       "    <tr>\n",
       "      <th>21</th>\n",
       "      <td>9</td>\n",
       "      <td>Chateau du Haut Koenigsbourg</td>\n",
       "      <td>90.000</td>\n",
       "      <td>11.55250</td>\n",
       "      <td>8.39625</td>\n",
       "      <td>6.44250</td>\n",
       "      <td>7.07875</td>\n",
       "      <td>48.249490</td>\n",
       "      <td>7.344296</td>\n",
       "      <td>0.80375</td>\n",
       "      <td>6.674286</td>\n",
       "      <td>moderate rain</td>\n",
       "    </tr>\n",
       "    <tr>\n",
       "      <th>22</th>\n",
       "      <td>11</td>\n",
       "      <td>Eguisheim</td>\n",
       "      <td>88.000</td>\n",
       "      <td>15.11250</td>\n",
       "      <td>12.12750</td>\n",
       "      <td>9.51375</td>\n",
       "      <td>11.01250</td>\n",
       "      <td>48.044797</td>\n",
       "      <td>7.307962</td>\n",
       "      <td>0.80750</td>\n",
       "      <td>6.730000</td>\n",
       "      <td>light rain</td>\n",
       "    </tr>\n",
       "    <tr>\n",
       "      <th>23</th>\n",
       "      <td>29</td>\n",
       "      <td>Ariege</td>\n",
       "      <td>85.375</td>\n",
       "      <td>10.17625</td>\n",
       "      <td>7.92875</td>\n",
       "      <td>5.25500</td>\n",
       "      <td>6.44375</td>\n",
       "      <td>42.945537</td>\n",
       "      <td>1.406554</td>\n",
       "      <td>0.83750</td>\n",
       "      <td>6.920000</td>\n",
       "      <td>moderate rain</td>\n",
       "    </tr>\n",
       "    <tr>\n",
       "      <th>24</th>\n",
       "      <td>31</td>\n",
       "      <td>Montauban</td>\n",
       "      <td>76.625</td>\n",
       "      <td>18.41250</td>\n",
       "      <td>15.80625</td>\n",
       "      <td>12.01125</td>\n",
       "      <td>13.41375</td>\n",
       "      <td>44.017584</td>\n",
       "      <td>1.354999</td>\n",
       "      <td>0.80625</td>\n",
       "      <td>7.670000</td>\n",
       "      <td>light rain</td>\n",
       "    </tr>\n",
       "    <tr>\n",
       "      <th>25</th>\n",
       "      <td>18</td>\n",
       "      <td>Bormes les Mimosas</td>\n",
       "      <td>80.375</td>\n",
       "      <td>19.46875</td>\n",
       "      <td>17.81750</td>\n",
       "      <td>15.64875</td>\n",
       "      <td>17.18250</td>\n",
       "      <td>43.150697</td>\n",
       "      <td>6.341928</td>\n",
       "      <td>0.31500</td>\n",
       "      <td>7.786667</td>\n",
       "      <td>broken clouds</td>\n",
       "    </tr>\n",
       "    <tr>\n",
       "      <th>26</th>\n",
       "      <td>12</td>\n",
       "      <td>Besancon</td>\n",
       "      <td>90.500</td>\n",
       "      <td>14.19375</td>\n",
       "      <td>11.30625</td>\n",
       "      <td>9.02625</td>\n",
       "      <td>9.94625</td>\n",
       "      <td>47.238022</td>\n",
       "      <td>6.024362</td>\n",
       "      <td>0.81000</td>\n",
       "      <td>7.928571</td>\n",
       "      <td>light rain</td>\n",
       "    </tr>\n",
       "    <tr>\n",
       "      <th>27</th>\n",
       "      <td>15</td>\n",
       "      <td>Grenoble</td>\n",
       "      <td>90.750</td>\n",
       "      <td>16.31125</td>\n",
       "      <td>13.35375</td>\n",
       "      <td>11.32000</td>\n",
       "      <td>12.04875</td>\n",
       "      <td>45.187560</td>\n",
       "      <td>5.735782</td>\n",
       "      <td>0.64125</td>\n",
       "      <td>7.965714</td>\n",
       "      <td>light rain</td>\n",
       "    </tr>\n",
       "    <tr>\n",
       "      <th>28</th>\n",
       "      <td>25</td>\n",
       "      <td>Aigues Mortes</td>\n",
       "      <td>79.500</td>\n",
       "      <td>19.41375</td>\n",
       "      <td>18.69625</td>\n",
       "      <td>15.75625</td>\n",
       "      <td>17.12250</td>\n",
       "      <td>43.565823</td>\n",
       "      <td>4.191284</td>\n",
       "      <td>0.44000</td>\n",
       "      <td>8.650000</td>\n",
       "      <td>light rain</td>\n",
       "    </tr>\n",
       "    <tr>\n",
       "      <th>29</th>\n",
       "      <td>19</td>\n",
       "      <td>Cassis</td>\n",
       "      <td>84.250</td>\n",
       "      <td>18.70000</td>\n",
       "      <td>18.78375</td>\n",
       "      <td>16.62375</td>\n",
       "      <td>18.06250</td>\n",
       "      <td>43.214036</td>\n",
       "      <td>5.539632</td>\n",
       "      <td>0.43875</td>\n",
       "      <td>8.932500</td>\n",
       "      <td>[broken clouds, moderate rain]</td>\n",
       "    </tr>\n",
       "    <tr>\n",
       "      <th>30</th>\n",
       "      <td>20</td>\n",
       "      <td>Marseille</td>\n",
       "      <td>81.750</td>\n",
       "      <td>18.84625</td>\n",
       "      <td>19.24875</td>\n",
       "      <td>16.74875</td>\n",
       "      <td>18.44250</td>\n",
       "      <td>43.296174</td>\n",
       "      <td>5.369953</td>\n",
       "      <td>0.44375</td>\n",
       "      <td>9.095000</td>\n",
       "      <td>[broken clouds, light rain, moderate rain]</td>\n",
       "    </tr>\n",
       "    <tr>\n",
       "      <th>31</th>\n",
       "      <td>26</td>\n",
       "      <td>Saintes Maries de la mer</td>\n",
       "      <td>77.375</td>\n",
       "      <td>19.32750</td>\n",
       "      <td>18.87750</td>\n",
       "      <td>16.27000</td>\n",
       "      <td>17.48000</td>\n",
       "      <td>43.452277</td>\n",
       "      <td>4.428717</td>\n",
       "      <td>0.41000</td>\n",
       "      <td>9.250000</td>\n",
       "      <td>light rain</td>\n",
       "    </tr>\n",
       "    <tr>\n",
       "      <th>32</th>\n",
       "      <td>14</td>\n",
       "      <td>Annecy</td>\n",
       "      <td>88.500</td>\n",
       "      <td>13.93250</td>\n",
       "      <td>11.43250</td>\n",
       "      <td>9.29375</td>\n",
       "      <td>10.18625</td>\n",
       "      <td>45.899235</td>\n",
       "      <td>6.128885</td>\n",
       "      <td>0.75625</td>\n",
       "      <td>11.337143</td>\n",
       "      <td>light rain</td>\n",
       "    </tr>\n",
       "    <tr>\n",
       "      <th>33</th>\n",
       "      <td>32</td>\n",
       "      <td>Biarritz</td>\n",
       "      <td>77.500</td>\n",
       "      <td>17.21000</td>\n",
       "      <td>16.25875</td>\n",
       "      <td>14.86000</td>\n",
       "      <td>15.48375</td>\n",
       "      <td>43.471144</td>\n",
       "      <td>-1.552727</td>\n",
       "      <td>0.90500</td>\n",
       "      <td>20.571250</td>\n",
       "      <td>[light rain, moderate rain]</td>\n",
       "    </tr>\n",
       "    <tr>\n",
       "      <th>34</th>\n",
       "      <td>33</td>\n",
       "      <td>Bayonne</td>\n",
       "      <td>75.375</td>\n",
       "      <td>17.73500</td>\n",
       "      <td>16.41875</td>\n",
       "      <td>14.83125</td>\n",
       "      <td>15.44500</td>\n",
       "      <td>43.494514</td>\n",
       "      <td>-1.473666</td>\n",
       "      <td>0.91625</td>\n",
       "      <td>20.631250</td>\n",
       "      <td>[light rain, moderate rain]</td>\n",
       "    </tr>\n",
       "  </tbody>\n",
       "</table>\n",
       "</div>"
      ],
      "text/plain": [
       "    id                          city  clouds  feels_like_day  feels_like_eve  \\\n",
       "0    5                         Paris  85.625        15.27375        14.07500   \n",
       "1   34                   La Rochelle  67.500        16.79875        16.55000   \n",
       "2   22                       Avignon  76.875        19.67500        17.50000   \n",
       "3   17              Gorges du Verdon  85.000        14.08625        10.43875   \n",
       "4   23                          Uzes  77.625        18.85875        16.14000   \n",
       "5    6                        Amiens  86.000        13.98375        11.85625   \n",
       "6    7                         Lille  76.125        14.28875        12.17750   \n",
       "7    8                    Strasbourg  91.500        14.53250        12.41125   \n",
       "8    1                       St Malo  73.250        15.79000        14.60125   \n",
       "9   27                     Collioure  79.500        19.92500        18.82625   \n",
       "10   2                        Bayeux  74.000        14.89625        12.45250   \n",
       "11  24                         Nimes  78.750        19.83000        17.50125   \n",
       "12  16                          Lyon  71.375        16.29875        14.39250   \n",
       "13  13                         Dijon  91.125        14.25375        12.21250   \n",
       "14   4                         Rouen  86.500        14.30375        12.28875   \n",
       "15  28                   Carcassonne  81.625        17.57875        16.00375   \n",
       "16  21               Aix en Provence  79.875        17.94000        16.98250   \n",
       "17   0             Mont Saint Michel  71.500        15.59625        13.97875   \n",
       "18  30                      Toulouse  81.250        18.13250        16.30375   \n",
       "19   3                      Le Havre  78.250        14.91875        14.21000   \n",
       "20  10                        Colmar  88.500        15.05875        12.18125   \n",
       "21   9  Chateau du Haut Koenigsbourg  90.000        11.55250         8.39625   \n",
       "22  11                     Eguisheim  88.000        15.11250        12.12750   \n",
       "23  29                        Ariege  85.375        10.17625         7.92875   \n",
       "24  31                     Montauban  76.625        18.41250        15.80625   \n",
       "25  18            Bormes les Mimosas  80.375        19.46875        17.81750   \n",
       "26  12                      Besancon  90.500        14.19375        11.30625   \n",
       "27  15                      Grenoble  90.750        16.31125        13.35375   \n",
       "28  25                 Aigues Mortes  79.500        19.41375        18.69625   \n",
       "29  19                        Cassis  84.250        18.70000        18.78375   \n",
       "30  20                     Marseille  81.750        18.84625        19.24875   \n",
       "31  26      Saintes Maries de la mer  77.375        19.32750        18.87750   \n",
       "32  14                        Annecy  88.500        13.93250        11.43250   \n",
       "33  32                      Biarritz  77.500        17.21000        16.25875   \n",
       "34  33                       Bayonne  75.375        17.73500        16.41875   \n",
       "\n",
       "    feels_like_morn  feels_like_night        lat       lon      pop  \\\n",
       "0          11.44500          12.63875  48.858890  2.320041  0.66500   \n",
       "1          13.56750          15.72375  46.159113 -1.152043  0.64000   \n",
       "2          13.14625          15.22750  43.949249  4.805901  0.40000   \n",
       "3           7.03125           8.66125  43.749656  6.328562  0.31625   \n",
       "4          12.22000          13.89375  44.012128  4.419672  0.40875   \n",
       "5           9.61125          10.33375  49.894171  2.295695  0.73500   \n",
       "6           9.25875          10.97625  50.636565  3.063528  0.68375   \n",
       "7           9.02500          11.30625  48.584614  7.750713  0.76250   \n",
       "8          13.23000          14.06500  48.649518 -2.026041  0.78625   \n",
       "9          15.90625          17.56375  42.525050  3.083155  0.65625   \n",
       "10          9.92375          11.29750  49.276462 -0.702474  0.73250   \n",
       "11         13.41750          15.20250  43.837425  4.360069  0.40125   \n",
       "12         11.15250          12.87375  45.757814  4.832011  0.82375   \n",
       "13          9.14875          10.62625  47.321581  5.041470  0.81000   \n",
       "14         10.16875          10.41375  49.440459  1.093966  0.79875   \n",
       "15         12.96875          14.46875  43.213036  2.349107  0.77875   \n",
       "16         13.68250          15.76250  43.529842  5.447474  0.41750   \n",
       "17         11.54875          12.43500  48.635954 -1.511460  0.79375   \n",
       "18         12.77000          14.38625  43.604462  1.444247  0.81500   \n",
       "19         13.41625          13.77625  49.493898  0.107973  0.79625   \n",
       "20          9.37875          10.99000  48.077752  7.357964  0.80625   \n",
       "21          6.44250           7.07875  48.249490  7.344296  0.80375   \n",
       "22          9.51375          11.01250  48.044797  7.307962  0.80750   \n",
       "23          5.25500           6.44375  42.945537  1.406554  0.83750   \n",
       "24         12.01125          13.41375  44.017584  1.354999  0.80625   \n",
       "25         15.64875          17.18250  43.150697  6.341928  0.31500   \n",
       "26          9.02625           9.94625  47.238022  6.024362  0.81000   \n",
       "27         11.32000          12.04875  45.187560  5.735782  0.64125   \n",
       "28         15.75625          17.12250  43.565823  4.191284  0.44000   \n",
       "29         16.62375          18.06250  43.214036  5.539632  0.43875   \n",
       "30         16.74875          18.44250  43.296174  5.369953  0.44375   \n",
       "31         16.27000          17.48000  43.452277  4.428717  0.41000   \n",
       "32          9.29375          10.18625  45.899235  6.128885  0.75625   \n",
       "33         14.86000          15.48375  43.471144 -1.552727  0.90500   \n",
       "34         14.83125          15.44500  43.494514 -1.473666  0.91625   \n",
       "\n",
       "         rain                         weather_description  \n",
       "0    1.830000                                  light rain  \n",
       "1    2.444286                                  light rain  \n",
       "2    3.372500                 [light rain, moderate rain]  \n",
       "3    3.747500                                  light rain  \n",
       "4    3.862500                                  light rain  \n",
       "5    4.031429                                  light rain  \n",
       "6    4.630000                                  light rain  \n",
       "7    4.834286                                  light rain  \n",
       "8    5.006250                                  light rain  \n",
       "9    5.326667                               moderate rain  \n",
       "10   5.350000                                  light rain  \n",
       "11   5.482500               [light rain, overcast clouds]  \n",
       "12   5.670000                                  light rain  \n",
       "13   5.767143                                  light rain  \n",
       "14   5.817143                                  light rain  \n",
       "15   5.834286                                  light rain  \n",
       "16   5.842500                                  light rain  \n",
       "17   5.934286                                  light rain  \n",
       "18   6.128571                                  light rain  \n",
       "19   6.364286                                  light rain  \n",
       "20   6.431429                                  light rain  \n",
       "21   6.674286                               moderate rain  \n",
       "22   6.730000                                  light rain  \n",
       "23   6.920000                               moderate rain  \n",
       "24   7.670000                                  light rain  \n",
       "25   7.786667                               broken clouds  \n",
       "26   7.928571                                  light rain  \n",
       "27   7.965714                                  light rain  \n",
       "28   8.650000                                  light rain  \n",
       "29   8.932500              [broken clouds, moderate rain]  \n",
       "30   9.095000  [broken clouds, light rain, moderate rain]  \n",
       "31   9.250000                                  light rain  \n",
       "32  11.337143                                  light rain  \n",
       "33  20.571250                 [light rain, moderate rain]  \n",
       "34  20.631250                 [light rain, moderate rain]  "
      ]
     },
     "execution_count": 13,
     "metadata": {},
     "output_type": "execute_result"
    }
   ],
   "source": [
    "df_pivot"
   ]
  },
  {
   "cell_type": "code",
   "execution_count": 14,
   "metadata": {},
   "outputs": [
    {
     "data": {
      "text/plain": [
       "array(['Paris', 'La Rochelle', 'Avignon', 'Gorges du Verdon', 'Uzes',\n",
       "       'Amiens'], dtype=object)"
      ]
     },
     "execution_count": 14,
     "metadata": {},
     "output_type": "execute_result"
    }
   ],
   "source": [
    "# top 5 destinations :\n",
    "\n",
    "top_destinations = df_pivot.sort_values(by=['rain', 'pop', 'clouds', 'feels_like_day'], ascending=[True, True, True, False]).loc[0:5, 'city'].to_numpy()\n",
    "\n",
    "top_destinations\n"
   ]
  },
  {
   "cell_type": "code",
   "execution_count": 15,
   "metadata": {},
   "outputs": [
    {
     "data": {
      "text/plain": [
       "city\n",
       "Aigues Mortes                                                   light rain\n",
       "Aix en Provence                                                 light rain\n",
       "Amiens                                                          light rain\n",
       "Annecy                                                          light rain\n",
       "Ariege                                                       moderate rain\n",
       "Avignon                                        [light rain, moderate rain]\n",
       "Bayeux                                                          light rain\n",
       "Bayonne                                        [light rain, moderate rain]\n",
       "Besancon                                                        light rain\n",
       "Biarritz                                       [light rain, moderate rain]\n",
       "Bormes les Mimosas                                           broken clouds\n",
       "Carcassonne                                                     light rain\n",
       "Cassis                                      [broken clouds, moderate rain]\n",
       "Chateau du Haut Koenigsbourg                                 moderate rain\n",
       "Collioure                                                    moderate rain\n",
       "Colmar                                                          light rain\n",
       "Dijon                                                           light rain\n",
       "Eguisheim                                                       light rain\n",
       "Gorges du Verdon                                                light rain\n",
       "Grenoble                                                        light rain\n",
       "La Rochelle                                                     light rain\n",
       "Le Havre                                                        light rain\n",
       "Lille                                                           light rain\n",
       "Lyon                                                            light rain\n",
       "Marseille                       [broken clouds, light rain, moderate rain]\n",
       "Mont Saint Michel                                               light rain\n",
       "Montauban                                                       light rain\n",
       "Nimes                                        [light rain, overcast clouds]\n",
       "Paris                                                           light rain\n",
       "Rouen                                                           light rain\n",
       "Saintes Maries de la mer                                        light rain\n",
       "St Malo                                                         light rain\n",
       "Strasbourg                                                      light rain\n",
       "Toulouse                                                        light rain\n",
       "Uzes                                                            light rain\n",
       "Name: weather_description, dtype: object"
      ]
     },
     "execution_count": 15,
     "metadata": {},
     "output_type": "execute_result"
    }
   ],
   "source": [
    "weather_df.groupby('city')['weather_description'].agg(pd.Series.mode)"
   ]
  },
  {
   "cell_type": "code",
   "execution_count": 16,
   "metadata": {},
   "outputs": [
    {
     "data": {
      "text/html": [
       "<div>\n",
       "<style scoped>\n",
       "    .dataframe tbody tr th:only-of-type {\n",
       "        vertical-align: middle;\n",
       "    }\n",
       "\n",
       "    .dataframe tbody tr th {\n",
       "        vertical-align: top;\n",
       "    }\n",
       "\n",
       "    .dataframe thead th {\n",
       "        text-align: right;\n",
       "    }\n",
       "</style>\n",
       "<table border=\"1\" class=\"dataframe\">\n",
       "  <thead>\n",
       "    <tr style=\"text-align: right;\">\n",
       "      <th></th>\n",
       "      <th>id</th>\n",
       "      <th>city</th>\n",
       "      <th>clouds</th>\n",
       "      <th>feels_like_day</th>\n",
       "      <th>feels_like_eve</th>\n",
       "      <th>feels_like_morn</th>\n",
       "      <th>feels_like_night</th>\n",
       "      <th>lat</th>\n",
       "      <th>lon</th>\n",
       "      <th>pop</th>\n",
       "      <th>rain</th>\n",
       "      <th>weather_description</th>\n",
       "    </tr>\n",
       "  </thead>\n",
       "  <tbody>\n",
       "    <tr>\n",
       "      <th>0</th>\n",
       "      <td>5</td>\n",
       "      <td>Paris</td>\n",
       "      <td>85.625</td>\n",
       "      <td>15.27375</td>\n",
       "      <td>14.07500</td>\n",
       "      <td>11.44500</td>\n",
       "      <td>12.63875</td>\n",
       "      <td>48.858890</td>\n",
       "      <td>2.320041</td>\n",
       "      <td>0.66500</td>\n",
       "      <td>1.830000</td>\n",
       "      <td>light rain</td>\n",
       "    </tr>\n",
       "    <tr>\n",
       "      <th>1</th>\n",
       "      <td>34</td>\n",
       "      <td>La Rochelle</td>\n",
       "      <td>67.500</td>\n",
       "      <td>16.79875</td>\n",
       "      <td>16.55000</td>\n",
       "      <td>13.56750</td>\n",
       "      <td>15.72375</td>\n",
       "      <td>46.159113</td>\n",
       "      <td>-1.152043</td>\n",
       "      <td>0.64000</td>\n",
       "      <td>2.444286</td>\n",
       "      <td>light rain</td>\n",
       "    </tr>\n",
       "    <tr>\n",
       "      <th>2</th>\n",
       "      <td>22</td>\n",
       "      <td>Avignon</td>\n",
       "      <td>76.875</td>\n",
       "      <td>19.67500</td>\n",
       "      <td>17.50000</td>\n",
       "      <td>13.14625</td>\n",
       "      <td>15.22750</td>\n",
       "      <td>43.949249</td>\n",
       "      <td>4.805901</td>\n",
       "      <td>0.40000</td>\n",
       "      <td>3.372500</td>\n",
       "      <td>[light rain, moderate rain]</td>\n",
       "    </tr>\n",
       "    <tr>\n",
       "      <th>3</th>\n",
       "      <td>17</td>\n",
       "      <td>Gorges du Verdon</td>\n",
       "      <td>85.000</td>\n",
       "      <td>14.08625</td>\n",
       "      <td>10.43875</td>\n",
       "      <td>7.03125</td>\n",
       "      <td>8.66125</td>\n",
       "      <td>43.749656</td>\n",
       "      <td>6.328562</td>\n",
       "      <td>0.31625</td>\n",
       "      <td>3.747500</td>\n",
       "      <td>light rain</td>\n",
       "    </tr>\n",
       "    <tr>\n",
       "      <th>4</th>\n",
       "      <td>23</td>\n",
       "      <td>Uzes</td>\n",
       "      <td>77.625</td>\n",
       "      <td>18.85875</td>\n",
       "      <td>16.14000</td>\n",
       "      <td>12.22000</td>\n",
       "      <td>13.89375</td>\n",
       "      <td>44.012128</td>\n",
       "      <td>4.419672</td>\n",
       "      <td>0.40875</td>\n",
       "      <td>3.862500</td>\n",
       "      <td>light rain</td>\n",
       "    </tr>\n",
       "    <tr>\n",
       "      <th>5</th>\n",
       "      <td>6</td>\n",
       "      <td>Amiens</td>\n",
       "      <td>86.000</td>\n",
       "      <td>13.98375</td>\n",
       "      <td>11.85625</td>\n",
       "      <td>9.61125</td>\n",
       "      <td>10.33375</td>\n",
       "      <td>49.894171</td>\n",
       "      <td>2.295695</td>\n",
       "      <td>0.73500</td>\n",
       "      <td>4.031429</td>\n",
       "      <td>light rain</td>\n",
       "    </tr>\n",
       "    <tr>\n",
       "      <th>6</th>\n",
       "      <td>7</td>\n",
       "      <td>Lille</td>\n",
       "      <td>76.125</td>\n",
       "      <td>14.28875</td>\n",
       "      <td>12.17750</td>\n",
       "      <td>9.25875</td>\n",
       "      <td>10.97625</td>\n",
       "      <td>50.636565</td>\n",
       "      <td>3.063528</td>\n",
       "      <td>0.68375</td>\n",
       "      <td>4.630000</td>\n",
       "      <td>light rain</td>\n",
       "    </tr>\n",
       "    <tr>\n",
       "      <th>7</th>\n",
       "      <td>8</td>\n",
       "      <td>Strasbourg</td>\n",
       "      <td>91.500</td>\n",
       "      <td>14.53250</td>\n",
       "      <td>12.41125</td>\n",
       "      <td>9.02500</td>\n",
       "      <td>11.30625</td>\n",
       "      <td>48.584614</td>\n",
       "      <td>7.750713</td>\n",
       "      <td>0.76250</td>\n",
       "      <td>4.834286</td>\n",
       "      <td>light rain</td>\n",
       "    </tr>\n",
       "    <tr>\n",
       "      <th>8</th>\n",
       "      <td>1</td>\n",
       "      <td>St Malo</td>\n",
       "      <td>73.250</td>\n",
       "      <td>15.79000</td>\n",
       "      <td>14.60125</td>\n",
       "      <td>13.23000</td>\n",
       "      <td>14.06500</td>\n",
       "      <td>48.649518</td>\n",
       "      <td>-2.026041</td>\n",
       "      <td>0.78625</td>\n",
       "      <td>5.006250</td>\n",
       "      <td>light rain</td>\n",
       "    </tr>\n",
       "    <tr>\n",
       "      <th>9</th>\n",
       "      <td>27</td>\n",
       "      <td>Collioure</td>\n",
       "      <td>79.500</td>\n",
       "      <td>19.92500</td>\n",
       "      <td>18.82625</td>\n",
       "      <td>15.90625</td>\n",
       "      <td>17.56375</td>\n",
       "      <td>42.525050</td>\n",
       "      <td>3.083155</td>\n",
       "      <td>0.65625</td>\n",
       "      <td>5.326667</td>\n",
       "      <td>moderate rain</td>\n",
       "    </tr>\n",
       "    <tr>\n",
       "      <th>10</th>\n",
       "      <td>2</td>\n",
       "      <td>Bayeux</td>\n",
       "      <td>74.000</td>\n",
       "      <td>14.89625</td>\n",
       "      <td>12.45250</td>\n",
       "      <td>9.92375</td>\n",
       "      <td>11.29750</td>\n",
       "      <td>49.276462</td>\n",
       "      <td>-0.702474</td>\n",
       "      <td>0.73250</td>\n",
       "      <td>5.350000</td>\n",
       "      <td>light rain</td>\n",
       "    </tr>\n",
       "    <tr>\n",
       "      <th>11</th>\n",
       "      <td>24</td>\n",
       "      <td>Nimes</td>\n",
       "      <td>78.750</td>\n",
       "      <td>19.83000</td>\n",
       "      <td>17.50125</td>\n",
       "      <td>13.41750</td>\n",
       "      <td>15.20250</td>\n",
       "      <td>43.837425</td>\n",
       "      <td>4.360069</td>\n",
       "      <td>0.40125</td>\n",
       "      <td>5.482500</td>\n",
       "      <td>[light rain, overcast clouds]</td>\n",
       "    </tr>\n",
       "    <tr>\n",
       "      <th>12</th>\n",
       "      <td>16</td>\n",
       "      <td>Lyon</td>\n",
       "      <td>71.375</td>\n",
       "      <td>16.29875</td>\n",
       "      <td>14.39250</td>\n",
       "      <td>11.15250</td>\n",
       "      <td>12.87375</td>\n",
       "      <td>45.757814</td>\n",
       "      <td>4.832011</td>\n",
       "      <td>0.82375</td>\n",
       "      <td>5.670000</td>\n",
       "      <td>light rain</td>\n",
       "    </tr>\n",
       "    <tr>\n",
       "      <th>13</th>\n",
       "      <td>13</td>\n",
       "      <td>Dijon</td>\n",
       "      <td>91.125</td>\n",
       "      <td>14.25375</td>\n",
       "      <td>12.21250</td>\n",
       "      <td>9.14875</td>\n",
       "      <td>10.62625</td>\n",
       "      <td>47.321581</td>\n",
       "      <td>5.041470</td>\n",
       "      <td>0.81000</td>\n",
       "      <td>5.767143</td>\n",
       "      <td>light rain</td>\n",
       "    </tr>\n",
       "    <tr>\n",
       "      <th>14</th>\n",
       "      <td>4</td>\n",
       "      <td>Rouen</td>\n",
       "      <td>86.500</td>\n",
       "      <td>14.30375</td>\n",
       "      <td>12.28875</td>\n",
       "      <td>10.16875</td>\n",
       "      <td>10.41375</td>\n",
       "      <td>49.440459</td>\n",
       "      <td>1.093966</td>\n",
       "      <td>0.79875</td>\n",
       "      <td>5.817143</td>\n",
       "      <td>light rain</td>\n",
       "    </tr>\n",
       "    <tr>\n",
       "      <th>15</th>\n",
       "      <td>28</td>\n",
       "      <td>Carcassonne</td>\n",
       "      <td>81.625</td>\n",
       "      <td>17.57875</td>\n",
       "      <td>16.00375</td>\n",
       "      <td>12.96875</td>\n",
       "      <td>14.46875</td>\n",
       "      <td>43.213036</td>\n",
       "      <td>2.349107</td>\n",
       "      <td>0.77875</td>\n",
       "      <td>5.834286</td>\n",
       "      <td>light rain</td>\n",
       "    </tr>\n",
       "    <tr>\n",
       "      <th>16</th>\n",
       "      <td>21</td>\n",
       "      <td>Aix en Provence</td>\n",
       "      <td>79.875</td>\n",
       "      <td>17.94000</td>\n",
       "      <td>16.98250</td>\n",
       "      <td>13.68250</td>\n",
       "      <td>15.76250</td>\n",
       "      <td>43.529842</td>\n",
       "      <td>5.447474</td>\n",
       "      <td>0.41750</td>\n",
       "      <td>5.842500</td>\n",
       "      <td>light rain</td>\n",
       "    </tr>\n",
       "    <tr>\n",
       "      <th>17</th>\n",
       "      <td>0</td>\n",
       "      <td>Mont Saint Michel</td>\n",
       "      <td>71.500</td>\n",
       "      <td>15.59625</td>\n",
       "      <td>13.97875</td>\n",
       "      <td>11.54875</td>\n",
       "      <td>12.43500</td>\n",
       "      <td>48.635954</td>\n",
       "      <td>-1.511460</td>\n",
       "      <td>0.79375</td>\n",
       "      <td>5.934286</td>\n",
       "      <td>light rain</td>\n",
       "    </tr>\n",
       "    <tr>\n",
       "      <th>18</th>\n",
       "      <td>30</td>\n",
       "      <td>Toulouse</td>\n",
       "      <td>81.250</td>\n",
       "      <td>18.13250</td>\n",
       "      <td>16.30375</td>\n",
       "      <td>12.77000</td>\n",
       "      <td>14.38625</td>\n",
       "      <td>43.604462</td>\n",
       "      <td>1.444247</td>\n",
       "      <td>0.81500</td>\n",
       "      <td>6.128571</td>\n",
       "      <td>light rain</td>\n",
       "    </tr>\n",
       "    <tr>\n",
       "      <th>19</th>\n",
       "      <td>3</td>\n",
       "      <td>Le Havre</td>\n",
       "      <td>78.250</td>\n",
       "      <td>14.91875</td>\n",
       "      <td>14.21000</td>\n",
       "      <td>13.41625</td>\n",
       "      <td>13.77625</td>\n",
       "      <td>49.493898</td>\n",
       "      <td>0.107973</td>\n",
       "      <td>0.79625</td>\n",
       "      <td>6.364286</td>\n",
       "      <td>light rain</td>\n",
       "    </tr>\n",
       "    <tr>\n",
       "      <th>20</th>\n",
       "      <td>10</td>\n",
       "      <td>Colmar</td>\n",
       "      <td>88.500</td>\n",
       "      <td>15.05875</td>\n",
       "      <td>12.18125</td>\n",
       "      <td>9.37875</td>\n",
       "      <td>10.99000</td>\n",
       "      <td>48.077752</td>\n",
       "      <td>7.357964</td>\n",
       "      <td>0.80625</td>\n",
       "      <td>6.431429</td>\n",
       "      <td>light rain</td>\n",
       "    </tr>\n",
       "    <tr>\n",
       "      <th>21</th>\n",
       "      <td>9</td>\n",
       "      <td>Chateau du Haut Koenigsbourg</td>\n",
       "      <td>90.000</td>\n",
       "      <td>11.55250</td>\n",
       "      <td>8.39625</td>\n",
       "      <td>6.44250</td>\n",
       "      <td>7.07875</td>\n",
       "      <td>48.249490</td>\n",
       "      <td>7.344296</td>\n",
       "      <td>0.80375</td>\n",
       "      <td>6.674286</td>\n",
       "      <td>moderate rain</td>\n",
       "    </tr>\n",
       "    <tr>\n",
       "      <th>22</th>\n",
       "      <td>11</td>\n",
       "      <td>Eguisheim</td>\n",
       "      <td>88.000</td>\n",
       "      <td>15.11250</td>\n",
       "      <td>12.12750</td>\n",
       "      <td>9.51375</td>\n",
       "      <td>11.01250</td>\n",
       "      <td>48.044797</td>\n",
       "      <td>7.307962</td>\n",
       "      <td>0.80750</td>\n",
       "      <td>6.730000</td>\n",
       "      <td>light rain</td>\n",
       "    </tr>\n",
       "    <tr>\n",
       "      <th>23</th>\n",
       "      <td>29</td>\n",
       "      <td>Ariege</td>\n",
       "      <td>85.375</td>\n",
       "      <td>10.17625</td>\n",
       "      <td>7.92875</td>\n",
       "      <td>5.25500</td>\n",
       "      <td>6.44375</td>\n",
       "      <td>42.945537</td>\n",
       "      <td>1.406554</td>\n",
       "      <td>0.83750</td>\n",
       "      <td>6.920000</td>\n",
       "      <td>moderate rain</td>\n",
       "    </tr>\n",
       "    <tr>\n",
       "      <th>24</th>\n",
       "      <td>31</td>\n",
       "      <td>Montauban</td>\n",
       "      <td>76.625</td>\n",
       "      <td>18.41250</td>\n",
       "      <td>15.80625</td>\n",
       "      <td>12.01125</td>\n",
       "      <td>13.41375</td>\n",
       "      <td>44.017584</td>\n",
       "      <td>1.354999</td>\n",
       "      <td>0.80625</td>\n",
       "      <td>7.670000</td>\n",
       "      <td>light rain</td>\n",
       "    </tr>\n",
       "    <tr>\n",
       "      <th>25</th>\n",
       "      <td>18</td>\n",
       "      <td>Bormes les Mimosas</td>\n",
       "      <td>80.375</td>\n",
       "      <td>19.46875</td>\n",
       "      <td>17.81750</td>\n",
       "      <td>15.64875</td>\n",
       "      <td>17.18250</td>\n",
       "      <td>43.150697</td>\n",
       "      <td>6.341928</td>\n",
       "      <td>0.31500</td>\n",
       "      <td>7.786667</td>\n",
       "      <td>broken clouds</td>\n",
       "    </tr>\n",
       "    <tr>\n",
       "      <th>26</th>\n",
       "      <td>12</td>\n",
       "      <td>Besancon</td>\n",
       "      <td>90.500</td>\n",
       "      <td>14.19375</td>\n",
       "      <td>11.30625</td>\n",
       "      <td>9.02625</td>\n",
       "      <td>9.94625</td>\n",
       "      <td>47.238022</td>\n",
       "      <td>6.024362</td>\n",
       "      <td>0.81000</td>\n",
       "      <td>7.928571</td>\n",
       "      <td>light rain</td>\n",
       "    </tr>\n",
       "    <tr>\n",
       "      <th>27</th>\n",
       "      <td>15</td>\n",
       "      <td>Grenoble</td>\n",
       "      <td>90.750</td>\n",
       "      <td>16.31125</td>\n",
       "      <td>13.35375</td>\n",
       "      <td>11.32000</td>\n",
       "      <td>12.04875</td>\n",
       "      <td>45.187560</td>\n",
       "      <td>5.735782</td>\n",
       "      <td>0.64125</td>\n",
       "      <td>7.965714</td>\n",
       "      <td>light rain</td>\n",
       "    </tr>\n",
       "    <tr>\n",
       "      <th>28</th>\n",
       "      <td>25</td>\n",
       "      <td>Aigues Mortes</td>\n",
       "      <td>79.500</td>\n",
       "      <td>19.41375</td>\n",
       "      <td>18.69625</td>\n",
       "      <td>15.75625</td>\n",
       "      <td>17.12250</td>\n",
       "      <td>43.565823</td>\n",
       "      <td>4.191284</td>\n",
       "      <td>0.44000</td>\n",
       "      <td>8.650000</td>\n",
       "      <td>light rain</td>\n",
       "    </tr>\n",
       "    <tr>\n",
       "      <th>29</th>\n",
       "      <td>19</td>\n",
       "      <td>Cassis</td>\n",
       "      <td>84.250</td>\n",
       "      <td>18.70000</td>\n",
       "      <td>18.78375</td>\n",
       "      <td>16.62375</td>\n",
       "      <td>18.06250</td>\n",
       "      <td>43.214036</td>\n",
       "      <td>5.539632</td>\n",
       "      <td>0.43875</td>\n",
       "      <td>8.932500</td>\n",
       "      <td>[broken clouds, moderate rain]</td>\n",
       "    </tr>\n",
       "    <tr>\n",
       "      <th>30</th>\n",
       "      <td>20</td>\n",
       "      <td>Marseille</td>\n",
       "      <td>81.750</td>\n",
       "      <td>18.84625</td>\n",
       "      <td>19.24875</td>\n",
       "      <td>16.74875</td>\n",
       "      <td>18.44250</td>\n",
       "      <td>43.296174</td>\n",
       "      <td>5.369953</td>\n",
       "      <td>0.44375</td>\n",
       "      <td>9.095000</td>\n",
       "      <td>[broken clouds, light rain, moderate rain]</td>\n",
       "    </tr>\n",
       "    <tr>\n",
       "      <th>31</th>\n",
       "      <td>26</td>\n",
       "      <td>Saintes Maries de la mer</td>\n",
       "      <td>77.375</td>\n",
       "      <td>19.32750</td>\n",
       "      <td>18.87750</td>\n",
       "      <td>16.27000</td>\n",
       "      <td>17.48000</td>\n",
       "      <td>43.452277</td>\n",
       "      <td>4.428717</td>\n",
       "      <td>0.41000</td>\n",
       "      <td>9.250000</td>\n",
       "      <td>light rain</td>\n",
       "    </tr>\n",
       "    <tr>\n",
       "      <th>32</th>\n",
       "      <td>14</td>\n",
       "      <td>Annecy</td>\n",
       "      <td>88.500</td>\n",
       "      <td>13.93250</td>\n",
       "      <td>11.43250</td>\n",
       "      <td>9.29375</td>\n",
       "      <td>10.18625</td>\n",
       "      <td>45.899235</td>\n",
       "      <td>6.128885</td>\n",
       "      <td>0.75625</td>\n",
       "      <td>11.337143</td>\n",
       "      <td>light rain</td>\n",
       "    </tr>\n",
       "    <tr>\n",
       "      <th>33</th>\n",
       "      <td>32</td>\n",
       "      <td>Biarritz</td>\n",
       "      <td>77.500</td>\n",
       "      <td>17.21000</td>\n",
       "      <td>16.25875</td>\n",
       "      <td>14.86000</td>\n",
       "      <td>15.48375</td>\n",
       "      <td>43.471144</td>\n",
       "      <td>-1.552727</td>\n",
       "      <td>0.90500</td>\n",
       "      <td>20.571250</td>\n",
       "      <td>[light rain, moderate rain]</td>\n",
       "    </tr>\n",
       "    <tr>\n",
       "      <th>34</th>\n",
       "      <td>33</td>\n",
       "      <td>Bayonne</td>\n",
       "      <td>75.375</td>\n",
       "      <td>17.73500</td>\n",
       "      <td>16.41875</td>\n",
       "      <td>14.83125</td>\n",
       "      <td>15.44500</td>\n",
       "      <td>43.494514</td>\n",
       "      <td>-1.473666</td>\n",
       "      <td>0.91625</td>\n",
       "      <td>20.631250</td>\n",
       "      <td>[light rain, moderate rain]</td>\n",
       "    </tr>\n",
       "  </tbody>\n",
       "</table>\n",
       "</div>"
      ],
      "text/plain": [
       "    id                          city  clouds  feels_like_day  feels_like_eve  \\\n",
       "0    5                         Paris  85.625        15.27375        14.07500   \n",
       "1   34                   La Rochelle  67.500        16.79875        16.55000   \n",
       "2   22                       Avignon  76.875        19.67500        17.50000   \n",
       "3   17              Gorges du Verdon  85.000        14.08625        10.43875   \n",
       "4   23                          Uzes  77.625        18.85875        16.14000   \n",
       "5    6                        Amiens  86.000        13.98375        11.85625   \n",
       "6    7                         Lille  76.125        14.28875        12.17750   \n",
       "7    8                    Strasbourg  91.500        14.53250        12.41125   \n",
       "8    1                       St Malo  73.250        15.79000        14.60125   \n",
       "9   27                     Collioure  79.500        19.92500        18.82625   \n",
       "10   2                        Bayeux  74.000        14.89625        12.45250   \n",
       "11  24                         Nimes  78.750        19.83000        17.50125   \n",
       "12  16                          Lyon  71.375        16.29875        14.39250   \n",
       "13  13                         Dijon  91.125        14.25375        12.21250   \n",
       "14   4                         Rouen  86.500        14.30375        12.28875   \n",
       "15  28                   Carcassonne  81.625        17.57875        16.00375   \n",
       "16  21               Aix en Provence  79.875        17.94000        16.98250   \n",
       "17   0             Mont Saint Michel  71.500        15.59625        13.97875   \n",
       "18  30                      Toulouse  81.250        18.13250        16.30375   \n",
       "19   3                      Le Havre  78.250        14.91875        14.21000   \n",
       "20  10                        Colmar  88.500        15.05875        12.18125   \n",
       "21   9  Chateau du Haut Koenigsbourg  90.000        11.55250         8.39625   \n",
       "22  11                     Eguisheim  88.000        15.11250        12.12750   \n",
       "23  29                        Ariege  85.375        10.17625         7.92875   \n",
       "24  31                     Montauban  76.625        18.41250        15.80625   \n",
       "25  18            Bormes les Mimosas  80.375        19.46875        17.81750   \n",
       "26  12                      Besancon  90.500        14.19375        11.30625   \n",
       "27  15                      Grenoble  90.750        16.31125        13.35375   \n",
       "28  25                 Aigues Mortes  79.500        19.41375        18.69625   \n",
       "29  19                        Cassis  84.250        18.70000        18.78375   \n",
       "30  20                     Marseille  81.750        18.84625        19.24875   \n",
       "31  26      Saintes Maries de la mer  77.375        19.32750        18.87750   \n",
       "32  14                        Annecy  88.500        13.93250        11.43250   \n",
       "33  32                      Biarritz  77.500        17.21000        16.25875   \n",
       "34  33                       Bayonne  75.375        17.73500        16.41875   \n",
       "\n",
       "    feels_like_morn  feels_like_night        lat       lon      pop  \\\n",
       "0          11.44500          12.63875  48.858890  2.320041  0.66500   \n",
       "1          13.56750          15.72375  46.159113 -1.152043  0.64000   \n",
       "2          13.14625          15.22750  43.949249  4.805901  0.40000   \n",
       "3           7.03125           8.66125  43.749656  6.328562  0.31625   \n",
       "4          12.22000          13.89375  44.012128  4.419672  0.40875   \n",
       "5           9.61125          10.33375  49.894171  2.295695  0.73500   \n",
       "6           9.25875          10.97625  50.636565  3.063528  0.68375   \n",
       "7           9.02500          11.30625  48.584614  7.750713  0.76250   \n",
       "8          13.23000          14.06500  48.649518 -2.026041  0.78625   \n",
       "9          15.90625          17.56375  42.525050  3.083155  0.65625   \n",
       "10          9.92375          11.29750  49.276462 -0.702474  0.73250   \n",
       "11         13.41750          15.20250  43.837425  4.360069  0.40125   \n",
       "12         11.15250          12.87375  45.757814  4.832011  0.82375   \n",
       "13          9.14875          10.62625  47.321581  5.041470  0.81000   \n",
       "14         10.16875          10.41375  49.440459  1.093966  0.79875   \n",
       "15         12.96875          14.46875  43.213036  2.349107  0.77875   \n",
       "16         13.68250          15.76250  43.529842  5.447474  0.41750   \n",
       "17         11.54875          12.43500  48.635954 -1.511460  0.79375   \n",
       "18         12.77000          14.38625  43.604462  1.444247  0.81500   \n",
       "19         13.41625          13.77625  49.493898  0.107973  0.79625   \n",
       "20          9.37875          10.99000  48.077752  7.357964  0.80625   \n",
       "21          6.44250           7.07875  48.249490  7.344296  0.80375   \n",
       "22          9.51375          11.01250  48.044797  7.307962  0.80750   \n",
       "23          5.25500           6.44375  42.945537  1.406554  0.83750   \n",
       "24         12.01125          13.41375  44.017584  1.354999  0.80625   \n",
       "25         15.64875          17.18250  43.150697  6.341928  0.31500   \n",
       "26          9.02625           9.94625  47.238022  6.024362  0.81000   \n",
       "27         11.32000          12.04875  45.187560  5.735782  0.64125   \n",
       "28         15.75625          17.12250  43.565823  4.191284  0.44000   \n",
       "29         16.62375          18.06250  43.214036  5.539632  0.43875   \n",
       "30         16.74875          18.44250  43.296174  5.369953  0.44375   \n",
       "31         16.27000          17.48000  43.452277  4.428717  0.41000   \n",
       "32          9.29375          10.18625  45.899235  6.128885  0.75625   \n",
       "33         14.86000          15.48375  43.471144 -1.552727  0.90500   \n",
       "34         14.83125          15.44500  43.494514 -1.473666  0.91625   \n",
       "\n",
       "         rain                         weather_description  \n",
       "0    1.830000                                  light rain  \n",
       "1    2.444286                                  light rain  \n",
       "2    3.372500                 [light rain, moderate rain]  \n",
       "3    3.747500                                  light rain  \n",
       "4    3.862500                                  light rain  \n",
       "5    4.031429                                  light rain  \n",
       "6    4.630000                                  light rain  \n",
       "7    4.834286                                  light rain  \n",
       "8    5.006250                                  light rain  \n",
       "9    5.326667                               moderate rain  \n",
       "10   5.350000                                  light rain  \n",
       "11   5.482500               [light rain, overcast clouds]  \n",
       "12   5.670000                                  light rain  \n",
       "13   5.767143                                  light rain  \n",
       "14   5.817143                                  light rain  \n",
       "15   5.834286                                  light rain  \n",
       "16   5.842500                                  light rain  \n",
       "17   5.934286                                  light rain  \n",
       "18   6.128571                                  light rain  \n",
       "19   6.364286                                  light rain  \n",
       "20   6.431429                                  light rain  \n",
       "21   6.674286                               moderate rain  \n",
       "22   6.730000                                  light rain  \n",
       "23   6.920000                               moderate rain  \n",
       "24   7.670000                                  light rain  \n",
       "25   7.786667                               broken clouds  \n",
       "26   7.928571                                  light rain  \n",
       "27   7.965714                                  light rain  \n",
       "28   8.650000                                  light rain  \n",
       "29   8.932500              [broken clouds, moderate rain]  \n",
       "30   9.095000  [broken clouds, light rain, moderate rain]  \n",
       "31   9.250000                                  light rain  \n",
       "32  11.337143                                  light rain  \n",
       "33  20.571250                 [light rain, moderate rain]  \n",
       "34  20.631250                 [light rain, moderate rain]  "
      ]
     },
     "execution_count": 16,
     "metadata": {},
     "output_type": "execute_result"
    }
   ],
   "source": [
    "df_pivot"
   ]
  },
  {
   "cell_type": "code",
   "execution_count": 17,
   "metadata": {},
   "outputs": [],
   "source": [
    "df_pivot = df_pivot.rename(columns={\"city\": \"destination\"})"
   ]
  },
  {
   "cell_type": "code",
   "execution_count": 18,
   "metadata": {},
   "outputs": [
    {
     "data": {
      "text/html": [
       "<div>\n",
       "<style scoped>\n",
       "    .dataframe tbody tr th:only-of-type {\n",
       "        vertical-align: middle;\n",
       "    }\n",
       "\n",
       "    .dataframe tbody tr th {\n",
       "        vertical-align: top;\n",
       "    }\n",
       "\n",
       "    .dataframe thead th {\n",
       "        text-align: right;\n",
       "    }\n",
       "</style>\n",
       "<table border=\"1\" class=\"dataframe\">\n",
       "  <thead>\n",
       "    <tr style=\"text-align: right;\">\n",
       "      <th></th>\n",
       "      <th>id</th>\n",
       "      <th>destination</th>\n",
       "      <th>clouds</th>\n",
       "      <th>feels_like_day</th>\n",
       "      <th>feels_like_eve</th>\n",
       "      <th>feels_like_morn</th>\n",
       "      <th>feels_like_night</th>\n",
       "      <th>lat</th>\n",
       "      <th>lon</th>\n",
       "      <th>pop</th>\n",
       "      <th>rain</th>\n",
       "      <th>weather_description</th>\n",
       "    </tr>\n",
       "  </thead>\n",
       "  <tbody>\n",
       "    <tr>\n",
       "      <th>0</th>\n",
       "      <td>5</td>\n",
       "      <td>Paris</td>\n",
       "      <td>85.625</td>\n",
       "      <td>15.27375</td>\n",
       "      <td>14.07500</td>\n",
       "      <td>11.44500</td>\n",
       "      <td>12.63875</td>\n",
       "      <td>48.858890</td>\n",
       "      <td>2.320041</td>\n",
       "      <td>0.66500</td>\n",
       "      <td>1.830000</td>\n",
       "      <td>light rain</td>\n",
       "    </tr>\n",
       "    <tr>\n",
       "      <th>1</th>\n",
       "      <td>34</td>\n",
       "      <td>La Rochelle</td>\n",
       "      <td>67.500</td>\n",
       "      <td>16.79875</td>\n",
       "      <td>16.55000</td>\n",
       "      <td>13.56750</td>\n",
       "      <td>15.72375</td>\n",
       "      <td>46.159113</td>\n",
       "      <td>-1.152043</td>\n",
       "      <td>0.64000</td>\n",
       "      <td>2.444286</td>\n",
       "      <td>light rain</td>\n",
       "    </tr>\n",
       "    <tr>\n",
       "      <th>2</th>\n",
       "      <td>22</td>\n",
       "      <td>Avignon</td>\n",
       "      <td>76.875</td>\n",
       "      <td>19.67500</td>\n",
       "      <td>17.50000</td>\n",
       "      <td>13.14625</td>\n",
       "      <td>15.22750</td>\n",
       "      <td>43.949249</td>\n",
       "      <td>4.805901</td>\n",
       "      <td>0.40000</td>\n",
       "      <td>3.372500</td>\n",
       "      <td>[light rain, moderate rain]</td>\n",
       "    </tr>\n",
       "    <tr>\n",
       "      <th>3</th>\n",
       "      <td>17</td>\n",
       "      <td>Gorges du Verdon</td>\n",
       "      <td>85.000</td>\n",
       "      <td>14.08625</td>\n",
       "      <td>10.43875</td>\n",
       "      <td>7.03125</td>\n",
       "      <td>8.66125</td>\n",
       "      <td>43.749656</td>\n",
       "      <td>6.328562</td>\n",
       "      <td>0.31625</td>\n",
       "      <td>3.747500</td>\n",
       "      <td>light rain</td>\n",
       "    </tr>\n",
       "    <tr>\n",
       "      <th>4</th>\n",
       "      <td>23</td>\n",
       "      <td>Uzes</td>\n",
       "      <td>77.625</td>\n",
       "      <td>18.85875</td>\n",
       "      <td>16.14000</td>\n",
       "      <td>12.22000</td>\n",
       "      <td>13.89375</td>\n",
       "      <td>44.012128</td>\n",
       "      <td>4.419672</td>\n",
       "      <td>0.40875</td>\n",
       "      <td>3.862500</td>\n",
       "      <td>light rain</td>\n",
       "    </tr>\n",
       "  </tbody>\n",
       "</table>\n",
       "</div>"
      ],
      "text/plain": [
       "   id       destination  clouds  feels_like_day  feels_like_eve  \\\n",
       "0   5             Paris  85.625        15.27375        14.07500   \n",
       "1  34       La Rochelle  67.500        16.79875        16.55000   \n",
       "2  22           Avignon  76.875        19.67500        17.50000   \n",
       "3  17  Gorges du Verdon  85.000        14.08625        10.43875   \n",
       "4  23              Uzes  77.625        18.85875        16.14000   \n",
       "\n",
       "   feels_like_morn  feels_like_night        lat       lon      pop      rain  \\\n",
       "0         11.44500          12.63875  48.858890  2.320041  0.66500  1.830000   \n",
       "1         13.56750          15.72375  46.159113 -1.152043  0.64000  2.444286   \n",
       "2         13.14625          15.22750  43.949249  4.805901  0.40000  3.372500   \n",
       "3          7.03125           8.66125  43.749656  6.328562  0.31625  3.747500   \n",
       "4         12.22000          13.89375  44.012128  4.419672  0.40875  3.862500   \n",
       "\n",
       "           weather_description  \n",
       "0                   light rain  \n",
       "1                   light rain  \n",
       "2  [light rain, moderate rain]  \n",
       "3                   light rain  \n",
       "4                   light rain  "
      ]
     },
     "execution_count": 18,
     "metadata": {},
     "output_type": "execute_result"
    }
   ],
   "source": [
    "df_pivot.head()"
   ]
  },
  {
   "cell_type": "code",
   "execution_count": 19,
   "metadata": {},
   "outputs": [
    {
     "name": "stdout",
     "output_type": "stream",
     "text": [
      "shape :  (17799, 8)\n"
     ]
    },
    {
     "data": {
      "text/html": [
       "<div>\n",
       "<style scoped>\n",
       "    .dataframe tbody tr th:only-of-type {\n",
       "        vertical-align: middle;\n",
       "    }\n",
       "\n",
       "    .dataframe tbody tr th {\n",
       "        vertical-align: top;\n",
       "    }\n",
       "\n",
       "    .dataframe thead th {\n",
       "        text-align: right;\n",
       "    }\n",
       "</style>\n",
       "<table border=\"1\" class=\"dataframe\">\n",
       "  <thead>\n",
       "    <tr style=\"text-align: right;\">\n",
       "      <th></th>\n",
       "      <th>id</th>\n",
       "      <th>city</th>\n",
       "      <th>address</th>\n",
       "      <th>hotel_name</th>\n",
       "      <th>url</th>\n",
       "      <th>rating</th>\n",
       "      <th>coordinates</th>\n",
       "      <th>description</th>\n",
       "    </tr>\n",
       "  </thead>\n",
       "  <tbody>\n",
       "    <tr>\n",
       "      <th>0</th>\n",
       "      <td>3</td>\n",
       "      <td>[Le Havre]</td>\n",
       "      <td>\\n15 Rue Anfray, Perret, 76600 Le Havre, France\\n</td>\n",
       "      <td>Le havre: superbe appartement centre ville</td>\n",
       "      <td>https://www.booking.com/hotel/fr/le-havre-supe...</td>\n",
       "      <td>8.5</td>\n",
       "      <td>49.49238690,0.11417510</td>\n",
       "      <td>&lt;p&gt;Situated 1.6 km from Le Havre Beach and 800...</td>\n",
       "    </tr>\n",
       "    <tr>\n",
       "      <th>1</th>\n",
       "      <td>7</td>\n",
       "      <td>[Lille]</td>\n",
       "      <td>\\n3, Rue Jean Bart, Lille Centre, 59000 Lille,...</td>\n",
       "      <td>Moxy Lille City</td>\n",
       "      <td>https://www.booking.com/hotel/fr/moxy-lille-ci...</td>\n",
       "      <td>8.6</td>\n",
       "      <td>50.62783100,3.06359200</td>\n",
       "      <td>&lt;p&gt;Located in Lille, 300 m from Coilliot House...</td>\n",
       "    </tr>\n",
       "    <tr>\n",
       "      <th>2</th>\n",
       "      <td>5</td>\n",
       "      <td>[Paris]</td>\n",
       "      <td>\\n123 Rue D'Aboukir, 2nd arr., 75002 Paris, Fr...</td>\n",
       "      <td>LivinParis - Luxury 3 Bedrooms Grands-Boulevar...</td>\n",
       "      <td>https://www.booking.com/hotel/fr/the-residence...</td>\n",
       "      <td>8.0</td>\n",
       "      <td>48.86881640,2.35037469</td>\n",
       "      <td>&lt;p&gt;Located in the 2nd district of Paris, just ...</td>\n",
       "    </tr>\n",
       "    <tr>\n",
       "      <th>3</th>\n",
       "      <td>9</td>\n",
       "      <td>[Itterswiller]</td>\n",
       "      <td>\\n28 Route des Vins, 67140 Itterswiller, France\\n</td>\n",
       "      <td>Hotel Kieffer</td>\n",
       "      <td>https://www.booking.com/hotel/fr/restaurant-ki...</td>\n",
       "      <td>9.2</td>\n",
       "      <td>48.36388675,7.43345889</td>\n",
       "      <td>&lt;p&gt;Located on the Alsace Wine Route, Hotel Kie...</td>\n",
       "    </tr>\n",
       "    <tr>\n",
       "      <th>4</th>\n",
       "      <td>8</td>\n",
       "      <td>[Strasbourg]</td>\n",
       "      <td>\\n1 Rue des Magasins, 67000 Strasbourg, France\\n</td>\n",
       "      <td>City Résidence Strasbourg Centre</td>\n",
       "      <td>https://www.booking.com/hotel/fr/appart-victor...</td>\n",
       "      <td>7.0</td>\n",
       "      <td>48.58906194,7.73879863</td>\n",
       "      <td>&lt;p&gt;City Résidence Strasbourg Centre is located...</td>\n",
       "    </tr>\n",
       "  </tbody>\n",
       "</table>\n",
       "</div>"
      ],
      "text/plain": [
       "   id            city                                            address  \\\n",
       "0   3      [Le Havre]  \\n15 Rue Anfray, Perret, 76600 Le Havre, France\\n   \n",
       "1   7         [Lille]  \\n3, Rue Jean Bart, Lille Centre, 59000 Lille,...   \n",
       "2   5         [Paris]  \\n123 Rue D'Aboukir, 2nd arr., 75002 Paris, Fr...   \n",
       "3   9  [Itterswiller]  \\n28 Route des Vins, 67140 Itterswiller, France\\n   \n",
       "4   8    [Strasbourg]   \\n1 Rue des Magasins, 67000 Strasbourg, France\\n   \n",
       "\n",
       "                                          hotel_name  \\\n",
       "0         Le havre: superbe appartement centre ville   \n",
       "1                                    Moxy Lille City   \n",
       "2  LivinParis - Luxury 3 Bedrooms Grands-Boulevar...   \n",
       "3                                      Hotel Kieffer   \n",
       "4                   City Résidence Strasbourg Centre   \n",
       "\n",
       "                                                 url rating  \\\n",
       "0  https://www.booking.com/hotel/fr/le-havre-supe...    8.5   \n",
       "1  https://www.booking.com/hotel/fr/moxy-lille-ci...    8.6   \n",
       "2  https://www.booking.com/hotel/fr/the-residence...    8.0   \n",
       "3  https://www.booking.com/hotel/fr/restaurant-ki...    9.2   \n",
       "4  https://www.booking.com/hotel/fr/appart-victor...    7.0   \n",
       "\n",
       "              coordinates                                        description  \n",
       "0  49.49238690,0.11417510  <p>Situated 1.6 km from Le Havre Beach and 800...  \n",
       "1  50.62783100,3.06359200  <p>Located in Lille, 300 m from Coilliot House...  \n",
       "2  48.86881640,2.35037469  <p>Located in the 2nd district of Paris, just ...  \n",
       "3  48.36388675,7.43345889  <p>Located on the Alsace Wine Route, Hotel Kie...  \n",
       "4  48.58906194,7.73879863  <p>City Résidence Strasbourg Centre is located...  "
      ]
     },
     "execution_count": 19,
     "metadata": {},
     "output_type": "execute_result"
    }
   ],
   "source": [
    "# import hotel dataset\n",
    "\n",
    "with open(\"booking_json/hotel_data.json\") as json_file:\n",
    "    data_json = json.load(json_file)\n",
    "\n",
    "hotel_df = pd.DataFrame.from_dict(data_json, orient='columns')\n",
    "print('shape : ', hotel_df.shape)\n",
    "hotel_df.head()"
   ]
  },
  {
   "cell_type": "code",
   "execution_count": 20,
   "metadata": {},
   "outputs": [],
   "source": [
    "# cleaning the dataframe\n",
    "\n",
    "from numpy import NaN\n",
    "hotel_df[\"city\"] = hotel_df[\"city\"].apply(lambda x: x[0] if len(x) != 0 else NaN)\n",
    "hotel_df.dropna(inplace=True)\n",
    "\n",
    "hotel_df['hotel_lat'] = hotel_df['coordinates'].apply(lambda x: float(x.split(',')[0]))\n",
    "hotel_df['hotel_lon'] = hotel_df['coordinates'].apply(lambda x: float(x.split(',')[1]))\n",
    "\n",
    "hotel_df['rating'] = hotel_df['rating'].astype(float)"
   ]
  },
  {
   "cell_type": "code",
   "execution_count": 21,
   "metadata": {},
   "outputs": [
    {
     "data": {
      "text/html": [
       "<div>\n",
       "<style scoped>\n",
       "    .dataframe tbody tr th:only-of-type {\n",
       "        vertical-align: middle;\n",
       "    }\n",
       "\n",
       "    .dataframe tbody tr th {\n",
       "        vertical-align: top;\n",
       "    }\n",
       "\n",
       "    .dataframe thead th {\n",
       "        text-align: right;\n",
       "    }\n",
       "</style>\n",
       "<table border=\"1\" class=\"dataframe\">\n",
       "  <thead>\n",
       "    <tr style=\"text-align: right;\">\n",
       "      <th></th>\n",
       "      <th>id</th>\n",
       "      <th>city</th>\n",
       "      <th>address</th>\n",
       "      <th>hotel_name</th>\n",
       "      <th>url</th>\n",
       "      <th>rating</th>\n",
       "      <th>coordinates</th>\n",
       "      <th>description</th>\n",
       "      <th>hotel_lat</th>\n",
       "      <th>hotel_lon</th>\n",
       "    </tr>\n",
       "  </thead>\n",
       "  <tbody>\n",
       "    <tr>\n",
       "      <th>0</th>\n",
       "      <td>3</td>\n",
       "      <td>Le Havre</td>\n",
       "      <td>\\n15 Rue Anfray, Perret, 76600 Le Havre, France\\n</td>\n",
       "      <td>Le havre: superbe appartement centre ville</td>\n",
       "      <td>https://www.booking.com/hotel/fr/le-havre-supe...</td>\n",
       "      <td>8.5</td>\n",
       "      <td>49.49238690,0.11417510</td>\n",
       "      <td>&lt;p&gt;Situated 1.6 km from Le Havre Beach and 800...</td>\n",
       "      <td>49.492387</td>\n",
       "      <td>0.114175</td>\n",
       "    </tr>\n",
       "    <tr>\n",
       "      <th>1</th>\n",
       "      <td>7</td>\n",
       "      <td>Lille</td>\n",
       "      <td>\\n3, Rue Jean Bart, Lille Centre, 59000 Lille,...</td>\n",
       "      <td>Moxy Lille City</td>\n",
       "      <td>https://www.booking.com/hotel/fr/moxy-lille-ci...</td>\n",
       "      <td>8.6</td>\n",
       "      <td>50.62783100,3.06359200</td>\n",
       "      <td>&lt;p&gt;Located in Lille, 300 m from Coilliot House...</td>\n",
       "      <td>50.627831</td>\n",
       "      <td>3.063592</td>\n",
       "    </tr>\n",
       "    <tr>\n",
       "      <th>2</th>\n",
       "      <td>5</td>\n",
       "      <td>Paris</td>\n",
       "      <td>\\n123 Rue D'Aboukir, 2nd arr., 75002 Paris, Fr...</td>\n",
       "      <td>LivinParis - Luxury 3 Bedrooms Grands-Boulevar...</td>\n",
       "      <td>https://www.booking.com/hotel/fr/the-residence...</td>\n",
       "      <td>8.0</td>\n",
       "      <td>48.86881640,2.35037469</td>\n",
       "      <td>&lt;p&gt;Located in the 2nd district of Paris, just ...</td>\n",
       "      <td>48.868816</td>\n",
       "      <td>2.350375</td>\n",
       "    </tr>\n",
       "    <tr>\n",
       "      <th>3</th>\n",
       "      <td>9</td>\n",
       "      <td>Itterswiller</td>\n",
       "      <td>\\n28 Route des Vins, 67140 Itterswiller, France\\n</td>\n",
       "      <td>Hotel Kieffer</td>\n",
       "      <td>https://www.booking.com/hotel/fr/restaurant-ki...</td>\n",
       "      <td>9.2</td>\n",
       "      <td>48.36388675,7.43345889</td>\n",
       "      <td>&lt;p&gt;Located on the Alsace Wine Route, Hotel Kie...</td>\n",
       "      <td>48.363887</td>\n",
       "      <td>7.433459</td>\n",
       "    </tr>\n",
       "    <tr>\n",
       "      <th>4</th>\n",
       "      <td>8</td>\n",
       "      <td>Strasbourg</td>\n",
       "      <td>\\n1 Rue des Magasins, 67000 Strasbourg, France\\n</td>\n",
       "      <td>City Résidence Strasbourg Centre</td>\n",
       "      <td>https://www.booking.com/hotel/fr/appart-victor...</td>\n",
       "      <td>7.0</td>\n",
       "      <td>48.58906194,7.73879863</td>\n",
       "      <td>&lt;p&gt;City Résidence Strasbourg Centre is located...</td>\n",
       "      <td>48.589062</td>\n",
       "      <td>7.738799</td>\n",
       "    </tr>\n",
       "  </tbody>\n",
       "</table>\n",
       "</div>"
      ],
      "text/plain": [
       "   id          city                                            address  \\\n",
       "0   3      Le Havre  \\n15 Rue Anfray, Perret, 76600 Le Havre, France\\n   \n",
       "1   7         Lille  \\n3, Rue Jean Bart, Lille Centre, 59000 Lille,...   \n",
       "2   5         Paris  \\n123 Rue D'Aboukir, 2nd arr., 75002 Paris, Fr...   \n",
       "3   9  Itterswiller  \\n28 Route des Vins, 67140 Itterswiller, France\\n   \n",
       "4   8    Strasbourg   \\n1 Rue des Magasins, 67000 Strasbourg, France\\n   \n",
       "\n",
       "                                          hotel_name  \\\n",
       "0         Le havre: superbe appartement centre ville   \n",
       "1                                    Moxy Lille City   \n",
       "2  LivinParis - Luxury 3 Bedrooms Grands-Boulevar...   \n",
       "3                                      Hotel Kieffer   \n",
       "4                   City Résidence Strasbourg Centre   \n",
       "\n",
       "                                                 url  rating  \\\n",
       "0  https://www.booking.com/hotel/fr/le-havre-supe...     8.5   \n",
       "1  https://www.booking.com/hotel/fr/moxy-lille-ci...     8.6   \n",
       "2  https://www.booking.com/hotel/fr/the-residence...     8.0   \n",
       "3  https://www.booking.com/hotel/fr/restaurant-ki...     9.2   \n",
       "4  https://www.booking.com/hotel/fr/appart-victor...     7.0   \n",
       "\n",
       "              coordinates                                        description  \\\n",
       "0  49.49238690,0.11417510  <p>Situated 1.6 km from Le Havre Beach and 800...   \n",
       "1  50.62783100,3.06359200  <p>Located in Lille, 300 m from Coilliot House...   \n",
       "2  48.86881640,2.35037469  <p>Located in the 2nd district of Paris, just ...   \n",
       "3  48.36388675,7.43345889  <p>Located on the Alsace Wine Route, Hotel Kie...   \n",
       "4  48.58906194,7.73879863  <p>City Résidence Strasbourg Centre is located...   \n",
       "\n",
       "   hotel_lat  hotel_lon  \n",
       "0  49.492387   0.114175  \n",
       "1  50.627831   3.063592  \n",
       "2  48.868816   2.350375  \n",
       "3  48.363887   7.433459  \n",
       "4  48.589062   7.738799  "
      ]
     },
     "execution_count": 21,
     "metadata": {},
     "output_type": "execute_result"
    }
   ],
   "source": [
    "hotel_df.head()"
   ]
  },
  {
   "cell_type": "code",
   "execution_count": 22,
   "metadata": {},
   "outputs": [
    {
     "name": "stdout",
     "output_type": "stream",
     "text": [
      "<class 'pandas.core.frame.DataFrame'>\n",
      "Int64Index: 16324 entries, 0 to 17798\n",
      "Data columns (total 10 columns):\n",
      " #   Column       Non-Null Count  Dtype  \n",
      "---  ------       --------------  -----  \n",
      " 0   id           16324 non-null  int64  \n",
      " 1   city         16324 non-null  object \n",
      " 2   address      16324 non-null  object \n",
      " 3   hotel_name   16324 non-null  object \n",
      " 4   url          16324 non-null  object \n",
      " 5   rating       16324 non-null  float64\n",
      " 6   coordinates  16324 non-null  object \n",
      " 7   description  16324 non-null  object \n",
      " 8   hotel_lat    16324 non-null  float64\n",
      " 9   hotel_lon    16324 non-null  float64\n",
      "dtypes: float64(3), int64(1), object(6)\n",
      "memory usage: 1.4+ MB\n"
     ]
    }
   ],
   "source": [
    "hotel_df.info()"
   ]
  },
  {
   "cell_type": "code",
   "execution_count": 23,
   "metadata": {},
   "outputs": [],
   "source": [
    "df_final = df_pivot.merge(hotel_df, left_on='id', right_on='id', how='inner')"
   ]
  },
  {
   "cell_type": "code",
   "execution_count": 24,
   "metadata": {},
   "outputs": [
    {
     "data": {
      "text/html": [
       "<div>\n",
       "<style scoped>\n",
       "    .dataframe tbody tr th:only-of-type {\n",
       "        vertical-align: middle;\n",
       "    }\n",
       "\n",
       "    .dataframe tbody tr th {\n",
       "        vertical-align: top;\n",
       "    }\n",
       "\n",
       "    .dataframe thead th {\n",
       "        text-align: right;\n",
       "    }\n",
       "</style>\n",
       "<table border=\"1\" class=\"dataframe\">\n",
       "  <thead>\n",
       "    <tr style=\"text-align: right;\">\n",
       "      <th></th>\n",
       "      <th>id</th>\n",
       "      <th>destination</th>\n",
       "      <th>clouds</th>\n",
       "      <th>feels_like_day</th>\n",
       "      <th>feels_like_eve</th>\n",
       "      <th>feels_like_morn</th>\n",
       "      <th>feels_like_night</th>\n",
       "      <th>lat</th>\n",
       "      <th>lon</th>\n",
       "      <th>pop</th>\n",
       "      <th>...</th>\n",
       "      <th>weather_description</th>\n",
       "      <th>city</th>\n",
       "      <th>address</th>\n",
       "      <th>hotel_name</th>\n",
       "      <th>url</th>\n",
       "      <th>rating</th>\n",
       "      <th>coordinates</th>\n",
       "      <th>description</th>\n",
       "      <th>hotel_lat</th>\n",
       "      <th>hotel_lon</th>\n",
       "    </tr>\n",
       "  </thead>\n",
       "  <tbody>\n",
       "    <tr>\n",
       "      <th>0</th>\n",
       "      <td>5</td>\n",
       "      <td>Paris</td>\n",
       "      <td>85.625</td>\n",
       "      <td>15.27375</td>\n",
       "      <td>14.075</td>\n",
       "      <td>11.445</td>\n",
       "      <td>12.63875</td>\n",
       "      <td>48.85889</td>\n",
       "      <td>2.320041</td>\n",
       "      <td>0.665</td>\n",
       "      <td>...</td>\n",
       "      <td>light rain</td>\n",
       "      <td>Paris</td>\n",
       "      <td>\\n123 Rue D'Aboukir, 2nd arr., 75002 Paris, Fr...</td>\n",
       "      <td>LivinParis - Luxury 3 Bedrooms Grands-Boulevar...</td>\n",
       "      <td>https://www.booking.com/hotel/fr/the-residence...</td>\n",
       "      <td>8.0</td>\n",
       "      <td>48.86881640,2.35037469</td>\n",
       "      <td>&lt;p&gt;Located in the 2nd district of Paris, just ...</td>\n",
       "      <td>48.868816</td>\n",
       "      <td>2.350375</td>\n",
       "    </tr>\n",
       "    <tr>\n",
       "      <th>1</th>\n",
       "      <td>5</td>\n",
       "      <td>Paris</td>\n",
       "      <td>85.625</td>\n",
       "      <td>15.27375</td>\n",
       "      <td>14.075</td>\n",
       "      <td>11.445</td>\n",
       "      <td>12.63875</td>\n",
       "      <td>48.85889</td>\n",
       "      <td>2.320041</td>\n",
       "      <td>0.665</td>\n",
       "      <td>...</td>\n",
       "      <td>light rain</td>\n",
       "      <td>Paris</td>\n",
       "      <td>\\n10, Place De La République, 11th arr., 75011...</td>\n",
       "      <td>Crowne Plaza Paris République, an IHG Hotel</td>\n",
       "      <td>https://www.booking.com/hotel/fr/holiday-inn-p...</td>\n",
       "      <td>7.8</td>\n",
       "      <td>48.86723700,2.36544415</td>\n",
       "      <td>&lt;p&gt;This 19th-century building with its strikin...</td>\n",
       "      <td>48.867237</td>\n",
       "      <td>2.365444</td>\n",
       "    </tr>\n",
       "    <tr>\n",
       "      <th>2</th>\n",
       "      <td>5</td>\n",
       "      <td>Paris</td>\n",
       "      <td>85.625</td>\n",
       "      <td>15.27375</td>\n",
       "      <td>14.075</td>\n",
       "      <td>11.445</td>\n",
       "      <td>12.63875</td>\n",
       "      <td>48.85889</td>\n",
       "      <td>2.320041</td>\n",
       "      <td>0.665</td>\n",
       "      <td>...</td>\n",
       "      <td>light rain</td>\n",
       "      <td>Paris</td>\n",
       "      <td>\\n1 rue Geoffroy Marie, 9th arr., 75009 Paris,...</td>\n",
       "      <td>Hotel Panache</td>\n",
       "      <td>https://www.booking.com/hotel/fr/hotel-panache...</td>\n",
       "      <td>8.3</td>\n",
       "      <td>48.87322110,2.34326050</td>\n",
       "      <td>&lt;p&gt;Located in the 9th district of Paris, just ...</td>\n",
       "      <td>48.873221</td>\n",
       "      <td>2.343260</td>\n",
       "    </tr>\n",
       "    <tr>\n",
       "      <th>3</th>\n",
       "      <td>5</td>\n",
       "      <td>Paris</td>\n",
       "      <td>85.625</td>\n",
       "      <td>15.27375</td>\n",
       "      <td>14.075</td>\n",
       "      <td>11.445</td>\n",
       "      <td>12.63875</td>\n",
       "      <td>48.85889</td>\n",
       "      <td>2.320041</td>\n",
       "      <td>0.665</td>\n",
       "      <td>...</td>\n",
       "      <td>light rain</td>\n",
       "      <td>Paris</td>\n",
       "      <td>\\n146 Boulevard Pereire, 17th arr., 75017 Pari...</td>\n",
       "      <td>Appart'hôtel Makom Pereire</td>\n",
       "      <td>https://www.booking.com/hotel/fr/etoile-pereir...</td>\n",
       "      <td>8.0</td>\n",
       "      <td>48.88347596,2.29406878</td>\n",
       "      <td>&lt;p&gt;Appart'hôtel Makom Pereire is located 300 m...</td>\n",
       "      <td>48.883476</td>\n",
       "      <td>2.294069</td>\n",
       "    </tr>\n",
       "    <tr>\n",
       "      <th>4</th>\n",
       "      <td>5</td>\n",
       "      <td>Paris</td>\n",
       "      <td>85.625</td>\n",
       "      <td>15.27375</td>\n",
       "      <td>14.075</td>\n",
       "      <td>11.445</td>\n",
       "      <td>12.63875</td>\n",
       "      <td>48.85889</td>\n",
       "      <td>2.320041</td>\n",
       "      <td>0.665</td>\n",
       "      <td>...</td>\n",
       "      <td>light rain</td>\n",
       "      <td>Paris</td>\n",
       "      <td>\\n12 rue de Richelieu, 1st arr., 75001 Paris, ...</td>\n",
       "      <td>Hotel Montpensier</td>\n",
       "      <td>https://www.booking.com/hotel/fr/montpensier-p...</td>\n",
       "      <td>8.0</td>\n",
       "      <td>48.86430452,2.33623432</td>\n",
       "      <td>&lt;p&gt;Located in the very heart of Paris, just 40...</td>\n",
       "      <td>48.864305</td>\n",
       "      <td>2.336234</td>\n",
       "    </tr>\n",
       "  </tbody>\n",
       "</table>\n",
       "<p>5 rows × 21 columns</p>\n",
       "</div>"
      ],
      "text/plain": [
       "   id destination  clouds  feels_like_day  feels_like_eve  feels_like_morn  \\\n",
       "0   5       Paris  85.625        15.27375          14.075           11.445   \n",
       "1   5       Paris  85.625        15.27375          14.075           11.445   \n",
       "2   5       Paris  85.625        15.27375          14.075           11.445   \n",
       "3   5       Paris  85.625        15.27375          14.075           11.445   \n",
       "4   5       Paris  85.625        15.27375          14.075           11.445   \n",
       "\n",
       "   feels_like_night       lat       lon    pop  ...  weather_description  \\\n",
       "0          12.63875  48.85889  2.320041  0.665  ...           light rain   \n",
       "1          12.63875  48.85889  2.320041  0.665  ...           light rain   \n",
       "2          12.63875  48.85889  2.320041  0.665  ...           light rain   \n",
       "3          12.63875  48.85889  2.320041  0.665  ...           light rain   \n",
       "4          12.63875  48.85889  2.320041  0.665  ...           light rain   \n",
       "\n",
       "    city                                            address  \\\n",
       "0  Paris  \\n123 Rue D'Aboukir, 2nd arr., 75002 Paris, Fr...   \n",
       "1  Paris  \\n10, Place De La République, 11th arr., 75011...   \n",
       "2  Paris  \\n1 rue Geoffroy Marie, 9th arr., 75009 Paris,...   \n",
       "3  Paris  \\n146 Boulevard Pereire, 17th arr., 75017 Pari...   \n",
       "4  Paris  \\n12 rue de Richelieu, 1st arr., 75001 Paris, ...   \n",
       "\n",
       "                                          hotel_name  \\\n",
       "0  LivinParis - Luxury 3 Bedrooms Grands-Boulevar...   \n",
       "1        Crowne Plaza Paris République, an IHG Hotel   \n",
       "2                                      Hotel Panache   \n",
       "3                         Appart'hôtel Makom Pereire   \n",
       "4                                  Hotel Montpensier   \n",
       "\n",
       "                                                 url rating  \\\n",
       "0  https://www.booking.com/hotel/fr/the-residence...    8.0   \n",
       "1  https://www.booking.com/hotel/fr/holiday-inn-p...    7.8   \n",
       "2  https://www.booking.com/hotel/fr/hotel-panache...    8.3   \n",
       "3  https://www.booking.com/hotel/fr/etoile-pereir...    8.0   \n",
       "4  https://www.booking.com/hotel/fr/montpensier-p...    8.0   \n",
       "\n",
       "              coordinates                                        description  \\\n",
       "0  48.86881640,2.35037469  <p>Located in the 2nd district of Paris, just ...   \n",
       "1  48.86723700,2.36544415  <p>This 19th-century building with its strikin...   \n",
       "2  48.87322110,2.34326050  <p>Located in the 9th district of Paris, just ...   \n",
       "3  48.88347596,2.29406878  <p>Appart'hôtel Makom Pereire is located 300 m...   \n",
       "4  48.86430452,2.33623432  <p>Located in the very heart of Paris, just 40...   \n",
       "\n",
       "   hotel_lat  hotel_lon  \n",
       "0  48.868816   2.350375  \n",
       "1  48.867237   2.365444  \n",
       "2  48.873221   2.343260  \n",
       "3  48.883476   2.294069  \n",
       "4  48.864305   2.336234  \n",
       "\n",
       "[5 rows x 21 columns]"
      ]
     },
     "execution_count": 24,
     "metadata": {},
     "output_type": "execute_result"
    }
   ],
   "source": [
    "df_final.head()"
   ]
  },
  {
   "cell_type": "markdown",
   "metadata": {},
   "source": [
    "map plot n°2 : recommendation for the best hotels near the top selected destinations"
   ]
  },
  {
   "cell_type": "code",
   "execution_count": 25,
   "metadata": {},
   "outputs": [],
   "source": [
    "# only keep the top 20 ranked hotels for each top 5 destinations\n",
    "\n",
    "df_final_top = pd.DataFrame([], columns = df_final.columns)\n",
    "\n",
    "for destination in top_destinations:\n",
    "    df_final_top = pd.concat([df_final_top, df_final[df_final[\"destination\"] == destination].nlargest(20, 'rating')])"
   ]
  },
  {
   "cell_type": "code",
   "execution_count": 26,
   "metadata": {},
   "outputs": [
    {
     "data": {
      "text/plain": [
       "Paris               20\n",
       "La Rochelle         20\n",
       "Avignon             20\n",
       "Gorges du Verdon    20\n",
       "Uzes                20\n",
       "Amiens              20\n",
       "Name: destination, dtype: int64"
      ]
     },
     "execution_count": 26,
     "metadata": {},
     "output_type": "execute_result"
    }
   ],
   "source": [
    "df_final_top['destination'].value_counts()"
   ]
  },
  {
   "cell_type": "code",
   "execution_count": 27,
   "metadata": {},
   "outputs": [
    {
     "data": {
      "application/vnd.plotly.v1+json": {
       "config": {
        "plotlyServerURL": "https://plot.ly"
       },
       "data": [
        {
         "customdata": [
          [
           "Paris",
           9.8,
           "light rain"
          ],
          [
           "Paris",
           9.8,
           "light rain"
          ],
          [
           "Paris",
           9.7,
           "light rain"
          ],
          [
           "Paris",
           9.7,
           "light rain"
          ],
          [
           "Paris",
           9.7,
           "light rain"
          ],
          [
           "Paris",
           9.7,
           "light rain"
          ],
          [
           "Paris",
           9.5,
           "light rain"
          ],
          [
           "Paris",
           9.5,
           "light rain"
          ],
          [
           "Paris",
           9.4,
           "light rain"
          ],
          [
           "Paris",
           9.4,
           "light rain"
          ],
          [
           "Paris",
           9.4,
           "light rain"
          ],
          [
           "Paris",
           9.4,
           "light rain"
          ],
          [
           "Paris",
           9.4,
           "light rain"
          ],
          [
           "Paris",
           9.4,
           "light rain"
          ],
          [
           "Paris",
           9.3,
           "light rain"
          ],
          [
           "Paris",
           9.3,
           "light rain"
          ],
          [
           "Paris",
           9.3,
           "light rain"
          ],
          [
           "Paris",
           9.3,
           "light rain"
          ],
          [
           "Paris",
           9.3,
           "light rain"
          ],
          [
           "Paris",
           9.3,
           "light rain"
          ],
          [
           "La Rochelle",
           10,
           "light rain"
          ],
          [
           "La Rochelle",
           10,
           "light rain"
          ],
          [
           "La Rochelle",
           10,
           "light rain"
          ],
          [
           "La Rochelle",
           10,
           "light rain"
          ],
          [
           "La Rochelle",
           10,
           "light rain"
          ],
          [
           "La Rochelle",
           10,
           "light rain"
          ],
          [
           "La Rochelle",
           10,
           "light rain"
          ],
          [
           "La Rochelle",
           10,
           "light rain"
          ],
          [
           "La Rochelle",
           10,
           "light rain"
          ],
          [
           "La Rochelle",
           9.9,
           "light rain"
          ],
          [
           "La Rochelle",
           9.8,
           "light rain"
          ],
          [
           "La Rochelle",
           9.8,
           "light rain"
          ],
          [
           "La Rochelle",
           9.8,
           "light rain"
          ],
          [
           "La Rochelle",
           9.6,
           "light rain"
          ],
          [
           "La Rochelle",
           9.6,
           "light rain"
          ],
          [
           "La Rochelle",
           9.6,
           "light rain"
          ],
          [
           "La Rochelle",
           9.6,
           "light rain"
          ],
          [
           "La Rochelle",
           9.5,
           "light rain"
          ],
          [
           "La Rochelle",
           9.5,
           "light rain"
          ],
          [
           "La Rochelle",
           9.5,
           "light rain"
          ],
          [
           "Avignon",
           10,
           [
            "light rain",
            "moderate rain"
           ]
          ],
          [
           "Avignon",
           10,
           [
            "light rain",
            "moderate rain"
           ]
          ],
          [
           "Avignon",
           10,
           [
            "light rain",
            "moderate rain"
           ]
          ],
          [
           "Avignon",
           10,
           [
            "light rain",
            "moderate rain"
           ]
          ],
          [
           "Avignon",
           10,
           [
            "light rain",
            "moderate rain"
           ]
          ],
          [
           "Avignon",
           10,
           [
            "light rain",
            "moderate rain"
           ]
          ],
          [
           "Avignon",
           10,
           [
            "light rain",
            "moderate rain"
           ]
          ],
          [
           "Avignon",
           10,
           [
            "light rain",
            "moderate rain"
           ]
          ],
          [
           "Avignon",
           10,
           [
            "light rain",
            "moderate rain"
           ]
          ],
          [
           "Avignon",
           10,
           [
            "light rain",
            "moderate rain"
           ]
          ],
          [
           "Avignon",
           10,
           [
            "light rain",
            "moderate rain"
           ]
          ],
          [
           "Avignon",
           10,
           [
            "light rain",
            "moderate rain"
           ]
          ],
          [
           "Avignon",
           10,
           [
            "light rain",
            "moderate rain"
           ]
          ],
          [
           "Avignon",
           10,
           [
            "light rain",
            "moderate rain"
           ]
          ],
          [
           "Avignon",
           10,
           [
            "light rain",
            "moderate rain"
           ]
          ],
          [
           "Avignon",
           10,
           [
            "light rain",
            "moderate rain"
           ]
          ],
          [
           "Avignon",
           10,
           [
            "light rain",
            "moderate rain"
           ]
          ],
          [
           "Avignon",
           10,
           [
            "light rain",
            "moderate rain"
           ]
          ],
          [
           "Avignon",
           10,
           [
            "light rain",
            "moderate rain"
           ]
          ],
          [
           "Avignon",
           10,
           [
            "light rain",
            "moderate rain"
           ]
          ],
          [
           "Greoux-les-Bains",
           10,
           "light rain"
          ],
          [
           "Esparron-de-Verdon",
           10,
           "light rain"
          ],
          [
           "Greoux-les-Bains",
           10,
           "light rain"
          ],
          [
           "Greoux-les-Bains",
           10,
           "light rain"
          ],
          [
           "Moissac-Bellevue",
           10,
           "light rain"
          ],
          [
           "Riez",
           10,
           "light rain"
          ],
          [
           "Greoux-les-Bains",
           10,
           "light rain"
          ],
          [
           "Greoux-les-Bains",
           10,
           "light rain"
          ],
          [
           "Esparron-de-Verdon",
           10,
           "light rain"
          ],
          [
           "Trigance",
           10,
           "light rain"
          ],
          [
           "Sainte-Croix-de-Verdon",
           9.8,
           "light rain"
          ],
          [
           "Bauduen",
           9.8,
           "light rain"
          ],
          [
           "Allemagne-en-Provence",
           9.7,
           "light rain"
          ],
          [
           "Riez",
           9.6,
           "light rain"
          ],
          [
           "Greoux-les-Bains",
           9.6,
           "light rain"
          ],
          [
           "Castellane",
           9.6,
           "light rain"
          ],
          [
           "Greoux-les-Bains",
           9.6,
           "light rain"
          ],
          [
           "RIEZ, 04500 Riez",
           9.6,
           "light rain"
          ],
          [
           "Castellane",
           9.5,
           "light rain"
          ],
          [
           "Moustiers-Sainte-Marie",
           9.5,
           "light rain"
          ],
          [
           "Uzes",
           10,
           "light rain"
          ],
          [
           "Uzes",
           9.9,
           "light rain"
          ],
          [
           "Uzes",
           9.8,
           "light rain"
          ],
          [
           "Uzes",
           9.8,
           "light rain"
          ],
          [
           "Uzes",
           9.8,
           "light rain"
          ],
          [
           "Uzes",
           9.7,
           "light rain"
          ],
          [
           "Uzes",
           9.7,
           "light rain"
          ],
          [
           "Uzes",
           9.7,
           "light rain"
          ],
          [
           "Uzes",
           9.7,
           "light rain"
          ],
          [
           "Uzes",
           9.7,
           "light rain"
          ],
          [
           "Uzes",
           9.7,
           "light rain"
          ],
          [
           "Uzes",
           9.6,
           "light rain"
          ],
          [
           "Uzes",
           9.6,
           "light rain"
          ],
          [
           "Uzes",
           9.6,
           "light rain"
          ],
          [
           "Uzes",
           9.6,
           "light rain"
          ],
          [
           "Uzes",
           9.5,
           "light rain"
          ],
          [
           "Uzes",
           9.5,
           "light rain"
          ],
          [
           "Uzes",
           9.5,
           "light rain"
          ],
          [
           "Uzes",
           9.4,
           "light rain"
          ],
          [
           "Uzes",
           9.4,
           "light rain"
          ],
          [
           "Amiens",
           10,
           "light rain"
          ],
          [
           "Amiens",
           10,
           "light rain"
          ],
          [
           "Amiens",
           10,
           "light rain"
          ],
          [
           "Amiens",
           10,
           "light rain"
          ],
          [
           "Amiens",
           10,
           "light rain"
          ],
          [
           "Amiens",
           10,
           "light rain"
          ],
          [
           "Amiens",
           10,
           "light rain"
          ],
          [
           "Amiens",
           10,
           "light rain"
          ],
          [
           "Amiens",
           9.9,
           "light rain"
          ],
          [
           "Amiens",
           9.8,
           "light rain"
          ],
          [
           "Amiens",
           9.8,
           "light rain"
          ],
          [
           "Amiens",
           9.7,
           "light rain"
          ],
          [
           "Amiens",
           9.6,
           "light rain"
          ],
          [
           "Amiens",
           9.5,
           "light rain"
          ],
          [
           "Amiens",
           9.5,
           "light rain"
          ],
          [
           "Amiens",
           9.5,
           "light rain"
          ],
          [
           "Amiens",
           9.5,
           "light rain"
          ],
          [
           "Amiens",
           9.5,
           "light rain"
          ],
          [
           "Amiens",
           9.5,
           "light rain"
          ],
          [
           "Amiens",
           9.5,
           "light rain"
          ]
         ],
         "hovertemplate": "<b>%{hovertext}</b><br><br>rating=%{marker.color}<br>hotel_lat=%{lat}<br>hotel_lon=%{lon}<br>city=%{customdata[0]}<br>weather_description=%{customdata[2]}<extra></extra>",
         "hovertext": [
          "Stylish,luxury duplex Paris city center",
          "Relais12bis Bed & Breakfast By Eiffel Tower",
          "Paris My Home 5P Bastille",
          "Paris My Home 5P Bastille",
          "Paris My Home 5P Bastille",
          "Paris My Home 5P Bastille",
          "Sourire Boutique Hôtel Particulier",
          "We Loft",
          "La Maison de Léa",
          "Le 66",
          "Latin Quarter - Notre Dame apartment",
          "Hôtel des Arts Montmartre",
          "My Maison In Paris - Champ de Mars",
          "Louvre Luxury Apartment & SPA",
          "Edgar Suites Louvre - Jour",
          "La Villa Paris - B&B",
          "Le clos de l'olivier",
          "Hotel de Montesquieu",
          "Fauchon l'Hôtel Paris",
          "Hotel Saint-Louis en L'Isle",
          "Duplex refait à neuf",
          "Plage des Minimes Résidence Clarines",
          "Superbe appartement vue mer à La Rochelle-Minimes",
          "Escale Rochelaise, La Rochelle centre-ville avec SPA bain nordique et sauna tonneau",
          "Le Gîte Du Parc avec parking vieux port et plage au calme",
          "Appartement spacieux & calme sur le vieux port",
          "Plage des Minimes Résidence Clarines",
          "Appart Christelle",
          "Vue Superbe sur Tour de la Lanterne T2 + Terrasse",
          "Nuits océanes à La Rochelle",
          "Verdun 2",
          "MISSIAMINAGE",
          "Escale Rochelaise B&B, SPA bain nordique et sauna tonneau",
          "Apartment- La Rochelle historic city centre",
          "La Venelle de Jéricho",
          "La Belle Amarre",
          "Duplex vue sur tour",
          "appartement résidence avec piscine et mini golf inclus privés",
          "Un séjour de rêve sur un bateau - BOAT PARADISE HÔTEL",
          "NUIT SUR UN BATEAU LA ROCHELLE",
          "CALME et LUMINEUX - 400 m des remparts - PARKING",
          "RÉNOVÉ, vue SUR Palais des Papes, terrasse et WIFI TROISIEME ETAGE",
          "Centre historique coeur du quartier Vernet 100 m²",
          "NICE apartment with TERRACE in AVIGNON",
          "Beautiful home in Avignon with 4 Bedrooms, WiFi and Outdoor swimming pool",
          "Avignon centre ville appartement T3 meublé 2 chambres",
          "DECO ART",
          "Gîte de Valentin Moulin de Tartay en Avignon",
          "Studio en campagne",
          "Avignon Superbe Appartement dans un Hotel Particulier En Centre ville",
          "Villa moderne avec piscine",
          "Appartement d'une chambre avec terrasse amenagee et wifi a Avignon",
          "Au calme à Avignon",
          "Studio tout équipé et high-tech, idéalement situé",
          "Au cœur d'Agroparc en 5 étoiles",
          "Studio climatisé -La Salamandre- Idéal FESTIVAL",
          "L'Heure bleue",
          "Appartement « Les Halles » Avignon",
          "Avignon : Superbe appartement Intra-muros",
          "Atlas - Orion - Plein centre",
          "studio meublé classé 2 étoiles - 30m²",
          "Les Reflets du Lac",
          "Douceur du Verdon- Climatisé avec Piscine, Parking",
          "Lodge - Le Clos Devançon",
          "Detached spacious villa with private heated pool 15 km from the Gorges du Verdon",
          "Lëy-H appart",
          "La Résidence - n° 06 - T2 classé**",
          "Le Jardin",
          "Maison de 3 chambres avec terrasse amenagee et wifi a Esparron de Verdon",
          "Le Priolat des Anges aux portes des gorges du Verdon",
          "Perle rare",
          "Maison Couquets Bauduen",
          "Mas Paradiso",
          "VILLA PRAYON",
          "2 Chemin Neuf balcon",
          "Lou Paran \"Le Jardin\"",
          "Studio tout confort - Climatisation, parking, wifi",
          "Résidence Carina",
          "Maison Chasteuil",
          "Appartement de charme, spacieux, Moustiers #5",
          "Le gîte",
          "Mazet de la Lavande",
          "Le domaine des Oréades",
          "AU BORD DE L'ALZON",
          "Maison De La Bourgade",
          "la maison des Olivettes",
          "Mas d orient",
          "Les Roulottes du pont des charrettes",
          "UZES DECOUVERTES",
          "Le Pré Aux Cigales",
          "Les Canisses, magnifique appartement avec terrasse au cœur d'Uzès",
          "Ma Lou",
          "Bon Jour Uzès",
          "Les cèdres",
          "La bohème place aux herbes",
          "Les Olivettes le mazet",
          "Appartement de charme dans le cœur historique d’Uzès",
          "Villa Maélie",
          "Le Cherche Midi - Appartement centre historique d'Uzès",
          "Uzès à pied, Appartement dans cadre d'exception",
          "Chambre #1 Amiénoise Parking Wifi Netflix",
          "Maison confortable, terrasse et jardin à Amiens",
          "Loft ravissant 45m2 Jacuzzi RVB NIGHT 2",
          "SUPERBE STUDIO HYPER CENTRE TOUT ÉQUIPÉ WIFI NETFLIX 2PERS",
          "Les Jardins de Jules Verne - Côté Jardin",
          "Les Jardins de Jules Verne - Côté Mer",
          "APPART COSY HYPER CENTRE DUPLEX GARE AMIENS 2PERS",
          "LES PERLES AMIÉNOISES ☆ WHITE PEARL ☆ HYPER CENTRE ☆",
          "Le 360° TOUR PERRET Panoramique LUXE 19E étage",
          "15ème droite - Tour Perret - Centre-Ville - 4 étoiles",
          "Hyper centre Amiens, Studio élégant & cosy, proche gare",
          "L’ÉMERAUDE AMIENS",
          "DOWNTOWN LOFT - CENTRE VILLE - WiFi - NETFLIX",
          "Chambre privée - Béranger #1",
          "LES JARDINS avec terrasse",
          "GRANDE MAISON AMIÉNOISE TOUTE ÉQUIPÉE 8PERS WIFI",
          "un Nid en Ville-a Nest in Town -AMIENS-classé 3 étoiles",
          "LE CANGE",
          "Maison Longuevie",
          "DOWNTOWN ROOFTOP - CENTRE VILLE - WiFi - TERRASSE - NETFLIX"
         ],
         "lat": [
          48.86945829,
          48.85384284,
          48.8590331,
          48.8590331,
          48.8590331,
          48.8590331,
          48.85512515,
          48.86336689,
          48.85671062,
          48.840638,
          48.8527,
          48.88622423,
          48.857678,
          48.8602471,
          48.8640764,
          48.822488,
          48.83584078,
          48.87282651,
          48.87044449,
          48.85258614,
          46.1631901,
          46.140315,
          46.13985187,
          46.1649505,
          46.15774873,
          46.1582584,
          46.140315,
          46.1618892,
          46.1558467,
          46.17261264,
          46.1632595,
          46.162523,
          46.16496,
          46.1599029,
          46.166021,
          46.158662,
          46.1558467,
          46.164502,
          46.14825473,
          46.1544244,
          43.933816,
          43.9495628,
          43.9475735,
          43.944976,
          43.9572,
          43.9444023,
          43.945738,
          43.8947634,
          43.96851403,
          43.949343,
          43.90454044,
          43.9378463,
          43.9395551,
          43.941804,
          43.9179481,
          43.9424435,
          43.94500289,
          43.9477551,
          43.94770861,
          43.9448581,
          43.7595513,
          43.7430963,
          43.75732425,
          43.78876335,
          43.657144,
          43.81767505,
          43.75807564,
          43.75520835,
          43.73992663,
          43.7505928,
          43.75932967,
          43.72849754,
          43.782228,
          43.8160021,
          43.75885071,
          43.84756703,
          43.75975461,
          43.81523111,
          43.83696895,
          43.84809185,
          44.03042957,
          43.99623042,
          44.037437,
          43.995238,
          44.009668,
          43.99852802,
          44.020244,
          43.99553544,
          44.018242,
          44.01544515,
          44.0135452,
          44.0098724,
          44.0121968,
          44.01184741,
          44.01167638,
          43.997428,
          44.01250536,
          44.0511693,
          44.0127104,
          44.0124311,
          49.9071312,
          49.87267699,
          49.8852548,
          49.888977,
          49.8860539,
          49.8860539,
          49.8896737,
          49.8925625,
          49.8910052,
          49.891036,
          49.8922794,
          49.87000632,
          49.89219043,
          49.8901866,
          49.8961025,
          49.88492,
          49.8911006,
          49.896384,
          49.887694,
          49.89220425
         ],
         "legendgroup": "",
         "lon": [
          2.34788239,
          2.29421348,
          2.3767341,
          2.3767341,
          2.3767341,
          2.3767341,
          2.27542283,
          2.37728069,
          2.37425208,
          2.348718,
          2.34452,
          2.33528137,
          2.306473,
          2.3467172,
          2.3450753,
          2.347709,
          2.29679516,
          2.30727687,
          2.32337801,
          2.35436797,
          -1.1372199,
          -1.167898,
          -1.17104442,
          -1.1516506,
          -1.15680813,
          -1.152474,
          -1.167898,
          -1.1478591,
          -1.1583862,
          -1.15145883,
          -1.1527144,
          -1.1499295,
          -1.151562,
          -1.153394,
          -1.160282,
          -1.155056,
          -1.1583862,
          -1.178701,
          -1.16388926,
          -1.15002289,
          4.808793,
          4.8080756,
          4.8034511,
          4.810028,
          4.83722,
          4.8028439,
          4.808505,
          4.9130058,
          4.82863997,
          4.8126398,
          4.68369007,
          4.8704581,
          4.8129232,
          4.815,
          4.8810368,
          4.8224577,
          4.81380679,
          4.8107102,
          4.81422484,
          4.8135887,
          5.8953372,
          5.9603246,
          5.89686759,
          5.8596953,
          6.16522,
          6.09342828,
          5.89148052,
          5.89059225,
          5.97438767,
          6.4707211,
          6.15118642,
          6.18681986,
          5.9911036,
          6.07039751,
          5.88500211,
          6.5127836,
          5.89511003,
          6.09084134,
          6.42198776,
          6.22167112,
          4.43042612,
          4.42588268,
          4.45216,
          4.421976,
          4.418032,
          4.41116879,
          4.409254,
          4.42007087,
          4.418825,
          4.40987,
          4.4170735,
          4.4180049,
          4.41912483,
          4.41413619,
          4.41908838,
          4.412575,
          4.42093049,
          4.4038768,
          4.4185003,
          4.4192362,
          2.2853895,
          2.32605953,
          2.3199161,
          2.3115448,
          2.2902209,
          2.2902209,
          2.3086144,
          2.3052844,
          2.3064239,
          2.306244,
          2.3050653,
          2.30806847,
          2.29471652,
          2.2856555,
          2.3107899,
          2.3261471,
          2.2939301,
          2.306378,
          2.294524,
          2.29473797
         ],
         "marker": {
          "color": [
           9.8,
           9.8,
           9.7,
           9.7,
           9.7,
           9.7,
           9.5,
           9.5,
           9.4,
           9.4,
           9.4,
           9.4,
           9.4,
           9.4,
           9.3,
           9.3,
           9.3,
           9.3,
           9.3,
           9.3,
           10,
           10,
           10,
           10,
           10,
           10,
           10,
           10,
           10,
           9.9,
           9.8,
           9.8,
           9.8,
           9.6,
           9.6,
           9.6,
           9.6,
           9.5,
           9.5,
           9.5,
           10,
           10,
           10,
           10,
           10,
           10,
           10,
           10,
           10,
           10,
           10,
           10,
           10,
           10,
           10,
           10,
           10,
           10,
           10,
           10,
           10,
           10,
           10,
           10,
           10,
           10,
           10,
           10,
           10,
           10,
           9.8,
           9.8,
           9.7,
           9.6,
           9.6,
           9.6,
           9.6,
           9.6,
           9.5,
           9.5,
           10,
           9.9,
           9.8,
           9.8,
           9.8,
           9.7,
           9.7,
           9.7,
           9.7,
           9.7,
           9.7,
           9.6,
           9.6,
           9.6,
           9.6,
           9.5,
           9.5,
           9.5,
           9.4,
           9.4,
           10,
           10,
           10,
           10,
           10,
           10,
           10,
           10,
           9.9,
           9.8,
           9.8,
           9.7,
           9.6,
           9.5,
           9.5,
           9.5,
           9.5,
           9.5,
           9.5,
           9.5
          ],
          "coloraxis": "coloraxis",
          "opacity": 0.7,
          "size": [
           9.8,
           9.8,
           9.7,
           9.7,
           9.7,
           9.7,
           9.5,
           9.5,
           9.4,
           9.4,
           9.4,
           9.4,
           9.4,
           9.4,
           9.3,
           9.3,
           9.3,
           9.3,
           9.3,
           9.3,
           10,
           10,
           10,
           10,
           10,
           10,
           10,
           10,
           10,
           9.9,
           9.8,
           9.8,
           9.8,
           9.6,
           9.6,
           9.6,
           9.6,
           9.5,
           9.5,
           9.5,
           10,
           10,
           10,
           10,
           10,
           10,
           10,
           10,
           10,
           10,
           10,
           10,
           10,
           10,
           10,
           10,
           10,
           10,
           10,
           10,
           10,
           10,
           10,
           10,
           10,
           10,
           10,
           10,
           10,
           10,
           9.8,
           9.8,
           9.7,
           9.6,
           9.6,
           9.6,
           9.6,
           9.6,
           9.5,
           9.5,
           10,
           9.9,
           9.8,
           9.8,
           9.8,
           9.7,
           9.7,
           9.7,
           9.7,
           9.7,
           9.7,
           9.6,
           9.6,
           9.6,
           9.6,
           9.5,
           9.5,
           9.5,
           9.4,
           9.4,
           10,
           10,
           10,
           10,
           10,
           10,
           10,
           10,
           9.9,
           9.8,
           9.8,
           9.7,
           9.6,
           9.5,
           9.5,
           9.5,
           9.5,
           9.5,
           9.5,
           9.5
          ],
          "sizemode": "area",
          "sizeref": 0.025
         },
         "mode": "markers",
         "name": "",
         "showlegend": false,
         "subplot": "mapbox",
         "type": "scattermapbox"
        }
       ],
       "layout": {
        "coloraxis": {
         "colorbar": {
          "title": {
           "text": "rating"
          }
         },
         "colorscale": [
          [
           0,
           "#0d0887"
          ],
          [
           0.1111111111111111,
           "#46039f"
          ],
          [
           0.2222222222222222,
           "#7201a8"
          ],
          [
           0.3333333333333333,
           "#9c179e"
          ],
          [
           0.4444444444444444,
           "#bd3786"
          ],
          [
           0.5555555555555556,
           "#d8576b"
          ],
          [
           0.6666666666666666,
           "#ed7953"
          ],
          [
           0.7777777777777778,
           "#fb9f3a"
          ],
          [
           0.8888888888888888,
           "#fdca26"
          ],
          [
           1,
           "#f0f921"
          ]
         ]
        },
        "height": 700,
        "legend": {
         "itemsizing": "constant",
         "tracegroupgap": 0
        },
        "mapbox": {
         "center": {
          "lat": 46.71109,
          "lon": 1.7191036
         },
         "domain": {
          "x": [
           0,
           1
          ],
          "y": [
           0,
           1
          ]
         },
         "style": "carto-positron",
         "zoom": 4.75
        },
        "template": {
         "data": {
          "bar": [
           {
            "error_x": {
             "color": "#2a3f5f"
            },
            "error_y": {
             "color": "#2a3f5f"
            },
            "marker": {
             "line": {
              "color": "#E5ECF6",
              "width": 0.5
             },
             "pattern": {
              "fillmode": "overlay",
              "size": 10,
              "solidity": 0.2
             }
            },
            "type": "bar"
           }
          ],
          "barpolar": [
           {
            "marker": {
             "line": {
              "color": "#E5ECF6",
              "width": 0.5
             },
             "pattern": {
              "fillmode": "overlay",
              "size": 10,
              "solidity": 0.2
             }
            },
            "type": "barpolar"
           }
          ],
          "carpet": [
           {
            "aaxis": {
             "endlinecolor": "#2a3f5f",
             "gridcolor": "white",
             "linecolor": "white",
             "minorgridcolor": "white",
             "startlinecolor": "#2a3f5f"
            },
            "baxis": {
             "endlinecolor": "#2a3f5f",
             "gridcolor": "white",
             "linecolor": "white",
             "minorgridcolor": "white",
             "startlinecolor": "#2a3f5f"
            },
            "type": "carpet"
           }
          ],
          "choropleth": [
           {
            "colorbar": {
             "outlinewidth": 0,
             "ticks": ""
            },
            "type": "choropleth"
           }
          ],
          "contour": [
           {
            "colorbar": {
             "outlinewidth": 0,
             "ticks": ""
            },
            "colorscale": [
             [
              0,
              "#0d0887"
             ],
             [
              0.1111111111111111,
              "#46039f"
             ],
             [
              0.2222222222222222,
              "#7201a8"
             ],
             [
              0.3333333333333333,
              "#9c179e"
             ],
             [
              0.4444444444444444,
              "#bd3786"
             ],
             [
              0.5555555555555556,
              "#d8576b"
             ],
             [
              0.6666666666666666,
              "#ed7953"
             ],
             [
              0.7777777777777778,
              "#fb9f3a"
             ],
             [
              0.8888888888888888,
              "#fdca26"
             ],
             [
              1,
              "#f0f921"
             ]
            ],
            "type": "contour"
           }
          ],
          "contourcarpet": [
           {
            "colorbar": {
             "outlinewidth": 0,
             "ticks": ""
            },
            "type": "contourcarpet"
           }
          ],
          "heatmap": [
           {
            "colorbar": {
             "outlinewidth": 0,
             "ticks": ""
            },
            "colorscale": [
             [
              0,
              "#0d0887"
             ],
             [
              0.1111111111111111,
              "#46039f"
             ],
             [
              0.2222222222222222,
              "#7201a8"
             ],
             [
              0.3333333333333333,
              "#9c179e"
             ],
             [
              0.4444444444444444,
              "#bd3786"
             ],
             [
              0.5555555555555556,
              "#d8576b"
             ],
             [
              0.6666666666666666,
              "#ed7953"
             ],
             [
              0.7777777777777778,
              "#fb9f3a"
             ],
             [
              0.8888888888888888,
              "#fdca26"
             ],
             [
              1,
              "#f0f921"
             ]
            ],
            "type": "heatmap"
           }
          ],
          "heatmapgl": [
           {
            "colorbar": {
             "outlinewidth": 0,
             "ticks": ""
            },
            "colorscale": [
             [
              0,
              "#0d0887"
             ],
             [
              0.1111111111111111,
              "#46039f"
             ],
             [
              0.2222222222222222,
              "#7201a8"
             ],
             [
              0.3333333333333333,
              "#9c179e"
             ],
             [
              0.4444444444444444,
              "#bd3786"
             ],
             [
              0.5555555555555556,
              "#d8576b"
             ],
             [
              0.6666666666666666,
              "#ed7953"
             ],
             [
              0.7777777777777778,
              "#fb9f3a"
             ],
             [
              0.8888888888888888,
              "#fdca26"
             ],
             [
              1,
              "#f0f921"
             ]
            ],
            "type": "heatmapgl"
           }
          ],
          "histogram": [
           {
            "marker": {
             "pattern": {
              "fillmode": "overlay",
              "size": 10,
              "solidity": 0.2
             }
            },
            "type": "histogram"
           }
          ],
          "histogram2d": [
           {
            "colorbar": {
             "outlinewidth": 0,
             "ticks": ""
            },
            "colorscale": [
             [
              0,
              "#0d0887"
             ],
             [
              0.1111111111111111,
              "#46039f"
             ],
             [
              0.2222222222222222,
              "#7201a8"
             ],
             [
              0.3333333333333333,
              "#9c179e"
             ],
             [
              0.4444444444444444,
              "#bd3786"
             ],
             [
              0.5555555555555556,
              "#d8576b"
             ],
             [
              0.6666666666666666,
              "#ed7953"
             ],
             [
              0.7777777777777778,
              "#fb9f3a"
             ],
             [
              0.8888888888888888,
              "#fdca26"
             ],
             [
              1,
              "#f0f921"
             ]
            ],
            "type": "histogram2d"
           }
          ],
          "histogram2dcontour": [
           {
            "colorbar": {
             "outlinewidth": 0,
             "ticks": ""
            },
            "colorscale": [
             [
              0,
              "#0d0887"
             ],
             [
              0.1111111111111111,
              "#46039f"
             ],
             [
              0.2222222222222222,
              "#7201a8"
             ],
             [
              0.3333333333333333,
              "#9c179e"
             ],
             [
              0.4444444444444444,
              "#bd3786"
             ],
             [
              0.5555555555555556,
              "#d8576b"
             ],
             [
              0.6666666666666666,
              "#ed7953"
             ],
             [
              0.7777777777777778,
              "#fb9f3a"
             ],
             [
              0.8888888888888888,
              "#fdca26"
             ],
             [
              1,
              "#f0f921"
             ]
            ],
            "type": "histogram2dcontour"
           }
          ],
          "mesh3d": [
           {
            "colorbar": {
             "outlinewidth": 0,
             "ticks": ""
            },
            "type": "mesh3d"
           }
          ],
          "parcoords": [
           {
            "line": {
             "colorbar": {
              "outlinewidth": 0,
              "ticks": ""
             }
            },
            "type": "parcoords"
           }
          ],
          "pie": [
           {
            "automargin": true,
            "type": "pie"
           }
          ],
          "scatter": [
           {
            "fillpattern": {
             "fillmode": "overlay",
             "size": 10,
             "solidity": 0.2
            },
            "type": "scatter"
           }
          ],
          "scatter3d": [
           {
            "line": {
             "colorbar": {
              "outlinewidth": 0,
              "ticks": ""
             }
            },
            "marker": {
             "colorbar": {
              "outlinewidth": 0,
              "ticks": ""
             }
            },
            "type": "scatter3d"
           }
          ],
          "scattercarpet": [
           {
            "marker": {
             "colorbar": {
              "outlinewidth": 0,
              "ticks": ""
             }
            },
            "type": "scattercarpet"
           }
          ],
          "scattergeo": [
           {
            "marker": {
             "colorbar": {
              "outlinewidth": 0,
              "ticks": ""
             }
            },
            "type": "scattergeo"
           }
          ],
          "scattergl": [
           {
            "marker": {
             "colorbar": {
              "outlinewidth": 0,
              "ticks": ""
             }
            },
            "type": "scattergl"
           }
          ],
          "scattermapbox": [
           {
            "marker": {
             "colorbar": {
              "outlinewidth": 0,
              "ticks": ""
             }
            },
            "type": "scattermapbox"
           }
          ],
          "scatterpolar": [
           {
            "marker": {
             "colorbar": {
              "outlinewidth": 0,
              "ticks": ""
             }
            },
            "type": "scatterpolar"
           }
          ],
          "scatterpolargl": [
           {
            "marker": {
             "colorbar": {
              "outlinewidth": 0,
              "ticks": ""
             }
            },
            "type": "scatterpolargl"
           }
          ],
          "scatterternary": [
           {
            "marker": {
             "colorbar": {
              "outlinewidth": 0,
              "ticks": ""
             }
            },
            "type": "scatterternary"
           }
          ],
          "surface": [
           {
            "colorbar": {
             "outlinewidth": 0,
             "ticks": ""
            },
            "colorscale": [
             [
              0,
              "#0d0887"
             ],
             [
              0.1111111111111111,
              "#46039f"
             ],
             [
              0.2222222222222222,
              "#7201a8"
             ],
             [
              0.3333333333333333,
              "#9c179e"
             ],
             [
              0.4444444444444444,
              "#bd3786"
             ],
             [
              0.5555555555555556,
              "#d8576b"
             ],
             [
              0.6666666666666666,
              "#ed7953"
             ],
             [
              0.7777777777777778,
              "#fb9f3a"
             ],
             [
              0.8888888888888888,
              "#fdca26"
             ],
             [
              1,
              "#f0f921"
             ]
            ],
            "type": "surface"
           }
          ],
          "table": [
           {
            "cells": {
             "fill": {
              "color": "#EBF0F8"
             },
             "line": {
              "color": "white"
             }
            },
            "header": {
             "fill": {
              "color": "#C8D4E3"
             },
             "line": {
              "color": "white"
             }
            },
            "type": "table"
           }
          ]
         },
         "layout": {
          "annotationdefaults": {
           "arrowcolor": "#2a3f5f",
           "arrowhead": 0,
           "arrowwidth": 1
          },
          "autotypenumbers": "strict",
          "coloraxis": {
           "colorbar": {
            "outlinewidth": 0,
            "ticks": ""
           }
          },
          "colorscale": {
           "diverging": [
            [
             0,
             "#8e0152"
            ],
            [
             0.1,
             "#c51b7d"
            ],
            [
             0.2,
             "#de77ae"
            ],
            [
             0.3,
             "#f1b6da"
            ],
            [
             0.4,
             "#fde0ef"
            ],
            [
             0.5,
             "#f7f7f7"
            ],
            [
             0.6,
             "#e6f5d0"
            ],
            [
             0.7,
             "#b8e186"
            ],
            [
             0.8,
             "#7fbc41"
            ],
            [
             0.9,
             "#4d9221"
            ],
            [
             1,
             "#276419"
            ]
           ],
           "sequential": [
            [
             0,
             "#0d0887"
            ],
            [
             0.1111111111111111,
             "#46039f"
            ],
            [
             0.2222222222222222,
             "#7201a8"
            ],
            [
             0.3333333333333333,
             "#9c179e"
            ],
            [
             0.4444444444444444,
             "#bd3786"
            ],
            [
             0.5555555555555556,
             "#d8576b"
            ],
            [
             0.6666666666666666,
             "#ed7953"
            ],
            [
             0.7777777777777778,
             "#fb9f3a"
            ],
            [
             0.8888888888888888,
             "#fdca26"
            ],
            [
             1,
             "#f0f921"
            ]
           ],
           "sequentialminus": [
            [
             0,
             "#0d0887"
            ],
            [
             0.1111111111111111,
             "#46039f"
            ],
            [
             0.2222222222222222,
             "#7201a8"
            ],
            [
             0.3333333333333333,
             "#9c179e"
            ],
            [
             0.4444444444444444,
             "#bd3786"
            ],
            [
             0.5555555555555556,
             "#d8576b"
            ],
            [
             0.6666666666666666,
             "#ed7953"
            ],
            [
             0.7777777777777778,
             "#fb9f3a"
            ],
            [
             0.8888888888888888,
             "#fdca26"
            ],
            [
             1,
             "#f0f921"
            ]
           ]
          },
          "colorway": [
           "#636efa",
           "#EF553B",
           "#00cc96",
           "#ab63fa",
           "#FFA15A",
           "#19d3f3",
           "#FF6692",
           "#B6E880",
           "#FF97FF",
           "#FECB52"
          ],
          "font": {
           "color": "#2a3f5f"
          },
          "geo": {
           "bgcolor": "white",
           "lakecolor": "white",
           "landcolor": "#E5ECF6",
           "showlakes": true,
           "showland": true,
           "subunitcolor": "white"
          },
          "hoverlabel": {
           "align": "left"
          },
          "hovermode": "closest",
          "mapbox": {
           "style": "light"
          },
          "paper_bgcolor": "white",
          "plot_bgcolor": "#E5ECF6",
          "polar": {
           "angularaxis": {
            "gridcolor": "white",
            "linecolor": "white",
            "ticks": ""
           },
           "bgcolor": "#E5ECF6",
           "radialaxis": {
            "gridcolor": "white",
            "linecolor": "white",
            "ticks": ""
           }
          },
          "scene": {
           "xaxis": {
            "backgroundcolor": "#E5ECF6",
            "gridcolor": "white",
            "gridwidth": 2,
            "linecolor": "white",
            "showbackground": true,
            "ticks": "",
            "zerolinecolor": "white"
           },
           "yaxis": {
            "backgroundcolor": "#E5ECF6",
            "gridcolor": "white",
            "gridwidth": 2,
            "linecolor": "white",
            "showbackground": true,
            "ticks": "",
            "zerolinecolor": "white"
           },
           "zaxis": {
            "backgroundcolor": "#E5ECF6",
            "gridcolor": "white",
            "gridwidth": 2,
            "linecolor": "white",
            "showbackground": true,
            "ticks": "",
            "zerolinecolor": "white"
           }
          },
          "shapedefaults": {
           "line": {
            "color": "#2a3f5f"
           }
          },
          "ternary": {
           "aaxis": {
            "gridcolor": "white",
            "linecolor": "white",
            "ticks": ""
           },
           "baxis": {
            "gridcolor": "white",
            "linecolor": "white",
            "ticks": ""
           },
           "bgcolor": "#E5ECF6",
           "caxis": {
            "gridcolor": "white",
            "linecolor": "white",
            "ticks": ""
           }
          },
          "title": {
           "x": 0.05
          },
          "xaxis": {
           "automargin": true,
           "gridcolor": "white",
           "linecolor": "white",
           "ticks": "",
           "title": {
            "standoff": 15
           },
           "zerolinecolor": "white",
           "zerolinewidth": 2
          },
          "yaxis": {
           "automargin": true,
           "gridcolor": "white",
           "linecolor": "white",
           "ticks": "",
           "title": {
            "standoff": 15
           },
           "zerolinecolor": "white",
           "zerolinewidth": 2
          }
         }
        },
        "title": {
         "text": "top 20 ranked hotels for the top 5 destinations"
        }
       }
      }
     },
     "metadata": {},
     "output_type": "display_data"
    }
   ],
   "source": [
    "LAT_0 = 46.71109\n",
    "LON_0 = 1.7191036\n",
    "\n",
    "fig2 = px.scatter_mapbox(\n",
    "    df_final_top, \n",
    "    lat=\"hotel_lat\",\n",
    "    lon=\"hotel_lon\",\n",
    "    zoom = 4.75,\n",
    "    hover_name = 'hotel_name',\n",
    "    hover_data = ['city', 'rating', 'weather_description'],\n",
    "    center = {'lat': LAT_0, 'lon': LON_0}, \n",
    "    color='rating',\n",
    "    size = 'rating',\n",
    "    title = 'top 20 ranked hotels for the top 5 destinations',\n",
    "    mapbox_style='carto-positron',\n",
    "    opacity = 0.7,\n",
    "    height = 700,\n",
    "    )\n",
    "\n",
    "fig2.show()"
   ]
  },
  {
   "cell_type": "code",
   "execution_count": 61,
   "metadata": {},
   "outputs": [],
   "source": [
    "df_final['weather_description'] = df_final['weather_description'].apply(lambda x: (\", \").join(x) if type(x).__module__ == np.__name__ else x)"
   ]
  },
  {
   "cell_type": "code",
   "execution_count": 65,
   "metadata": {},
   "outputs": [
    {
     "data": {
      "text/html": [
       "<div>\n",
       "<style scoped>\n",
       "    .dataframe tbody tr th:only-of-type {\n",
       "        vertical-align: middle;\n",
       "    }\n",
       "\n",
       "    .dataframe tbody tr th {\n",
       "        vertical-align: top;\n",
       "    }\n",
       "\n",
       "    .dataframe thead th {\n",
       "        text-align: right;\n",
       "    }\n",
       "</style>\n",
       "<table border=\"1\" class=\"dataframe\">\n",
       "  <thead>\n",
       "    <tr style=\"text-align: right;\">\n",
       "      <th></th>\n",
       "      <th>id</th>\n",
       "      <th>destination</th>\n",
       "      <th>clouds</th>\n",
       "      <th>feels_like_day</th>\n",
       "      <th>feels_like_eve</th>\n",
       "      <th>feels_like_morn</th>\n",
       "      <th>feels_like_night</th>\n",
       "      <th>lat</th>\n",
       "      <th>lon</th>\n",
       "      <th>pop</th>\n",
       "      <th>...</th>\n",
       "      <th>weather_description</th>\n",
       "      <th>city</th>\n",
       "      <th>address</th>\n",
       "      <th>hotel_name</th>\n",
       "      <th>url</th>\n",
       "      <th>rating</th>\n",
       "      <th>coordinates</th>\n",
       "      <th>description</th>\n",
       "      <th>hotel_lat</th>\n",
       "      <th>hotel_lon</th>\n",
       "    </tr>\n",
       "  </thead>\n",
       "  <tbody>\n",
       "    <tr>\n",
       "      <th>0</th>\n",
       "      <td>5</td>\n",
       "      <td>Paris</td>\n",
       "      <td>85.625</td>\n",
       "      <td>15.27375</td>\n",
       "      <td>14.075</td>\n",
       "      <td>11.445</td>\n",
       "      <td>12.63875</td>\n",
       "      <td>48.85889</td>\n",
       "      <td>2.320041</td>\n",
       "      <td>0.665</td>\n",
       "      <td>...</td>\n",
       "      <td>light rain</td>\n",
       "      <td>Paris</td>\n",
       "      <td>\\n123 Rue D'Aboukir, 2nd arr., 75002 Paris, Fr...</td>\n",
       "      <td>LivinParis - Luxury 3 Bedrooms Grands-Boulevar...</td>\n",
       "      <td>https://www.booking.com/hotel/fr/the-residence...</td>\n",
       "      <td>8.0</td>\n",
       "      <td>48.86881640,2.35037469</td>\n",
       "      <td>&lt;p&gt;Located in the 2nd district of Paris, just ...</td>\n",
       "      <td>48.868816</td>\n",
       "      <td>2.350375</td>\n",
       "    </tr>\n",
       "    <tr>\n",
       "      <th>1</th>\n",
       "      <td>5</td>\n",
       "      <td>Paris</td>\n",
       "      <td>85.625</td>\n",
       "      <td>15.27375</td>\n",
       "      <td>14.075</td>\n",
       "      <td>11.445</td>\n",
       "      <td>12.63875</td>\n",
       "      <td>48.85889</td>\n",
       "      <td>2.320041</td>\n",
       "      <td>0.665</td>\n",
       "      <td>...</td>\n",
       "      <td>light rain</td>\n",
       "      <td>Paris</td>\n",
       "      <td>\\n10, Place De La République, 11th arr., 75011...</td>\n",
       "      <td>Crowne Plaza Paris République, an IHG Hotel</td>\n",
       "      <td>https://www.booking.com/hotel/fr/holiday-inn-p...</td>\n",
       "      <td>7.8</td>\n",
       "      <td>48.86723700,2.36544415</td>\n",
       "      <td>&lt;p&gt;This 19th-century building with its strikin...</td>\n",
       "      <td>48.867237</td>\n",
       "      <td>2.365444</td>\n",
       "    </tr>\n",
       "    <tr>\n",
       "      <th>2</th>\n",
       "      <td>5</td>\n",
       "      <td>Paris</td>\n",
       "      <td>85.625</td>\n",
       "      <td>15.27375</td>\n",
       "      <td>14.075</td>\n",
       "      <td>11.445</td>\n",
       "      <td>12.63875</td>\n",
       "      <td>48.85889</td>\n",
       "      <td>2.320041</td>\n",
       "      <td>0.665</td>\n",
       "      <td>...</td>\n",
       "      <td>light rain</td>\n",
       "      <td>Paris</td>\n",
       "      <td>\\n1 rue Geoffroy Marie, 9th arr., 75009 Paris,...</td>\n",
       "      <td>Hotel Panache</td>\n",
       "      <td>https://www.booking.com/hotel/fr/hotel-panache...</td>\n",
       "      <td>8.3</td>\n",
       "      <td>48.87322110,2.34326050</td>\n",
       "      <td>&lt;p&gt;Located in the 9th district of Paris, just ...</td>\n",
       "      <td>48.873221</td>\n",
       "      <td>2.343260</td>\n",
       "    </tr>\n",
       "    <tr>\n",
       "      <th>3</th>\n",
       "      <td>5</td>\n",
       "      <td>Paris</td>\n",
       "      <td>85.625</td>\n",
       "      <td>15.27375</td>\n",
       "      <td>14.075</td>\n",
       "      <td>11.445</td>\n",
       "      <td>12.63875</td>\n",
       "      <td>48.85889</td>\n",
       "      <td>2.320041</td>\n",
       "      <td>0.665</td>\n",
       "      <td>...</td>\n",
       "      <td>light rain</td>\n",
       "      <td>Paris</td>\n",
       "      <td>\\n146 Boulevard Pereire, 17th arr., 75017 Pari...</td>\n",
       "      <td>Appart'hôtel Makom Pereire</td>\n",
       "      <td>https://www.booking.com/hotel/fr/etoile-pereir...</td>\n",
       "      <td>8.0</td>\n",
       "      <td>48.88347596,2.29406878</td>\n",
       "      <td>&lt;p&gt;Appart'hôtel Makom Pereire is located 300 m...</td>\n",
       "      <td>48.883476</td>\n",
       "      <td>2.294069</td>\n",
       "    </tr>\n",
       "    <tr>\n",
       "      <th>4</th>\n",
       "      <td>5</td>\n",
       "      <td>Paris</td>\n",
       "      <td>85.625</td>\n",
       "      <td>15.27375</td>\n",
       "      <td>14.075</td>\n",
       "      <td>11.445</td>\n",
       "      <td>12.63875</td>\n",
       "      <td>48.85889</td>\n",
       "      <td>2.320041</td>\n",
       "      <td>0.665</td>\n",
       "      <td>...</td>\n",
       "      <td>light rain</td>\n",
       "      <td>Paris</td>\n",
       "      <td>\\n12 rue de Richelieu, 1st arr., 75001 Paris, ...</td>\n",
       "      <td>Hotel Montpensier</td>\n",
       "      <td>https://www.booking.com/hotel/fr/montpensier-p...</td>\n",
       "      <td>8.0</td>\n",
       "      <td>48.86430452,2.33623432</td>\n",
       "      <td>&lt;p&gt;Located in the very heart of Paris, just 40...</td>\n",
       "      <td>48.864305</td>\n",
       "      <td>2.336234</td>\n",
       "    </tr>\n",
       "  </tbody>\n",
       "</table>\n",
       "<p>5 rows × 21 columns</p>\n",
       "</div>"
      ],
      "text/plain": [
       "   id destination  clouds  feels_like_day  feels_like_eve  feels_like_morn  \\\n",
       "0   5       Paris  85.625        15.27375          14.075           11.445   \n",
       "1   5       Paris  85.625        15.27375          14.075           11.445   \n",
       "2   5       Paris  85.625        15.27375          14.075           11.445   \n",
       "3   5       Paris  85.625        15.27375          14.075           11.445   \n",
       "4   5       Paris  85.625        15.27375          14.075           11.445   \n",
       "\n",
       "   feels_like_night       lat       lon    pop  ...  weather_description  \\\n",
       "0          12.63875  48.85889  2.320041  0.665  ...           light rain   \n",
       "1          12.63875  48.85889  2.320041  0.665  ...           light rain   \n",
       "2          12.63875  48.85889  2.320041  0.665  ...           light rain   \n",
       "3          12.63875  48.85889  2.320041  0.665  ...           light rain   \n",
       "4          12.63875  48.85889  2.320041  0.665  ...           light rain   \n",
       "\n",
       "    city                                            address  \\\n",
       "0  Paris  \\n123 Rue D'Aboukir, 2nd arr., 75002 Paris, Fr...   \n",
       "1  Paris  \\n10, Place De La République, 11th arr., 75011...   \n",
       "2  Paris  \\n1 rue Geoffroy Marie, 9th arr., 75009 Paris,...   \n",
       "3  Paris  \\n146 Boulevard Pereire, 17th arr., 75017 Pari...   \n",
       "4  Paris  \\n12 rue de Richelieu, 1st arr., 75001 Paris, ...   \n",
       "\n",
       "                                          hotel_name  \\\n",
       "0  LivinParis - Luxury 3 Bedrooms Grands-Boulevar...   \n",
       "1        Crowne Plaza Paris République, an IHG Hotel   \n",
       "2                                      Hotel Panache   \n",
       "3                         Appart'hôtel Makom Pereire   \n",
       "4                                  Hotel Montpensier   \n",
       "\n",
       "                                                 url rating  \\\n",
       "0  https://www.booking.com/hotel/fr/the-residence...    8.0   \n",
       "1  https://www.booking.com/hotel/fr/holiday-inn-p...    7.8   \n",
       "2  https://www.booking.com/hotel/fr/hotel-panache...    8.3   \n",
       "3  https://www.booking.com/hotel/fr/etoile-pereir...    8.0   \n",
       "4  https://www.booking.com/hotel/fr/montpensier-p...    8.0   \n",
       "\n",
       "              coordinates                                        description  \\\n",
       "0  48.86881640,2.35037469  <p>Located in the 2nd district of Paris, just ...   \n",
       "1  48.86723700,2.36544415  <p>This 19th-century building with its strikin...   \n",
       "2  48.87322110,2.34326050  <p>Located in the 9th district of Paris, just ...   \n",
       "3  48.88347596,2.29406878  <p>Appart'hôtel Makom Pereire is located 300 m...   \n",
       "4  48.86430452,2.33623432  <p>Located in the very heart of Paris, just 40...   \n",
       "\n",
       "   hotel_lat  hotel_lon  \n",
       "0  48.868816   2.350375  \n",
       "1  48.867237   2.365444  \n",
       "2  48.873221   2.343260  \n",
       "3  48.883476   2.294069  \n",
       "4  48.864305   2.336234  \n",
       "\n",
       "[5 rows x 21 columns]"
      ]
     },
     "execution_count": 65,
     "metadata": {},
     "output_type": "execute_result"
    }
   ],
   "source": [
    "df_final.head()"
   ]
  },
  {
   "cell_type": "markdown",
   "metadata": {},
   "source": [
    "sending the final dataset as a csv file into my S3 bucket"
   ]
  },
  {
   "cell_type": "code",
   "execution_count": 180,
   "metadata": {},
   "outputs": [],
   "source": [
    "aki, sak = config.ACCESS_KEY_ID, config.SECRET_ACCESS_KEY\n",
    "\n",
    "session = boto3.Session(aws_access_key_id=aki, \n",
    "                        aws_secret_access_key=sak)\n",
    "\n",
    "s3 = session.resource(\"s3\")"
   ]
  },
  {
   "cell_type": "code",
   "execution_count": 182,
   "metadata": {},
   "outputs": [],
   "source": [
    "bucket = s3.create_bucket(Bucket=\"booking-project-kayak\", CreateBucketConfiguration={'LocationConstraint': 'eu-west-3'})"
   ]
  },
  {
   "cell_type": "code",
   "execution_count": 183,
   "metadata": {},
   "outputs": [],
   "source": [
    "csv = df_final.to_csv()"
   ]
  },
  {
   "cell_type": "code",
   "execution_count": 184,
   "metadata": {},
   "outputs": [],
   "source": [
    "put_object = bucket.put_object(Key=\"booking-dataset.csv\", Body=csv)"
   ]
  },
  {
   "cell_type": "markdown",
   "metadata": {},
   "source": [
    "extract uploaded dataset from S3 and store it in my newly created database using AWS RDS"
   ]
  },
  {
   "cell_type": "code",
   "execution_count": 66,
   "metadata": {},
   "outputs": [],
   "source": [
    "dbuser, dbpass, dbhost, dbname = config.DBUSER, config.DBPASS, config.DBHOST, config.DBNAME\n",
    "\n",
    "engine = create_engine(f\"postgresql+psycopg2://{dbuser}:{dbpass}@{dbhost}/{dbname}\", echo=True)"
   ]
  },
  {
   "cell_type": "code",
   "execution_count": 67,
   "metadata": {},
   "outputs": [
    {
     "name": "stdout",
     "output_type": "stream",
     "text": [
      "2022-10-19 14:05:23,778 INFO sqlalchemy.engine.Engine select pg_catalog.version()\n",
      "2022-10-19 14:05:23,779 INFO sqlalchemy.engine.Engine [raw sql] {}\n",
      "2022-10-19 14:05:23,820 INFO sqlalchemy.engine.Engine select current_schema()\n",
      "2022-10-19 14:05:23,821 INFO sqlalchemy.engine.Engine [raw sql] {}\n",
      "2022-10-19 14:05:23,864 INFO sqlalchemy.engine.Engine show standard_conforming_strings\n",
      "2022-10-19 14:05:23,865 INFO sqlalchemy.engine.Engine [raw sql] {}\n",
      "2022-10-19 14:05:23,908 INFO sqlalchemy.engine.Engine select relname from pg_class c join pg_namespace n on n.oid=c.relnamespace where pg_catalog.pg_table_is_visible(c.oid) and relname=%(name)s\n",
      "2022-10-19 14:05:23,910 INFO sqlalchemy.engine.Engine [generated in 0.00180s] {'name': 'booking_hotel_table'}\n",
      "2022-10-19 14:05:23,976 INFO sqlalchemy.engine.Engine BEGIN (implicit)\n",
      "2022-10-19 14:05:23,979 INFO sqlalchemy.engine.Engine \n",
      "CREATE TABLE booking_hotel_table (\n",
      "\tindex BIGINT, \n",
      "\tid BIGINT, \n",
      "\tdestination TEXT, \n",
      "\tclouds FLOAT(53), \n",
      "\tfeels_like_day FLOAT(53), \n",
      "\tfeels_like_eve FLOAT(53), \n",
      "\tfeels_like_morn FLOAT(53), \n",
      "\tfeels_like_night FLOAT(53), \n",
      "\tlat FLOAT(53), \n",
      "\tlon FLOAT(53), \n",
      "\tpop FLOAT(53), \n",
      "\train FLOAT(53), \n",
      "\tweather_description TEXT, \n",
      "\tcity TEXT, \n",
      "\taddress TEXT, \n",
      "\thotel_name TEXT, \n",
      "\turl TEXT, \n",
      "\trating FLOAT(53), \n",
      "\tcoordinates TEXT, \n",
      "\tdescription TEXT, \n",
      "\thotel_lat FLOAT(53), \n",
      "\thotel_lon FLOAT(53)\n",
      ")\n",
      "\n",
      "\n",
      "2022-10-19 14:05:23,980 INFO sqlalchemy.engine.Engine [no key 0.00117s] {}\n",
      "2022-10-19 14:05:24,032 INFO sqlalchemy.engine.Engine CREATE INDEX ix_booking_hotel_table_index ON booking_hotel_table (index)\n",
      "2022-10-19 14:05:24,034 INFO sqlalchemy.engine.Engine [no key 0.00213s] {}\n",
      "2022-10-19 14:05:24,058 INFO sqlalchemy.engine.Engine COMMIT\n",
      "2022-10-19 14:05:24,136 INFO sqlalchemy.engine.Engine BEGIN (implicit)\n",
      "2022-10-19 14:05:24,446 INFO sqlalchemy.engine.Engine INSERT INTO booking_hotel_table (index, id, destination, clouds, feels_like_day, feels_like_eve, feels_like_morn, feels_like_night, lat, lon, pop, rain, weather_description, city, address, hotel_name, url, rating, coordinates, description, hotel_lat, hotel_lon) VALUES (%(index)s, %(id)s, %(destination)s, %(clouds)s, %(feels_like_day)s, %(feels_like_eve)s, %(feels_like_morn)s, %(feels_like_night)s, %(lat)s, %(lon)s, %(pop)s, %(rain)s, %(weather_description)s, %(city)s, %(address)s, %(hotel_name)s, %(url)s, %(rating)s, %(coordinates)s, %(description)s, %(hotel_lat)s, %(hotel_lon)s)\n",
      "2022-10-19 14:05:24,447 INFO sqlalchemy.engine.Engine [generated in 0.26080s] ({'index': 0, 'id': 5, 'destination': 'Paris', 'clouds': 85.625, 'feels_like_day': 15.27375, 'feels_like_eve': 14.075, 'feels_like_morn': 11.445, 'feels_like_night': 12.63875, 'lat': 48.8588897, 'lon': 2.3200410217200766, 'pop': 0.665, 'rain': 1.83, 'weather_description': 'light rain', 'city': 'Paris', 'address': \"\\n123 Rue D'Aboukir, 2nd arr., 75002 Paris, France\\n\", 'hotel_name': 'LivinParis - Luxury 3 Bedrooms Grands-Boulevards I', 'url': 'https://www.booking.com/hotel/fr/the-residence-luxury-3-bedroom-paris-center.en-gb.html?aid=304142&label=gen173nr-1FCAEoggI46AdIM1gEaE2IAQGYAQm4AQrIA ... (142 characters truncated) ... _rooms=1&group_children=0&req_children=0&hpos=25&hapos=25&sr_order=popularity&srpvid=28026aa270b100d6&srepoch=1666019397&from=searchresults#hotelTmpl', 'rating': 8.0, 'coordinates': '48.86881640,2.35037469', 'description': '<p>Located in the 2nd district of Paris, just a 15-minute walk from Opéra Gernier, The Residence – Luxury 3 Bedroom Paris Center offers 3 contemporary self-catering accommodation. The Georges Pompidou Centre is only 1 km away.</p>', 'hotel_lat': 48.8688164, 'hotel_lon': 2.35037469}, {'index': 1, 'id': 5, 'destination': 'Paris', 'clouds': 85.625, 'feels_like_day': 15.27375, 'feels_like_eve': 14.075, 'feels_like_morn': 11.445, 'feels_like_night': 12.63875, 'lat': 48.8588897, 'lon': 2.3200410217200766, 'pop': 0.665, 'rain': 1.83, 'weather_description': 'light rain', 'city': 'Paris', 'address': '\\n10, Place De La République, 11th arr., 75011 Paris, France\\n', 'hotel_name': 'Crowne Plaza Paris République, an IHG Hotel', 'url': 'https://www.booking.com/hotel/fr/holiday-inn-paris-republique.en-gb.html?aid=304142&label=gen173bo-1DCAQoggJCDHNlYXJjaF9wYXJpc0gJWANoTYgBAZgBCbgBGMgB ... (177 characters truncated) ... hildren=0&hpos=25&hapos=50&sr_order=popularity&srpvid=c6626aa4df17028f&srepoch=1666019402&from_sustainable_property_sr=1&from=searchresults#hotelTmpl', 'rating': 7.8, 'coordinates': '48.86723700,2.36544415', 'description': '<p>This 19th-century building with its striking façade is the home of the Crowne Plaza Paris République, a 4-star hotel situated at Place de la République. Fully refurbished in 2019, it offers a large area on ground floor with a flexible workspace.</p>', 'hotel_lat': 48.867237, 'hotel_lon': 2.36544415}, {'index': 2, 'id': 5, 'destination': 'Paris', 'clouds': 85.625, 'feels_like_day': 15.27375, 'feels_like_eve': 14.075, 'feels_like_morn': 11.445, 'feels_like_night': 12.63875, 'lat': 48.8588897, 'lon': 2.3200410217200766, 'pop': 0.665, 'rain': 1.83, 'weather_description': 'light rain', 'city': 'Paris', 'address': '\\n1 rue Geoffroy Marie, 9th arr., 75009 Paris, France\\n', 'hotel_name': 'Hotel Panache', 'url': 'https://www.booking.com/hotel/fr/hotel-panache.en-gb.html?aid=304142&label=gen173bo-1DCAQoggJCDHNlYXJjaF9wYXJpc0gJWANoTYgBAZgBCbgBGMgBBdgBA-gBAfgBA4g ... (131 characters truncated) ... _rooms=1&group_children=0&req_children=0&hpos=24&hapos=49&sr_order=popularity&srpvid=c6626aa4df17028f&srepoch=1666019402&from=searchresults#hotelTmpl', 'rating': 8.3, 'coordinates': '48.87322110,2.34326050', 'description': '<p>Located in the 9th district of Paris, just a 10-minute walk from the famous Galaries Lafayette Department Store, Hotel Panache offers a 24-hour reception and a bar. Grands Boulevards Metro Station is 300 m away.</p>', 'hotel_lat': 48.8732211, 'hotel_lon': 2.3432605}, {'index': 3, 'id': 5, 'destination': 'Paris', 'clouds': 85.625, 'feels_like_day': 15.27375, 'feels_like_eve': 14.075, 'feels_like_morn': 11.445, 'feels_like_night': 12.63875, 'lat': 48.8588897, 'lon': 2.3200410217200766, 'pop': 0.665, 'rain': 1.83, 'weather_description': 'light rain', 'city': 'Paris', 'address': '\\n146 Boulevard Pereire, 17th arr., 75017 Paris, France\\n', 'hotel_name': \"Appart'hôtel Makom Pereire\", 'url': 'https://www.booking.com/hotel/fr/etoile-pereire.en-gb.html?aid=304142&label=gen173bo-1DCAQoggJCDHNlYXJjaF9wYXJpc0gJWANoTYgBAZgBCbgBGMgBBdgBA-gBAfgBA4 ... (132 characters truncated) ... _rooms=1&group_children=0&req_children=0&hpos=22&hapos=47&sr_order=popularity&srpvid=c6626aa4df17028f&srepoch=1666019402&from=searchresults#hotelTmpl', 'rating': 8.0, 'coordinates': '48.88347596,2.29406878', 'description': \"<p>Appart'hôtel Makom Pereire is located 300 m from Pereire Metro and RER station, and a 10-minute walk from the Arc de Triomphe and Champs-Élysées district. It offers en suite rooms with free Wi-Fi internet access.</p>\", 'hotel_lat': 48.88347596, 'hotel_lon': 2.29406878}, {'index': 4, 'id': 5, 'destination': 'Paris', 'clouds': 85.625, 'feels_like_day': 15.27375, 'feels_like_eve': 14.075, 'feels_like_morn': 11.445, 'feels_like_night': 12.63875, 'lat': 48.8588897, 'lon': 2.3200410217200766, 'pop': 0.665, 'rain': 1.83, 'weather_description': 'light rain', 'city': 'Paris', 'address': '\\n12 rue de Richelieu, 1st arr., 75001 Paris, France\\n', 'hotel_name': 'Hotel Montpensier', 'url': 'https://www.booking.com/hotel/fr/montpensier-paris.en-gb.html?aid=304142&label=gen173bo-1DCAQoggJCDHNlYXJjaF9wYXJpc0gJWANoTYgBAZgBCbgBGMgBBdgBA-gBAfg ... (135 characters truncated) ... _rooms=1&group_children=0&req_children=0&hpos=23&hapos=48&sr_order=popularity&srpvid=c6626aa4df17028f&srepoch=1666019402&from=searchresults#hotelTmpl', 'rating': 8.0, 'coordinates': '48.86430452,2.33623432', 'description': '<p>Located in the very heart of Paris, just 400 m from the Louvre, Hotel Montpensier offers a 24-hour front desk and free Wi-Fi access in all areas. All rooms are serviced by a lift.</p>', 'hotel_lat': 48.86430452, 'hotel_lon': 2.33623432}, {'index': 5, 'id': 5, 'destination': 'Paris', 'clouds': 85.625, 'feels_like_day': 15.27375, 'feels_like_eve': 14.075, 'feels_like_morn': 11.445, 'feels_like_night': 12.63875, 'lat': 48.8588897, 'lon': 2.3200410217200766, 'pop': 0.665, 'rain': 1.83, 'weather_description': 'light rain', 'city': 'Paris', 'address': '\\n62, Boulevard De Picpus, 12th arr., 75012 Paris, France\\n', 'hotel_name': 'Le Petit Cosy Hôtel', 'url': 'https://www.booking.com/hotel/fr/cosy.en-gb.html?aid=304142&label=gen173bo-1DCAQoggJCDHNlYXJjaF9wYXJpc0gJWANoTYgBAZgBCbgBGMgBBdgBA-gBAfgBA4gCAZgCAqgC ... (122 characters truncated) ... _rooms=1&group_children=0&req_children=0&hpos=21&hapos=46&sr_order=popularity&srpvid=c6626aa4df17028f&srepoch=1666019402&from=searchresults#hotelTmpl', 'rating': 8.5, 'coordinates': '48.84466734,2.40243450', 'description': '<p>Just a 5-minute walk from Nation RER Station, Le Petit Cosy Hôtel offers a brasserie-style restaurant and free Wi-Fi throughout the property. It is just next to Picpus Metro Station and a 20-minute walk from the Bois de Vincennes.</p>', 'hotel_lat': 48.84466734, 'hotel_lon': 2.4024345}, {'index': 6, 'id': 5, 'destination': 'Paris', 'clouds': 85.625, 'feels_like_day': 15.27375, 'feels_like_eve': 14.075, 'feels_like_morn': 11.445, 'feels_like_night': 12.63875, 'lat': 48.8588897, 'lon': 2.3200410217200766, 'pop': 0.665, 'rain': 1.83, 'weather_description': 'light rain', 'city': 'Paris', 'address': '\\n116 Rue Ordener, 18th arr., 75018 Paris, France\\n', 'hotel_name': 'Prince Albert Montmartre', 'url': 'https://www.booking.com/hotel/fr/ha-tel-prince-montmartre.en-gb.html?aid=304142&label=gen173bo-1DCAQoggJCDHNlYXJjaF9wYXJpc0gJWANoTYgBAZgBCbgBGMgBBdgB ... (173 characters truncated) ... hildren=0&hpos=19&hapos=44&sr_order=popularity&srpvid=c6626aa4df17028f&srepoch=1666019402&from_sustainable_property_sr=1&from=searchresults#hotelTmpl', 'rating': 8.2, 'coordinates': '48.89326091,2.33981498', 'description': '<p>Located in the 18th arrondissement of Paris, a 15-minute walk from Sacré Coeur Basilica, Prince Albert Montmartre offers  rooms with free WiFi. Ju ... (9 characters truncated) ... in Metro Station is 350 m away and provides direct access to Saint-Lazare TGV Train Station, while the Stade de France is 5 km from the property.</p>', 'hotel_lat': 48.89326091, 'hotel_lon': 2.33981498}, {'index': 7, 'id': 5, 'destination': 'Paris', 'clouds': 85.625, 'feels_like_day': 15.27375, 'feels_like_eve': 14.075, 'feels_like_morn': 11.445, 'feels_like_night': 12.63875, 'lat': 48.8588897, 'lon': 2.3200410217200766, 'pop': 0.665, 'rain': 1.83, 'weather_description': 'light rain', 'city': 'Paris', 'address': '\\n112 boulevard de Sébastopol, 3rd arr., 75003 Paris, France\\n', 'hotel_name': 'Hotel Marais Grands Boulevards', 'url': 'https://www.booking.com/hotel/fr/bestwesternfranceeurope.en-gb.html?aid=304142&label=gen173bo-1DCAQoggJCDHNlYXJjaF9wYXJpc0gJWANoTYgBAZgBCbgBGMgBBdgBA ... (141 characters truncated) ... _rooms=1&group_children=0&req_children=0&hpos=17&hapos=42&sr_order=popularity&srpvid=c6626aa4df17028f&srepoch=1666019402&from=searchresults#hotelTmpl', 'rating': 8.0, 'coordinates': '48.86874551,2.35418022', 'description': '<p>Hotel Marais Grands Boulevards is ideally located in central Paris, 650 m from Place de Republique. It offers soundproofed rooms and some of them have a balcony with views over Grands Boulevards.</p>', 'hotel_lat': 48.86874551, 'hotel_lon': 2.35418022}  ... displaying 10 of 16324 total bound parameter sets ...  {'index': 16322, 'id': 33, 'destination': 'Bayonne', 'clouds': 75.375, 'feels_like_day': 17.735, 'feels_like_eve': 16.41875, 'feels_like_morn': 14.83125, 'feels_like_night': 15.445, 'lat': 43.4945144, 'lon': -1.4736657, 'pop': 0.91625, 'rain': 20.63125, 'weather_description': 'light rain, moderate rain', 'city': 'Bayonne', 'address': '\\n7 Rue Frédéric Bastiat, 64100 Bayonne, France\\n', 'hotel_name': 'Hôtel Villa KOEGUI Bayonne', 'url': 'https://www.booking.com/hotel/fr/villa-koegui-bayonne.en-gb.html?aid=304142&label=gen173nr-1FCAEoggI46AdIM1gEaE2IAQGYAQm4AQrIAQXYAQHoAQH4AQOIAgGoAgO4 ... (148 characters truncated) ... _children=0&hpos=3&hapos=3&sr_order=popularity&srpvid=22c66aa37e7f04be&srepoch=1666019401&from_sustainable_property_sr=1&from=searchresults#hotelTmpl', 'rating': 9.0, 'coordinates': '43.49237100,-1.47258800', 'description': '<p>Hôtel Villa KOEGUI Bayonne has a restaurant, fitness centre, a bar and shared lounge in Bayonne. This property also provides guests with a terrace. The accommodation offers a 24-hour front desk, room service and free WiFi throughout the property.</p>', 'hotel_lat': 43.492371, 'hotel_lon': -1.472588}, {'index': 16323, 'id': 33, 'destination': 'Bayonne', 'clouds': 75.375, 'feels_like_day': 17.735, 'feels_like_eve': 16.41875, 'feels_like_morn': 14.83125, 'feels_like_night': 15.445, 'lat': 43.4945144, 'lon': -1.4736657, 'pop': 0.91625, 'rain': 20.63125, 'weather_description': 'light rain, moderate rain', 'city': 'Bayonne', 'address': '\\n2 rue Maubec, 64100 Bayonne, France\\n', 'hotel_name': 'Hotel Cote Basque', 'url': 'https://www.booking.com/hotel/fr/cote-basque.en-gb.html?aid=304142&label=gen173nr-1FCAEoggI46AdIM1gEaE2IAQGYAQm4AQrIAQXYAQHoAQH4AQOIAgGoAgO4AsLgtZoGw ... (108 characters truncated) ... no_rooms=1&group_children=0&req_children=0&hpos=2&hapos=2&sr_order=popularity&srpvid=22c66aa37e7f04be&srepoch=1666019401&from=searchresults#hotelTmpl', 'rating': 7.8, 'coordinates': '43.49618306,-1.46960109', 'description': '<p>You\\'re eligible for a Genius discount at Hotel Cote Basque! To save at this property, all you have to do is <a href=\"https://account.booking.com/ ... (901 characters truncated) ... p%3Doauth_return&amp;bkng_action=hotel&amp;dt=1666022529&amp;response_type=code&amp;client_id=vO1Kblk7xX9tUn2cpZLS\" class=\"bui-link\">sign in</a>.</p>', 'hotel_lat': 43.49618306, 'hotel_lon': -1.46960109})\n",
      "2022-10-19 14:09:09,363 INFO sqlalchemy.engine.Engine COMMIT\n"
     ]
    }
   ],
   "source": [
    "# push my dataframe to the sql database\n",
    "df_final.to_sql(\n",
    "    \"booking_hotel_table\",\n",
    "    engine\n",
    ")"
   ]
  },
  {
   "cell_type": "code",
   "execution_count": 72,
   "metadata": {},
   "outputs": [
    {
     "name": "stdout",
     "output_type": "stream",
     "text": [
      "2022-10-19 14:16:08,205 INFO sqlalchemy.engine.Engine SELECT * FROM booking_hotel_table WHERE city = 'Riez' \n",
      "2022-10-19 14:16:08,206 INFO sqlalchemy.engine.Engine [generated in 0.00071s] {}\n"
     ]
    },
    {
     "data": {
      "text/plain": [
       "[(5795, 17, 'Gorges du Verdon', 85.0, 14.08625, 10.43875, 7.03125, 8.66125, 43.7496562, 6.3285616, 0.31625000000000003, 3.7474999999999996, 'light rain', 'Riez', '\\n37 Allée Louis Gardiol, 04500 Riez, France\\n', 'Très beau appartement au centre historique de Riez', 'https://www.booking.com/hotel/fr/tres-beau-appartement-au-centre-historique-de-riez.en-gb.html?aid=304142&label=gen173bo-1DCAQoggJCF3NlYXJjaF9nb3JnZX ... (184 characters truncated) ... rooms=1&group_children=0&req_children=0&hpos=17&hapos=167&sr_order=popularity&srpvid=289f7686b2d20149&srepoch=1666025485&from=searchresults#hotelTmpl', 9.0, '43.81777265,6.09064542', '<p>Très beau appartement au centre historique de Riez is situated in Riez, 37 km from ITER / Cadarache, 35 km from Digne Golf Course, as well as 42 km from Golf du Luberon. Featuring city and mountain views, this apartment also comes with free WiFi.</p>', 43.81777265, 6.09064542),\n",
       " (5815, 17, 'Gorges du Verdon', 85.0, 14.08625, 10.43875, 7.03125, 8.66125, 43.7496562, 6.3285616, 0.31625000000000003, 3.7474999999999996, 'light rain', 'Riez', '\\n7260 Route de Roumoules, 04500 Riez, France\\n', 'La Cigale du Désire', 'https://www.booking.com/hotel/fr/la-cigale-du-desire.en-gb.html?aid=304142&label=gen173bo-1DCAQoggJCF3NlYXJjaF9nb3JnZXMgZHUgdmVyZG9uSAlYA2hNiAEBmAEJu ... (153 characters truncated) ... rooms=1&group_children=0&req_children=0&hpos=24&hapos=224&sr_order=popularity&srpvid=6833768bfaad047b&srepoch=1666025495&from=searchresults#hotelTmpl', 6.8, '43.81922600,6.10867850', \"<p>Situated in Riez in the Provence-Alpes-Côte d'Azur region with Riez nearby, La Cigale du Désire features accommodation with free private parking.</p>\", 43.819226, 6.1086785),\n",
       " (5827, 17, 'Gorges du Verdon', 85.0, 14.08625, 10.43875, 7.03125, 8.66125, 43.7496562, 6.3285616, 0.31625000000000003, 3.7474999999999996, 'light rain', 'Riez', '\\nRoute De Valensole, 04500 Riez, France\\n', 'Les Gites De La Gassende', 'https://www.booking.com/hotel/fr/les-gites-de-la-gassende.en-gb.html?aid=304142&label=gen173bo-1DCAQoggJCF3NlYXJjaF9nb3JnZXMgZHUgdmVyZG9uSAlYA2hNiAEB ... (158 characters truncated) ... rooms=1&group_children=0&req_children=0&hpos=24&hapos=249&sr_order=popularity&srpvid=2b17768d9dbd0056&srepoch=1666025500&from=searchresults#hotelTmpl', 9.4, '43.82894800,6.06024475', \"<p>Located in Riez in the Provence-Alpes-Côte d'Azur region and ITER / Cadarache reachable within 46 km, Les Gites De La Gassende provides accommodation with free WiFi, BBQ facilities, a garden and free private parking.</p>\", 43.828948, 6.06024475),\n",
       " (5838, 17, 'Gorges du Verdon', 85.0, 14.08625, 10.43875, 7.03125, 8.66125, 43.7496562, 6.3285616, 0.31625000000000003, 3.7474999999999996, 'light rain', 'Riez', '\\nRue Basse, 04500 Riez, France\\n', 'Verdon Location', 'https://www.booking.com/hotel/fr/verdon-location.en-gb.html?aid=304142&label=gen173bo-1DCAQoggJCF3NlYXJjaF9nb3JnZXMgZHUgdmVyZG9uSAlYA2hNiAEBmAEJuAEYy ... (149 characters truncated) ... rooms=1&group_children=0&req_children=0&hpos=26&hapos=276&sr_order=popularity&srpvid=b0a9768f01d40118&srepoch=1666025504&from=searchresults#hotelTmpl', 5.7, '43.81777597,6.09259403', '<p>Set 37 km from ITER / Cadarache and 35 km from Digne Golf Course in Riez, Verdon Location offers accommodation with a kitchen. This apartment is 3.4 km from Roumoules and 5.3 km from Montagnac.</p>', 43.81777597, 6.09259403),\n",
       " (5856, 17, 'Gorges du Verdon', 85.0, 14.08625, 10.43875, 7.03125, 8.66125, 43.7496562, 6.3285616, 0.31625000000000003, 3.7474999999999996, 'light rain', 'Riez', \"\\nM25, 1er étage 4 Rue de l'Ancien Hôtel de ville, 04500 Riez, France\\n\", 'Lëy-H appart', 'https://www.booking.com/hotel/fr/ley-h-appart.en-gb.html?aid=304142&label=gen173bo-1DCAQoggJCF3NlYXJjaF9nb3JnZXMgZHUgdmVyZG9uSAlYA2hNiAEBmAEJuAEYyAEF ... (146 characters truncated) ... rooms=1&group_children=0&req_children=0&hpos=19&hapos=294&sr_order=popularity&srpvid=e6517692651e03ed&srepoch=1666025510&from=searchresults#hotelTmpl', 10.0, '43.81767505,6.09342828', '<p>Located in Riez, 38 km from ITER / Cadarache and 35 km from Digne Golf Course, Lëy-H appart provides accommodation with amenities such as free WiFi and a flat-screen TV. The property is 3.3 km from Roumoules and 5.2 km from Montagnac.</p>', 43.81767505, 6.09342828),\n",
       " (5859, 17, 'Gorges du Verdon', 85.0, 14.08625, 10.43875, 7.03125, 8.66125, 43.7496562, 6.3285616, 0.31625000000000003, 3.7474999999999996, 'light rain', 'Riez', '\\nRoute de valensole, 04500 Riez, France\\n', 'Gites Bastide du Rousset', 'https://www.booking.com/hotel/fr/gite-2-bastide-du-rousset.en-gb.html?aid=304142&label=gen173bo-1DCAQoggJCF3NlYXJjaF9nb3JnZXMgZHUgdmVyZG9uSAlYA2hNiAE ... (159 characters truncated) ... rooms=1&group_children=0&req_children=0&hpos=22&hapos=297&sr_order=popularity&srpvid=e6517692651e03ed&srepoch=1666025510&from=searchresults#hotelTmpl', 9.5, '43.81654700,6.06926800', '<p>Located in Riez and only 36 km from ITER / Cadarache, Gites Bastide du Rousset provides accommodation with pool views, free WiFi and free private parking. The property features garden views and is 36 km from Digne Golf Course and 40 km from Golf du Luberon.</p>', 43.816547, 6.069268),\n",
       " (5864, 17, 'Gorges du Verdon', 85.0, 14.08625, 10.43875, 7.03125, 8.66125, 43.7496562, 6.3285616, 0.31625000000000003, 3.7474999999999996, 'light rain', 'Riez', '\\nRue du Fbg Saint-Sébastien, 04500 Riez, France\\n', 'Charming home in Provence - 6 pers.', 'https://www.booking.com/hotel/fr/charming-home-in-provence-6-pers.en-gb.html?aid=304142&label=gen173bo-1DCAQoggJCF3NlYXJjaF9nb3JnZXMgZHUgdmVyZG9uSAlY ... (166 characters truncated) ... rooms=1&group_children=0&req_children=0&hpos=24&hapos=324&sr_order=popularity&srpvid=e6ba769464480402&srepoch=1666025515&from=searchresults#hotelTmpl', 7.5, '43.81962641,6.09152765', '<p>Charming home in Provence - 6 pers., a property with a terrace, is located in Riez, 37 km from ITER / Cadarache, 35 km from Digne Golf Course, as well as 42 km from Golf du Luberon. This holiday home is 5.6 km from Montagnac and 6.6 km from Puimoisson.</p>', 43.81962641, 6.09152765),\n",
       " (5866, 17, 'Gorges du Verdon', 85.0, 14.08625, 10.43875, 7.03125, 8.66125, 43.7496562, 6.3285616, 0.31625000000000003, 3.7474999999999996, 'light rain', 'Riez', '\\n2ème étage Allée Louis Gardiol, 04500 Riez, France\\n', 'ic locations', 'https://www.booking.com/hotel/fr/ic-locations.en-gb.html?aid=304142&label=gen173bo-1DCAQoggJCF3NlYXJjaF9nb3JnZXMgZHUgdmVyZG9uSAlYA2hNiAEBmAEJuAEYyAEF ... (146 characters truncated) ... rooms=1&group_children=0&req_children=0&hpos=21&hapos=321&sr_order=popularity&srpvid=e6ba769464480402&srepoch=1666025515&from=searchresults#hotelTmpl', 8.4, '43.81735900,6.09222700', '<p>Ic locations is located in Riez. Complimentary WiFi is available.</p>', 43.817359, 6.092227),\n",
       " (5876, 17, 'Gorges du Verdon', 85.0, 14.08625, 10.43875, 7.03125, 8.66125, 43.7496562, 6.3285616, 0.31625000000000003, 3.7474999999999996, 'light rain', 'Riez', '\\nLa Rouguière, 04500 Riez, France\\n', 'Lou Souleu', 'https://www.booking.com/hotel/fr/lou-souleu-riez.en-gb.html?aid=304142&label=gen173bo-1DCAQoggJCF3NlYXJjaF9nb3JnZXMgZHUgdmVyZG9uSAlYA2hNiAEBmAEJuAEYy ... (149 characters truncated) ... rooms=1&group_children=0&req_children=0&hpos=26&hapos=351&sr_order=popularity&srpvid=970a7697d8480007&srepoch=1666025520&from=searchresults#hotelTmpl', 8.5, '43.81738690,6.09334400', '<p>Boasting garden views, Lou Souleu offers accommodation with a terrace and a kettle, around 38 km from ITER / Cadarache. This apartment features a garden, barbecue facilities, free WiFi and free private parking.</p>', 43.8173869, 6.093344),\n",
       " (5886, 17, 'Gorges du Verdon', 85.0, 14.08625, 10.43875, 7.03125, 8.66125, 43.7496562, 6.3285616, 0.31625000000000003, 3.7474999999999996, 'light rain', 'Riez', '\\nRoute de Valensole, 04500 Riez, France\\n', 'VILLA PRAYON', 'https://www.booking.com/hotel/fr/villa-prayon-riez.en-gb.html?aid=304142&label=gen173bo-1DCAQoggJCF3NlYXJjaF9nb3JnZXMgZHUgdmVyZG9uSAlYA2hNiAEBmAEJuAE ... (181 characters truncated) ... hildren=0&hpos=7&hapos=332&sr_order=popularity&srpvid=970a7697d8480007&srepoch=1666025520&from_sustainable_property_sr=1&from=searchresults#hotelTmpl', 9.6, '43.81600210,6.07039751', '<p>Offering a seasonal outdoor swimming pool and garden view, VILLA PRAYON is set in Riez, 36 km from ITER / Cadarache and 36 km from Digne Golf Course. This apartment has a private pool, a garden and free private parking.</p>', 43.8160021, 6.07039751),\n",
       " (5941, 17, 'Gorges du Verdon', 85.0, 14.08625, 10.43875, 7.03125, 8.66125, 43.7496562, 6.3285616, 0.31625000000000003, 3.7474999999999996, 'light rain', 'Riez', '\\n12, Place Saint Antoine, 04500 Riez, France\\n', 'Le \"M\" Maison d hôtes', 'https://www.booking.com/hotel/fr/le-quot-m-quot-maison-d-hotes.en-gb.html?aid=304142&label=gen173bo-1DCAQoggJCF3NlYXJjaF9nb3JnZXMgZHUgdmVyZG9uSAlYA2h ... (163 characters truncated) ... rooms=1&group_children=0&req_children=0&hpos=12&hapos=187&sr_order=popularity&srpvid=40b37688706e02d3&srepoch=1666025490&from=searchresults#hotelTmpl', 9.0, '43.81765800,6.09318100', '<p>Housed in a 17th-century building,Le \"M\" Maison d hôtes features accommodation in the centre of Riez. Free WiFi is provided.</p>', 43.817658, 6.093181),\n",
       " (5930, 17, 'Gorges du Verdon', 85.0, 14.08625, 10.43875, 7.03125, 8.66125, 43.7496562, 6.3285616, 0.31625000000000003, 3.7474999999999996, 'light rain', 'Riez', '\\nBat. Le Café, Allée Louis Gardiol, 04500 Riez, France\\n', 'Le Mini Louison du Verdon', 'https://www.booking.com/hotel/fr/le-mini-louison-du-verdon.en-gb.html?aid=304142&label=gen173bo-1DCAQoggJCF3NlYXJjaF9nb3JnZXMgZHUgdmVyZG9uSAlYA2hNiAE ... (159 characters truncated) ... rooms=1&group_children=0&req_children=0&hpos=10&hapos=210&sr_order=popularity&srpvid=6833768bfaad047b&srepoch=1666025495&from=searchresults#hotelTmpl', 7.8, '43.81735810,6.09155870', '<p>Located in Riez and only 37 km from ITER / Cadarache, Le Mini Louison du Verdon provides accommodation with garden views, free WiFi and free private parking. The apartment, set in a building dating from 1960, is 200 m from Riez and 3.5 km from Roumoules.</p>', 43.8173581, 6.0915587),\n",
       " (5934, 17, 'Gorges du Verdon', 85.0, 14.08625, 10.43875, 7.03125, 8.66125, 43.7496562, 6.3285616, 0.31625000000000003, 3.7474999999999996, 'light rain', 'Riez', '\\nRoute de Roumoules, 04500 Riez, France\\n', 'Clos Augusta 3', 'https://www.booking.com/hotel/fr/clos-augusta-3.en-gb.html?aid=304142&label=gen173bo-1DCAQoggJCF3NlYXJjaF9nb3JnZXMgZHUgdmVyZG9uSAlYA2hNiAEBmAEJuAEYyA ... (178 characters truncated) ... hildren=0&hpos=8&hapos=208&sr_order=popularity&srpvid=6833768bfaad047b&srepoch=1666025495&from_sustainable_property_sr=1&from=searchresults#hotelTmpl', 8.2, '43.81792587,6.09619295', '<p>Clos Augusta 3, a property with a garden, is located in Riez, 38 km from ITER / Cadarache, 35 km from Digne Golf Course, as well as 42 km from Golf du Luberon. Featuring free private parking, the holiday home is in an area where guests can engage in activities such as hiking and fishing.</p>', 43.81792587, 6.09619295),\n",
       " (5945, 17, 'Gorges du Verdon', 85.0, 14.08625, 10.43875, 7.03125, 8.66125, 43.7496562, 6.3285616, 0.31625000000000003, 3.7474999999999996, 'light rain', 'Riez', '\\n33 Gr Grand Rue, 04500 Riez, France\\n', 'Studio Riez centre', 'https://www.booking.com/hotel/fr/studio-riez-centre.en-gb.html?aid=304142&label=gen173bo-1DCAQoggJCF3NlYXJjaF9nb3JnZXMgZHUgdmVyZG9uSAlYA2hNiAEBmAEJuA ... (151 characters truncated) ... _rooms=1&group_children=0&req_children=0&hpos=9&hapos=184&sr_order=popularity&srpvid=40b37688706e02d3&srepoch=1666025490&from=searchresults#hotelTmpl', 7.7, '43.81856150,6.09132640', '<p>Studio Riez centre is situated in Riez, 37 km from ITER / Cadarache, 35 km from Digne Golf Course, as well as 42 km from Golf du Luberon. The property is 5.4 km from Montagnac and 7.1 km from Puimoisson.</p>', 43.8185615, 6.0913264),\n",
       " (5955, 17, 'Gorges du Verdon', 85.0, 14.08625, 10.43875, 7.03125, 8.66125, 43.7496562, 6.3285616, 0.31625000000000003, 3.7474999999999996, 'light rain', 'Riez', '\\nChemin du Revesca, 04500 Riez, France\\n', 'Mas des Lavandes', 'https://www.booking.com/hotel/fr/mas-des-lavandes.en-gb.html?aid=304142&label=gen173bo-1DCAQoggJCF3NlYXJjaF9nb3JnZXMgZHUgdmVyZG9uSAlYA2hNiAEBmAEJuAEY ... (180 characters truncated) ... hildren=0&hpos=9&hapos=159&sr_order=popularity&srpvid=289f7686b2d20149&srepoch=1666025485&from_sustainable_property_sr=1&from=searchresults#hotelTmpl', 9.0, '43.81484293,6.09714015', '<p>Boasting sea views, Mas des Lavandes provides accommodation with a balcony and a kettle, around 38 km from ITER / Cadarache. This holiday home offers free private parking, a 24-hour front desk and free WiFi.</p>', 43.81484293, 6.09714015),\n",
       " (5995, 17, 'Gorges du Verdon', 85.0, 14.08625, 10.43875, 7.03125, 8.66125, 43.7496562, 6.3285616, 0.31625000000000003, 3.7474999999999996, 'light rain', 'Riez', '\\n8 Rue des Tanneurs, 04500 Riez, France\\n', 'la métairie de Martine', 'https://www.booking.com/hotel/fr/la-metairie-de-martine.en-gb.html?aid=304142&label=gen173bo-1DCAQoggJCF3NlYXJjaF9nb3JnZXMgZHUgdmVyZG9uSAlYA2hNiAEBmA ... (155 characters truncated) ... _rooms=1&group_children=0&req_children=0&hpos=9&hapos=109&sr_order=popularity&srpvid=bab47680a08504a9&srepoch=1666025474&from=searchresults#hotelTmpl', 8.9, '43.81941440,6.09101950', '<p>You\\'re eligible for a Genius discount at la métairie de Martine! To save at this property, all you have to do is <a href=\"https://account.booking ... (968 characters truncated) ... mp;redirect_uri=https%3A%2F%2Fsecure.booking.com%2Flogin.html%3Fop%3Doauth_return&amp;lang=en-gb&amp;dt=1666026007\" class=\"bui-link\">sign in</a>.</p>', 43.8194144, 6.0910195),\n",
       " (5998, 17, 'Gorges du Verdon', 85.0, 14.08625, 10.43875, 7.03125, 8.66125, 43.7496562, 6.3285616, 0.31625000000000003, 3.7474999999999996, 'light rain', 'Riez', '\\n18 Allée Louis Gardiol, 04500 Riez, France\\n', 'Loc Alp Verdon', 'https://www.booking.com/hotel/fr/loc-alp-verdon.en-gb.html?aid=304142&label=gen173bo-1DCAQoggJCF3NlYXJjaF9nb3JnZXMgZHUgdmVyZG9uSAlYA2hNiAEBmAEJuAEYyA ... (148 characters truncated) ... rooms=1&group_children=0&req_children=0&hpos=25&hapos=100&sr_order=popularity&srpvid=276e767ef02a00e8&srepoch=1666025470&from=searchresults#hotelTmpl', 7.4, '43.81737227,6.09236278', '<p>Located 37 km from ITER / Cadarache and 35 km from Digne Golf Course, Loc Alp Verdon provides accommodation in Riez.</p>', 43.81737227, 6.09236278),\n",
       " (6007, 17, 'Gorges du Verdon', 85.0, 14.08625, 10.43875, 7.03125, 8.66125, 43.7496562, 6.3285616, 0.31625000000000003, 3.7474999999999996, 'light rain', 'Riez', '\\n6 Rue Basse, 04500 Riez, France\\n', 'Studio au cœur du village provençale de Riez. Dans le Verdon.', 'https://www.booking.com/hotel/fr/studio-au-coeur-du-village-provencale-de-riez-dans-le-verdon.en-gb.html?aid=304142&label=gen173bo-1DCAQoggJCF3NlYXJj ... (193 characters truncated) ... _rooms=1&group_children=0&req_children=0&hpos=16&hapos=91&sr_order=popularity&srpvid=276e767ef02a00e8&srepoch=1666025470&from=searchresults#hotelTmpl', 7.1, '43.81775629,6.09258893', '<p>Located in Riez, Studio au cœur du village provençale de Riez. Dans le Verdon. Provides accommodation 37 km from ITER / Cadarache and 35 km from Digne Golf Course.</p>', 43.81775629, 6.09258893),\n",
       " (6012, 17, 'Gorges du Verdon', 85.0, 14.08625, 10.43875, 7.03125, 8.66125, 43.7496562, 6.3285616, 0.31625000000000003, 3.7474999999999996, 'light rain', 'Riez', '\\n16 Rue du Marché, 04500 Riez, France\\n', 'CHEZ JOSE', 'https://www.booking.com/hotel/fr/chez-jose.en-gb.html?aid=304142&label=gen173bo-1DCAQoggJCF3NlYXJjaF9nb3JnZXMgZHUgdmVyZG9uSAlYA2hNiAEBmAEJuAEYyAEF2AE ... (141 characters truncated) ... o_rooms=1&group_children=0&req_children=0&hpos=9&hapos=84&sr_order=popularity&srpvid=276e767ef02a00e8&srepoch=1666025470&from=searchresults#hotelTmpl', 7.7, '43.81776759,6.09203652', '<p>Located 37 km from ITER / Cadarache, 35 km from Digne Golf Course and 42 km from Golf du Luberon, CHEZ JOSE provides accommodation set in Riez. This apartment is 5.3 km from Montagnac and 7.1 km from Puimoisson.</p>', 43.81776759, 6.09203652),\n",
       " (6068, 17, 'Gorges du Verdon', 85.0, 14.08625, 10.43875, 7.03125, 8.66125, 43.7496562, 6.3285616, 0.31625000000000003, 3.7474999999999996, 'light rain', 'Riez', '\\nRue Hilarion Bourret, 04500 Riez, France\\n', 'Hôtel Les Deux Lions', 'https://www.booking.com/hotel/fr/ha-tel-les-deux-lions.en-gb.html?aid=304142&label=gen173bo-1DCAQoggJCF3NlYXJjaF9nb3JnZXMgZHUgdmVyZG9uSAlYA2hNiAEBmAE ... (153 characters truncated) ... o_rooms=1&group_children=0&req_children=0&hpos=8&hapos=33&sr_order=popularity&srpvid=fa6a76794d8102f9&srepoch=1666025460&from=searchresults#hotelTmpl', 7.9, '43.81530926,6.09147906', '<p>Situated in Riez, 8 km from Lake of Sainte-Croix, Hôtel Les Deux Lions offers rooms overlooking the village or the hill. Free WiFi is provided.</p>', 43.81530926, 6.09147906),\n",
       " (6069, 17, 'Gorges du Verdon', 85.0, 14.08625, 10.43875, 7.03125, 8.66125, 43.7496562, 6.3285616, 0.31625000000000003, 3.7474999999999996, 'light rain', 'Riez', '\\nQuartier des Capuçins, 04500 Riez, France\\n', 'Clos Augusta 2', 'https://www.booking.com/hotel/fr/clos-augusta-2.en-gb.html?aid=304142&label=gen173bo-1DCAQoggJCF3NlYXJjaF9nb3JnZXMgZHUgdmVyZG9uSAlYA2hNiAEBmAEJuAEYyA ... (146 characters truncated) ... o_rooms=1&group_children=0&req_children=0&hpos=1&hapos=26&sr_order=popularity&srpvid=fa6a76794d8102f9&srepoch=1666025460&from=searchresults#hotelTmpl', 8.4, '43.81792579,6.09625897', '<p>You\\'re eligible for a Genius discount at Clos Augusta 2! To save at this property, all you have to do is <a href=\"https://account.booking.com/aut ... (948 characters truncated) ... vNqrYNC5lL97iu7_&amp;redirect_uri=https%3A%2F%2Fsecure.booking.com%2Flogin.html%3Fop%3Doauth_return&amp;aid=304142\" class=\"bui-link\">sign in</a>.</p>', 43.81792579, 6.09625897),\n",
       " (6079, 17, 'Gorges du Verdon', 85.0, 14.08625, 10.43875, 7.03125, 8.66125, 43.7496562, 6.3285616, 0.31625000000000003, 3.7474999999999996, 'light rain', 'Riez', '\\nQuartier les capucins, 04500 Riez, France\\n', 'Clos Augusta', 'https://www.booking.com/hotel/fr/clos-augusta.en-gb.html?aid=304142&label=gen173nr-1FCAEoggI46AdIM1gEaE2IAQGYAQm4AQrIAQXYAQHoAQH4AQOIAgGoAgO4AsLgtZoG ... (111 characters truncated) ... _rooms=1&group_children=0&req_children=0&hpos=22&hapos=22&sr_order=popularity&srpvid=acbd76776c2b026b&srepoch=1666025455&from=searchresults#hotelTmpl', 8.6, '43.81755696,6.09606973', '<p>You\\'re eligible for a Genius discount at Clos Augusta! To save at this property, all you have to do is <a href=\"https://account.booking.com/auth/ ... (900 characters truncated) ... %2F%2Fsecure.booking.com%2Flogin.html%3Fop%3Doauth_return&amp;bkng_action=hotel&amp;client_id=vO1Kblk7xX9tUn2cpZLS\" class=\"bui-link\">sign in</a>.</p>', 43.81755696, 6.09606973)]"
      ]
     },
     "execution_count": 72,
     "metadata": {},
     "output_type": "execute_result"
    }
   ],
   "source": [
    "# Let's query it\n",
    "conn = engine.connect()\n",
    "stmt = text(\"SELECT * FROM booking_hotel_table WHERE city = 'Riez'\")\n",
    "result = conn.execute(stmt)\n",
    "result.fetchall()"
   ]
  }
 ],
 "metadata": {
  "kernelspec": {
   "display_name": "Python 3.10.0 64-bit",
   "language": "python",
   "name": "python3"
  },
  "language_info": {
   "codemirror_mode": {
    "name": "ipython",
    "version": 3
   },
   "file_extension": ".py",
   "mimetype": "text/x-python",
   "name": "python",
   "nbconvert_exporter": "python",
   "pygments_lexer": "ipython3",
   "version": "3.10.0"
  },
  "orig_nbformat": 4,
  "vscode": {
   "interpreter": {
    "hash": "6b23b447ae8d7dd20d4fc812b5289c3091e759321a9b689f6e1bbc2b9587a95b"
   }
  }
 },
 "nbformat": 4,
 "nbformat_minor": 2
}
