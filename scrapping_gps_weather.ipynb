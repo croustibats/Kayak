{
 "cells": [
  {
   "cell_type": "code",
   "execution_count": 40,
   "metadata": {},
   "outputs": [],
   "source": [
    "import requests as r\n",
    "import json\n",
    "import pandas as pd"
   ]
  },
  {
   "cell_type": "code",
   "execution_count": 42,
   "metadata": {},
   "outputs": [],
   "source": [
    "city_list = [\"Mont Saint Michel\",\n",
    "\"St Malo\",\n",
    "\"Bayeux\",\n",
    "\"Le Havre\",\n",
    "\"Rouen\",\n",
    "\"Paris\",\n",
    "\"Amiens\",\n",
    "\"Lille\",\n",
    "\"Strasbourg\",\n",
    "\"Chateau du Haut Koenigsbourg\",\n",
    "\"Colmar\",\n",
    "\"Eguisheim\",\n",
    "\"Besancon\",\n",
    "\"Dijon\",\n",
    "\"Annecy\",\n",
    "\"Grenoble\",\n",
    "\"Lyon\",\n",
    "\"Gorges du Verdon\",\n",
    "\"Bormes les Mimosas\",\n",
    "\"Cassis\",\n",
    "\"Marseille\",\n",
    "\"Aix en Provence\",\n",
    "\"Avignon\",\n",
    "\"Uzes\",\n",
    "\"Nimes\",\n",
    "\"Aigues Mortes\",\n",
    "\"Saintes Maries de la mer\",\n",
    "\"Collioure\",\n",
    "\"Carcassonne\",\n",
    "\"Ariege\",\n",
    "\"Toulouse\",\n",
    "\"Montauban\",\n",
    "\"Biarritz\",\n",
    "\"Bayonne\",\n",
    "\"La Rochelle\"]"
   ]
  },
  {
   "cell_type": "markdown",
   "metadata": {},
   "source": [
    "Recup des coordonnées du top 35 des villes de France"
   ]
  },
  {
   "cell_type": "code",
   "execution_count": 43,
   "metadata": {},
   "outputs": [],
   "source": [
    "base_endpoint = 'https://nominatim.openstreetmap.org/search?'"
   ]
  },
  {
   "cell_type": "code",
   "execution_count": 45,
   "metadata": {},
   "outputs": [
    {
     "data": {
      "text/plain": [
       "200"
      ]
     },
     "execution_count": 45,
     "metadata": {},
     "output_type": "execute_result"
    }
   ],
   "source": [
    "params = {'q': 'Gorges du Verdon', 'format': 'json'}\n",
    "response = r.get(base_endpoint, params= params)\n",
    "response.status_code"
   ]
  },
  {
   "cell_type": "code",
   "execution_count": 46,
   "metadata": {},
   "outputs": [
    {
     "data": {
      "text/plain": [
       "True"
      ]
     },
     "execution_count": 46,
     "metadata": {},
     "output_type": "execute_result"
    }
   ],
   "source": [
    "'france' in response.json()[0]['display_name'].lower()"
   ]
  },
  {
   "cell_type": "code",
   "execution_count": 47,
   "metadata": {},
   "outputs": [
    {
     "name": "stdout",
     "output_type": "stream",
     "text": [
      "Gorges du Verdon, Route des Crêtes, Les Ferrailles, La Palud-sur-Verdon, Castellane, Alpes-de-Haute-Provence, Provence-Alpes-Côte d'Azur, France métropolitaine, 04120, France\n",
      "Gorges du Verdon, Route des Gorges du Verdon, Castellane, Alpes-de-Haute-Provence, Provence-Alpes-Côte d'Azur, France métropolitaine, 04120, France\n",
      "Gorges du Verdon, Chemin de la Mescla, La Palud-sur-Verdon, Castellane, Alpes-de-Haute-Provence, Provence-Alpes-Côte d'Azur, France métropolitaine, 04120, France\n",
      "Gorges du verdon, Distrito Ciudad de Malargüe, Departamento Malargüe, Mendoza, Argentina\n"
     ]
    }
   ],
   "source": [
    "for elem in response.json():\n",
    "    print(elem['display_name'])"
   ]
  },
  {
   "cell_type": "code",
   "execution_count": 48,
   "metadata": {},
   "outputs": [
    {
     "name": "stdout",
     "output_type": "stream",
     "text": [
      "Gorges du Verdon, Route des Crêtes, Les Ferrailles, La Palud-sur-Verdon, Castellane, Alpes-de-Haute-Provence, Provence-Alpes-Côte d'Azur, France métropolitaine, 04120, France\n"
     ]
    }
   ],
   "source": [
    "for city in response.json():\n",
    "    if 'france' in city['display_name'].lower():\n",
    "        print(city['display_name'])\n",
    "        break"
   ]
  },
  {
   "cell_type": "code",
   "execution_count": 49,
   "metadata": {},
   "outputs": [
    {
     "name": "stdout",
     "output_type": "stream",
     "text": [
      "0 request completed\n",
      "1 request completed\n",
      "2 request completed\n",
      "3 request completed\n",
      "4 request completed\n",
      "5 request completed\n",
      "6 request completed\n",
      "7 request completed\n",
      "8 request completed\n",
      "9 request completed\n",
      "10 request completed\n",
      "11 request completed\n",
      "12 request completed\n",
      "13 request completed\n",
      "14 request completed\n",
      "15 request completed\n",
      "16 request completed\n",
      "17 request completed\n",
      "18 request completed\n",
      "19 request completed\n",
      "20 request completed\n",
      "21 request completed\n",
      "22 request completed\n",
      "23 request completed\n",
      "24 request completed\n",
      "25 request completed\n",
      "26 request completed\n",
      "27 request completed\n",
      "28 request completed\n",
      "29 request completed\n",
      "30 request completed\n",
      "31 request completed\n",
      "32 request completed\n",
      "33 request completed\n",
      "34 request completed\n"
     ]
    }
   ],
   "source": [
    "coordinate_list = []\n",
    "\n",
    "for i, city in enumerate(city_list):\n",
    "    params = {'q': city, 'format': 'json'}\n",
    "    response = r.get(base_endpoint, params= params)\n",
    "\n",
    "    for search_result in response.json():\n",
    "        if 'france' in search_result['display_name'].lower():\n",
    "            coordinate_list.append((city, search_result['lat'],search_result['lon']))\n",
    "            print(f'{i} request completed')\n",
    "            break"
   ]
  },
  {
   "cell_type": "code",
   "execution_count": 50,
   "metadata": {},
   "outputs": [
    {
     "data": {
      "text/plain": [
       "35"
      ]
     },
     "execution_count": 50,
     "metadata": {},
     "output_type": "execute_result"
    }
   ],
   "source": [
    "len(coordinate_list)"
   ]
  },
  {
   "cell_type": "code",
   "execution_count": 51,
   "metadata": {},
   "outputs": [
    {
     "data": {
      "text/plain": [
       "35"
      ]
     },
     "execution_count": 51,
     "metadata": {},
     "output_type": "execute_result"
    }
   ],
   "source": [
    "len(city_list)"
   ]
  },
  {
   "cell_type": "code",
   "execution_count": 53,
   "metadata": {},
   "outputs": [
    {
     "data": {
      "text/plain": [
       "'Ariege'"
      ]
     },
     "execution_count": 53,
     "metadata": {},
     "output_type": "execute_result"
    }
   ],
   "source": [
    "city_list[29]"
   ]
  },
  {
   "cell_type": "code",
   "execution_count": 71,
   "metadata": {},
   "outputs": [
    {
     "data": {
      "text/plain": [
       "[('Mont Saint Michel', '48.6359541', '-1.511459954959514'),\n",
       " ('St Malo', '48.649518', '-2.0260409'),\n",
       " ('Bayeux', '49.2764624', '-0.7024738'),\n",
       " ('Le Havre', '49.4938975', '0.1079732'),\n",
       " ('Rouen', '49.4404591', '1.0939658'),\n",
       " ('Paris', '48.8588897', '2.3200410217200766'),\n",
       " ('Amiens', '49.8941708', '2.2956951'),\n",
       " ('Lille', '50.6365654', '3.0635282'),\n",
       " ('Strasbourg', '48.584614', '7.7507127'),\n",
       " ('Chateau du Haut Koenigsbourg', '48.249489800000006', '7.34429620253195'),\n",
       " ('Colmar', '48.0777517', '7.3579641'),\n",
       " ('Eguisheim', '48.0447968', '7.3079618'),\n",
       " ('Besancon', '47.2380222', '6.0243622'),\n",
       " ('Dijon', '47.3215806', '5.0414701'),\n",
       " ('Annecy', '45.8992348', '6.1288847'),\n",
       " ('Grenoble', '45.1875602', '5.7357819'),\n",
       " ('Lyon', '45.7578137', '4.8320114'),\n",
       " ('Gorges du Verdon', '43.7496562', '6.3285616'),\n",
       " ('Bormes les Mimosas', '43.1572172', '6.329253867921363'),\n",
       " ('Cassis', '43.2140359', '5.5396318'),\n",
       " ('Marseille', '43.2961743', '5.3699525'),\n",
       " ('Aix en Provence', '43.5298424', '5.4474738'),\n",
       " ('Avignon', '43.9492493', '4.8059012'),\n",
       " ('Uzes', '44.0121279', '4.4196718'),\n",
       " ('Nimes', '43.8374249', '4.3600687'),\n",
       " ('Aigues Mortes', '43.5658225', '4.1912837'),\n",
       " ('Saintes Maries de la mer', '43.4522771', '4.4287172'),\n",
       " ('Collioure', '42.52505', '3.0831554'),\n",
       " ('Carcassonne', '43.2130358', '2.3491069'),\n",
       " ('Ariege', '42.9455368', '1.4065544156065486'),\n",
       " ('Toulouse', '43.6044622', '1.4442469'),\n",
       " ('Montauban', '44.0175835', '1.3549991'),\n",
       " ('Biarritz', '43.4832523', '-1.5592776'),\n",
       " ('Bayonne', '43.4933379', '-1.475099'),\n",
       " ('La Rochelle', '46.1591126', '-1.1520434')]"
      ]
     },
     "execution_count": 71,
     "metadata": {},
     "output_type": "execute_result"
    }
   ],
   "source": [
    "coordinate_list"
   ]
  },
  {
   "cell_type": "code",
   "execution_count": 22,
   "metadata": {},
   "outputs": [],
   "source": [
    "data = pd.DataFrame(coordinate_list, columns = ['place', 'latitude', 'longitude'])"
   ]
  },
  {
   "cell_type": "code",
   "execution_count": 23,
   "metadata": {},
   "outputs": [
    {
     "data": {
      "text/html": [
       "<div>\n",
       "<style scoped>\n",
       "    .dataframe tbody tr th:only-of-type {\n",
       "        vertical-align: middle;\n",
       "    }\n",
       "\n",
       "    .dataframe tbody tr th {\n",
       "        vertical-align: top;\n",
       "    }\n",
       "\n",
       "    .dataframe thead th {\n",
       "        text-align: right;\n",
       "    }\n",
       "</style>\n",
       "<table border=\"1\" class=\"dataframe\">\n",
       "  <thead>\n",
       "    <tr style=\"text-align: right;\">\n",
       "      <th></th>\n",
       "      <th>place</th>\n",
       "      <th>latitude</th>\n",
       "      <th>longitude</th>\n",
       "    </tr>\n",
       "  </thead>\n",
       "  <tbody>\n",
       "    <tr>\n",
       "      <th>0</th>\n",
       "      <td>Mont Saint Michel</td>\n",
       "      <td>48.6359541</td>\n",
       "      <td>-1.511459954959514</td>\n",
       "    </tr>\n",
       "    <tr>\n",
       "      <th>1</th>\n",
       "      <td>St Malo</td>\n",
       "      <td>48.649518</td>\n",
       "      <td>-2.0260409</td>\n",
       "    </tr>\n",
       "    <tr>\n",
       "      <th>2</th>\n",
       "      <td>Bayeux</td>\n",
       "      <td>49.2764624</td>\n",
       "      <td>-0.7024738</td>\n",
       "    </tr>\n",
       "    <tr>\n",
       "      <th>3</th>\n",
       "      <td>Le Havre</td>\n",
       "      <td>49.4938975</td>\n",
       "      <td>0.1079732</td>\n",
       "    </tr>\n",
       "    <tr>\n",
       "      <th>4</th>\n",
       "      <td>Rouen</td>\n",
       "      <td>49.4404591</td>\n",
       "      <td>1.0939658</td>\n",
       "    </tr>\n",
       "  </tbody>\n",
       "</table>\n",
       "</div>"
      ],
      "text/plain": [
       "               place    latitude           longitude\n",
       "0  Mont Saint Michel  48.6359541  -1.511459954959514\n",
       "1            St Malo   48.649518          -2.0260409\n",
       "2             Bayeux  49.2764624          -0.7024738\n",
       "3           Le Havre  49.4938975           0.1079732\n",
       "4              Rouen  49.4404591           1.0939658"
      ]
     },
     "execution_count": 23,
     "metadata": {},
     "output_type": "execute_result"
    }
   ],
   "source": [
    "data.head()"
   ]
  },
  {
   "cell_type": "markdown",
   "metadata": {},
   "source": [
    "Recup de la météo des 7 prochains jours pour chaque ville"
   ]
  },
  {
   "cell_type": "code",
   "execution_count": 54,
   "metadata": {},
   "outputs": [],
   "source": [
    "base_endpoint = 'https://api.openweathermap.org/data/2.5/onecall?'"
   ]
  },
  {
   "cell_type": "code",
   "execution_count": 55,
   "metadata": {},
   "outputs": [],
   "source": [
    "import config\n",
    "KEY = config.api_key"
   ]
  },
  {
   "cell_type": "code",
   "execution_count": 56,
   "metadata": {},
   "outputs": [],
   "source": [
    "params = {'lat': '43.4933379',\n",
    "          'lon': '-1.475099',\n",
    "          'appid': KEY,\n",
    "          'units': 'metric'\n",
    "          }"
   ]
  },
  {
   "cell_type": "code",
   "execution_count": 57,
   "metadata": {},
   "outputs": [],
   "source": [
    "response = r.get(base_endpoint, params=params)"
   ]
  },
  {
   "cell_type": "code",
   "execution_count": 58,
   "metadata": {},
   "outputs": [
    {
     "data": {
      "text/plain": [
       "200"
      ]
     },
     "execution_count": 58,
     "metadata": {},
     "output_type": "execute_result"
    }
   ],
   "source": [
    "response.status_code"
   ]
  },
  {
   "cell_type": "code",
   "execution_count": 59,
   "metadata": {},
   "outputs": [
    {
     "data": {
      "text/plain": [
       "dict_keys(['lat', 'lon', 'timezone', 'timezone_offset', 'current', 'minutely', 'hourly', 'daily', 'alerts'])"
      ]
     },
     "execution_count": 59,
     "metadata": {},
     "output_type": "execute_result"
    }
   ],
   "source": [
    "response.json().keys()"
   ]
  },
  {
   "cell_type": "code",
   "execution_count": 61,
   "metadata": {},
   "outputs": [
    {
     "data": {
      "text/plain": [
       "8"
      ]
     },
     "execution_count": 61,
     "metadata": {},
     "output_type": "execute_result"
    }
   ],
   "source": [
    "len(response.json()['daily'])"
   ]
  },
  {
   "cell_type": "code",
   "execution_count": 62,
   "metadata": {},
   "outputs": [
    {
     "data": {
      "text/plain": [
       "{'dt': 1657627200,\n",
       " 'sunrise': 1657600553,\n",
       " 'sunset': 1657655202,\n",
       " 'moonrise': 1657652880,\n",
       " 'moonset': 1657593300,\n",
       " 'moon_phase': 0.45,\n",
       " 'temp': {'day': 24.53,\n",
       "  'min': 18.29,\n",
       "  'max': 24.53,\n",
       "  'night': 20.24,\n",
       "  'eve': 22.73,\n",
       "  'morn': 18.8},\n",
       " 'feels_like': {'day': 24.66, 'night': 20.43, 'eve': 22.83, 'morn': 18.54},\n",
       " 'pressure': 1020,\n",
       " 'humidity': 62,\n",
       " 'dew_point': 16.29,\n",
       " 'wind_speed': 4.95,\n",
       " 'wind_deg': 264,\n",
       " 'wind_gust': 8.26,\n",
       " 'weather': [{'id': 800,\n",
       "   'main': 'Clear',\n",
       "   'description': 'clear sky',\n",
       "   'icon': '01d'}],\n",
       " 'clouds': 2,\n",
       " 'pop': 0,\n",
       " 'uvi': 10}"
      ]
     },
     "execution_count": 62,
     "metadata": {},
     "output_type": "execute_result"
    }
   ],
   "source": [
    "response.json()['daily'][7]"
   ]
  },
  {
   "cell_type": "code",
   "execution_count": 111,
   "metadata": {},
   "outputs": [
    {
     "ename": "KeyError",
     "evalue": "'rain'",
     "output_type": "error",
     "traceback": [
      "\u001b[1;31m---------------------------------------------------------------------------\u001b[0m",
      "\u001b[1;31mKeyError\u001b[0m                                  Traceback (most recent call last)",
      "\u001b[1;32mc:\\Users\\Baptiste Cournault\\Documents\\dev\\jedha\\full_stack\\projects\\Kayak\\scrapping_gps.ipynb Cell 25'\u001b[0m in \u001b[0;36m<cell line: 1>\u001b[1;34m()\u001b[0m\n\u001b[1;32m----> <a href='vscode-notebook-cell:/c%3A/Users/Baptiste%20Cournault/Documents/dev/jedha/full_stack/projects/Kayak/scrapping_gps.ipynb#ch0000022?line=0'>1</a>\u001b[0m response\u001b[39m.\u001b[39;49mjson()[\u001b[39m'\u001b[39;49m\u001b[39mdaily\u001b[39;49m\u001b[39m'\u001b[39;49m][\u001b[39m0\u001b[39;49m][\u001b[39m'\u001b[39;49m\u001b[39mrain\u001b[39;49m\u001b[39m'\u001b[39;49m]\n",
      "\u001b[1;31mKeyError\u001b[0m: 'rain'"
     ]
    }
   ],
   "source": [
    "response.json()['daily'][0]['rain']"
   ]
  },
  {
   "cell_type": "code",
   "execution_count": 66,
   "metadata": {},
   "outputs": [
    {
     "name": "stdout",
     "output_type": "stream",
     "text": [
      "Unix_Time => 1656417600\n",
      "Date & Time => 2022-06-28 14:00:00\n"
     ]
    }
   ],
   "source": [
    "# --- display nicely date and time from unixtimestamp ---\n",
    "\n",
    "# importing datetime module\n",
    "import datetime\n",
    " \n",
    "# assigned unix time\n",
    "unix_time = 1656417600\n",
    " \n",
    "date_time = datetime.datetime.fromtimestamp(unix_time)\n",
    " \n",
    "# print unix time stamp\n",
    "print(\"Unix_Time =>\",unix_time)\n",
    " \n",
    "# displaying date and time in a regular\n",
    "# string format\n",
    "print(\"Date & Time =>\" ,\n",
    "      date_time.strftime('%Y-%m-%d %H:%M:%S'))"
   ]
  },
  {
   "cell_type": "code",
   "execution_count": 67,
   "metadata": {},
   "outputs": [
    {
     "data": {
      "text/html": [
       "<div>\n",
       "<style scoped>\n",
       "    .dataframe tbody tr th:only-of-type {\n",
       "        vertical-align: middle;\n",
       "    }\n",
       "\n",
       "    .dataframe tbody tr th {\n",
       "        vertical-align: top;\n",
       "    }\n",
       "\n",
       "    .dataframe thead th {\n",
       "        text-align: right;\n",
       "    }\n",
       "</style>\n",
       "<table border=\"1\" class=\"dataframe\">\n",
       "  <thead>\n",
       "    <tr style=\"text-align: right;\">\n",
       "      <th></th>\n",
       "      <th>dt</th>\n",
       "      <th>sunrise</th>\n",
       "    </tr>\n",
       "  </thead>\n",
       "  <tbody>\n",
       "    <tr>\n",
       "      <th>0</th>\n",
       "      <td>1656417600</td>\n",
       "      <td>1656390429</td>\n",
       "    </tr>\n",
       "    <tr>\n",
       "      <th>1</th>\n",
       "      <td>1656417600</td>\n",
       "      <td>1656390429</td>\n",
       "    </tr>\n",
       "  </tbody>\n",
       "</table>\n",
       "</div>"
      ],
      "text/plain": [
       "           dt     sunrise\n",
       "0  1656417600  1656390429\n",
       "1  1656417600  1656390429"
      ]
     },
     "execution_count": 67,
     "metadata": {},
     "output_type": "execute_result"
    }
   ],
   "source": [
    "# --- test list of dict into dataframe ---\n",
    "\n",
    "list_of_dict = [{'dt': 1656417600,\n",
    "  'sunrise': 1656390429}, {'dt': 1656417600,\n",
    "  'sunrise': 1656390429}]\n",
    "\n",
    "pd.DataFrame(list_of_dict)"
   ]
  },
  {
   "cell_type": "code",
   "execution_count": 68,
   "metadata": {},
   "outputs": [],
   "source": [
    "forecast_dict= {'dt': 1656417600,\n",
    "  'sunrise': 1656390429,\n",
    "  'sunset': 1656445853,\n",
    "  'moonrise': 1656387120,\n",
    "  'moonset': 1656445800,\n",
    "  'moon_phase': 0.98,\n",
    "  'temp': {'day': 21.14,\n",
    "   'min': 13.48,\n",
    "   'max': 22.01,\n",
    "   'night': 18.86,\n",
    "   'eve': 22.01,\n",
    "   'morn': 14.44},\n",
    "  'feels_like': {'day': 20.8, 'night': 18.79, 'eve': 21.94, 'morn': 14.05},\n",
    "  'pressure': 1020,\n",
    "  'humidity': 57,\n",
    "  'dew_point': 12.07,\n",
    "  'wind_speed': 4.29,\n",
    "  'wind_deg': 317,\n",
    "  'wind_gust': 3.68,\n",
    "  'weather': [{'id': 800,\n",
    "    'main': 'Clear',\n",
    "    'description': 'clear sky',\n",
    "    'icon': '01d'}],\n",
    "  'clouds': 1,\n",
    "  'pop': 0,\n",
    "  'uvi': 8.49}"
   ]
  },
  {
   "cell_type": "code",
   "execution_count": 114,
   "metadata": {},
   "outputs": [],
   "source": [
    "def cleaning_dict(forecast_dict):\n",
    "\n",
    "    clean_dict = {}\n",
    "    \n",
    "    for key in forecast_dict.keys():\n",
    "\n",
    "        if type(forecast_dict[key]) == list:\n",
    "\n",
    "            for i in forecast_dict[key][0].keys():\n",
    "                clean_dict[key+'_'+i] = forecast_dict[key][0][i]\n",
    "\n",
    "        elif type(forecast_dict[key]) == dict:\n",
    "\n",
    "            for i in forecast_dict[key].keys():\n",
    "                clean_dict[key+'_'+i] = forecast_dict[key][i]\n",
    "\n",
    "        else:\n",
    "            clean_dict[key] = forecast_dict[key]\n",
    "\n",
    "    return clean_dict"
   ]
  },
  {
   "cell_type": "code",
   "execution_count": 115,
   "metadata": {},
   "outputs": [],
   "source": [
    "def one_city_request(base_endpoint, KEY, city_loc):\n",
    "    \n",
    "    params = {'lat': city_loc[1],\n",
    "          'lon': city_loc[2],\n",
    "          'appid': KEY,\n",
    "          'units': 'metric'\n",
    "          }\n",
    "\n",
    "    response = r.get(base_endpoint, params=params)\n",
    "    return response.json()['daily']"
   ]
  },
  {
   "cell_type": "code",
   "execution_count": 116,
   "metadata": {},
   "outputs": [],
   "source": [
    "base_endpoint = 'https://api.openweathermap.org/data/2.5/onecall?'\n",
    "KEY = '83d608199d5e9f779357657035773c8b'"
   ]
  },
  {
   "cell_type": "code",
   "execution_count": 117,
   "metadata": {},
   "outputs": [
    {
     "name": "stdout",
     "output_type": "stream",
     "text": [
      "0 city done\n",
      "1 city done\n",
      "2 city done\n",
      "3 city done\n",
      "4 city done\n",
      "5 city done\n",
      "6 city done\n",
      "7 city done\n",
      "8 city done\n",
      "9 city done\n",
      "10 city done\n",
      "11 city done\n",
      "12 city done\n",
      "13 city done\n",
      "14 city done\n",
      "15 city done\n",
      "16 city done\n",
      "17 city done\n",
      "18 city done\n",
      "19 city done\n",
      "20 city done\n",
      "21 city done\n",
      "22 city done\n",
      "23 city done\n",
      "24 city done\n",
      "25 city done\n",
      "26 city done\n",
      "27 city done\n",
      "28 city done\n",
      "29 city done\n",
      "30 city done\n",
      "31 city done\n",
      "32 city done\n",
      "33 city done\n",
      "34 city done\n"
     ]
    }
   ],
   "source": [
    "result_list = []\n",
    "\n",
    "for i, city_loc in enumerate(coordinate_list):\n",
    "    \n",
    "    weather_request = one_city_request(base_endpoint, KEY, city_loc)\n",
    "\n",
    "    for forecast_dict in weather_request:\n",
    "\n",
    "        base_dict = {'id': i,\n",
    "                'place': city_loc[0],\n",
    "                'lat': city_loc[1],\n",
    "                'lon': city_loc[2],\n",
    "                }\n",
    "    \n",
    "        base_dict.update(cleaning_dict(forecast_dict))\n",
    "        result_list.append(base_dict)\n",
    "\n",
    "    print(f'{i} city done')\n",
    "    \n"
   ]
  },
  {
   "cell_type": "code",
   "execution_count": 118,
   "metadata": {},
   "outputs": [
    {
     "data": {
      "text/plain": [
       "280"
      ]
     },
     "execution_count": 118,
     "metadata": {},
     "output_type": "execute_result"
    }
   ],
   "source": [
    "len(result_list)"
   ]
  },
  {
   "cell_type": "code",
   "execution_count": 119,
   "metadata": {},
   "outputs": [],
   "source": [
    "data_weather = pd.DataFrame(result_list)"
   ]
  },
  {
   "cell_type": "code",
   "execution_count": 120,
   "metadata": {},
   "outputs": [
    {
     "data": {
      "text/plain": [
       "(280, 34)"
      ]
     },
     "execution_count": 120,
     "metadata": {},
     "output_type": "execute_result"
    }
   ],
   "source": [
    "data_weather.shape"
   ]
  },
  {
   "cell_type": "code",
   "execution_count": 121,
   "metadata": {},
   "outputs": [
    {
     "data": {
      "text/plain": [
       "Index(['id', 'place', 'lat', 'lon', 'dt', 'sunrise', 'sunset', 'moonrise',\n",
       "       'moonset', 'moon_phase', 'temp_day', 'temp_min', 'temp_max',\n",
       "       'temp_night', 'temp_eve', 'temp_morn', 'feels_like_day',\n",
       "       'feels_like_night', 'feels_like_eve', 'feels_like_morn', 'pressure',\n",
       "       'humidity', 'dew_point', 'wind_speed', 'wind_deg', 'wind_gust',\n",
       "       'weather_id', 'weather_main', 'weather_description', 'weather_icon',\n",
       "       'clouds', 'pop', 'uvi', 'rain'],\n",
       "      dtype='object')"
      ]
     },
     "execution_count": 121,
     "metadata": {},
     "output_type": "execute_result"
    }
   ],
   "source": [
    "data_weather.columns"
   ]
  },
  {
   "cell_type": "code",
   "execution_count": 127,
   "metadata": {},
   "outputs": [
    {
     "data": {
      "text/html": [
       "<div>\n",
       "<style scoped>\n",
       "    .dataframe tbody tr th:only-of-type {\n",
       "        vertical-align: middle;\n",
       "    }\n",
       "\n",
       "    .dataframe tbody tr th {\n",
       "        vertical-align: top;\n",
       "    }\n",
       "\n",
       "    .dataframe thead th {\n",
       "        text-align: right;\n",
       "    }\n",
       "</style>\n",
       "<table border=\"1\" class=\"dataframe\">\n",
       "  <thead>\n",
       "    <tr style=\"text-align: right;\">\n",
       "      <th></th>\n",
       "      <th>id</th>\n",
       "      <th>place</th>\n",
       "      <th>lat</th>\n",
       "      <th>lon</th>\n",
       "      <th>dt</th>\n",
       "      <th>sunrise</th>\n",
       "      <th>sunset</th>\n",
       "      <th>moonrise</th>\n",
       "      <th>moonset</th>\n",
       "      <th>moon_phase</th>\n",
       "      <th>...</th>\n",
       "      <th>wind_deg</th>\n",
       "      <th>wind_gust</th>\n",
       "      <th>weather_id</th>\n",
       "      <th>weather_main</th>\n",
       "      <th>weather_description</th>\n",
       "      <th>weather_icon</th>\n",
       "      <th>clouds</th>\n",
       "      <th>pop</th>\n",
       "      <th>uvi</th>\n",
       "      <th>rain</th>\n",
       "    </tr>\n",
       "  </thead>\n",
       "  <tbody>\n",
       "    <tr>\n",
       "      <th>65</th>\n",
       "      <td>8</td>\n",
       "      <td>Strasbourg</td>\n",
       "      <td>48.584614</td>\n",
       "      <td>7.7507127</td>\n",
       "      <td>1657191600</td>\n",
       "      <td>1657164893</td>\n",
       "      <td>1657222349</td>\n",
       "      <td>1657195980</td>\n",
       "      <td>1657149120</td>\n",
       "      <td>0.25</td>\n",
       "      <td>...</td>\n",
       "      <td>321</td>\n",
       "      <td>7.92</td>\n",
       "      <td>500</td>\n",
       "      <td>Rain</td>\n",
       "      <td>light rain</td>\n",
       "      <td>10d</td>\n",
       "      <td>50</td>\n",
       "      <td>0.56</td>\n",
       "      <td>4.05</td>\n",
       "      <td>0.36</td>\n",
       "    </tr>\n",
       "    <tr>\n",
       "      <th>73</th>\n",
       "      <td>9</td>\n",
       "      <td>Chateau du Haut Koenigsbourg</td>\n",
       "      <td>48.249489800000006</td>\n",
       "      <td>7.34429620253195</td>\n",
       "      <td>1657191600</td>\n",
       "      <td>1657165081</td>\n",
       "      <td>1657222357</td>\n",
       "      <td>1657196040</td>\n",
       "      <td>1657149240</td>\n",
       "      <td>0.25</td>\n",
       "      <td>...</td>\n",
       "      <td>322</td>\n",
       "      <td>7.41</td>\n",
       "      <td>500</td>\n",
       "      <td>Rain</td>\n",
       "      <td>light rain</td>\n",
       "      <td>10d</td>\n",
       "      <td>37</td>\n",
       "      <td>0.45</td>\n",
       "      <td>5.14</td>\n",
       "      <td>0.10</td>\n",
       "    </tr>\n",
       "    <tr>\n",
       "      <th>81</th>\n",
       "      <td>10</td>\n",
       "      <td>Colmar</td>\n",
       "      <td>48.0777517</td>\n",
       "      <td>7.3579641</td>\n",
       "      <td>1657191600</td>\n",
       "      <td>1657165123</td>\n",
       "      <td>1657222308</td>\n",
       "      <td>1657196040</td>\n",
       "      <td>1657149240</td>\n",
       "      <td>0.25</td>\n",
       "      <td>...</td>\n",
       "      <td>326</td>\n",
       "      <td>7.35</td>\n",
       "      <td>500</td>\n",
       "      <td>Rain</td>\n",
       "      <td>light rain</td>\n",
       "      <td>10d</td>\n",
       "      <td>21</td>\n",
       "      <td>0.36</td>\n",
       "      <td>5.14</td>\n",
       "      <td>0.12</td>\n",
       "    </tr>\n",
       "    <tr>\n",
       "      <th>89</th>\n",
       "      <td>11</td>\n",
       "      <td>Eguisheim</td>\n",
       "      <td>48.0447968</td>\n",
       "      <td>7.3079618</td>\n",
       "      <td>1657191600</td>\n",
       "      <td>1657165143</td>\n",
       "      <td>1657222312</td>\n",
       "      <td>1657196040</td>\n",
       "      <td>1657149240</td>\n",
       "      <td>0.25</td>\n",
       "      <td>...</td>\n",
       "      <td>310</td>\n",
       "      <td>7.05</td>\n",
       "      <td>500</td>\n",
       "      <td>Rain</td>\n",
       "      <td>light rain</td>\n",
       "      <td>10d</td>\n",
       "      <td>21</td>\n",
       "      <td>0.34</td>\n",
       "      <td>5.14</td>\n",
       "      <td>0.13</td>\n",
       "    </tr>\n",
       "    <tr>\n",
       "      <th>97</th>\n",
       "      <td>12</td>\n",
       "      <td>Besancon</td>\n",
       "      <td>47.2380222</td>\n",
       "      <td>6.0243622</td>\n",
       "      <td>1657191600</td>\n",
       "      <td>1657165660</td>\n",
       "      <td>1657222412</td>\n",
       "      <td>1657196340</td>\n",
       "      <td>1657149540</td>\n",
       "      <td>0.25</td>\n",
       "      <td>...</td>\n",
       "      <td>342</td>\n",
       "      <td>6.59</td>\n",
       "      <td>500</td>\n",
       "      <td>Rain</td>\n",
       "      <td>light rain</td>\n",
       "      <td>10d</td>\n",
       "      <td>2</td>\n",
       "      <td>0.24</td>\n",
       "      <td>6.90</td>\n",
       "      <td>0.38</td>\n",
       "    </tr>\n",
       "    <tr>\n",
       "      <th>141</th>\n",
       "      <td>17</td>\n",
       "      <td>Gorges du Verdon</td>\n",
       "      <td>43.7496562</td>\n",
       "      <td>6.3285616</td>\n",
       "      <td>1657537200</td>\n",
       "      <td>1657512178</td>\n",
       "      <td>1657567016</td>\n",
       "      <td>1657560180</td>\n",
       "      <td>1657501920</td>\n",
       "      <td>0.41</td>\n",
       "      <td>...</td>\n",
       "      <td>177</td>\n",
       "      <td>4.45</td>\n",
       "      <td>500</td>\n",
       "      <td>Rain</td>\n",
       "      <td>light rain</td>\n",
       "      <td>10d</td>\n",
       "      <td>40</td>\n",
       "      <td>0.28</td>\n",
       "      <td>10.00</td>\n",
       "      <td>0.51</td>\n",
       "    </tr>\n",
       "    <tr>\n",
       "      <th>142</th>\n",
       "      <td>17</td>\n",
       "      <td>Gorges du Verdon</td>\n",
       "      <td>43.7496562</td>\n",
       "      <td>6.3285616</td>\n",
       "      <td>1657623600</td>\n",
       "      <td>1657598626</td>\n",
       "      <td>1657653383</td>\n",
       "      <td>1657651020</td>\n",
       "      <td>1657591320</td>\n",
       "      <td>0.45</td>\n",
       "      <td>...</td>\n",
       "      <td>161</td>\n",
       "      <td>7.30</td>\n",
       "      <td>500</td>\n",
       "      <td>Rain</td>\n",
       "      <td>light rain</td>\n",
       "      <td>10d</td>\n",
       "      <td>2</td>\n",
       "      <td>0.57</td>\n",
       "      <td>10.00</td>\n",
       "      <td>3.33</td>\n",
       "    </tr>\n",
       "    <tr>\n",
       "      <th>143</th>\n",
       "      <td>17</td>\n",
       "      <td>Gorges du Verdon</td>\n",
       "      <td>43.7496562</td>\n",
       "      <td>6.3285616</td>\n",
       "      <td>1657710000</td>\n",
       "      <td>1657685075</td>\n",
       "      <td>1657739749</td>\n",
       "      <td>1657741140</td>\n",
       "      <td>1657681500</td>\n",
       "      <td>0.50</td>\n",
       "      <td>...</td>\n",
       "      <td>160</td>\n",
       "      <td>4.69</td>\n",
       "      <td>500</td>\n",
       "      <td>Rain</td>\n",
       "      <td>light rain</td>\n",
       "      <td>10d</td>\n",
       "      <td>73</td>\n",
       "      <td>0.65</td>\n",
       "      <td>10.00</td>\n",
       "      <td>1.04</td>\n",
       "    </tr>\n",
       "    <tr>\n",
       "      <th>151</th>\n",
       "      <td>18</td>\n",
       "      <td>Bormes les Mimosas</td>\n",
       "      <td>43.1572172</td>\n",
       "      <td>6.329253867921363</td>\n",
       "      <td>1657710000</td>\n",
       "      <td>1657685196</td>\n",
       "      <td>1657739628</td>\n",
       "      <td>1657740960</td>\n",
       "      <td>1657681680</td>\n",
       "      <td>0.50</td>\n",
       "      <td>...</td>\n",
       "      <td>219</td>\n",
       "      <td>4.99</td>\n",
       "      <td>500</td>\n",
       "      <td>Rain</td>\n",
       "      <td>light rain</td>\n",
       "      <td>10d</td>\n",
       "      <td>62</td>\n",
       "      <td>0.57</td>\n",
       "      <td>10.00</td>\n",
       "      <td>1.71</td>\n",
       "    </tr>\n",
       "    <tr>\n",
       "      <th>159</th>\n",
       "      <td>19</td>\n",
       "      <td>Cassis</td>\n",
       "      <td>43.2140359</td>\n",
       "      <td>5.5396318</td>\n",
       "      <td>1657710000</td>\n",
       "      <td>1657685374</td>\n",
       "      <td>1657739829</td>\n",
       "      <td>1657741200</td>\n",
       "      <td>1657681860</td>\n",
       "      <td>0.50</td>\n",
       "      <td>...</td>\n",
       "      <td>214</td>\n",
       "      <td>4.62</td>\n",
       "      <td>500</td>\n",
       "      <td>Rain</td>\n",
       "      <td>light rain</td>\n",
       "      <td>10d</td>\n",
       "      <td>44</td>\n",
       "      <td>0.28</td>\n",
       "      <td>9.00</td>\n",
       "      <td>0.40</td>\n",
       "    </tr>\n",
       "    <tr>\n",
       "      <th>167</th>\n",
       "      <td>20</td>\n",
       "      <td>Marseille</td>\n",
       "      <td>43.2961743</td>\n",
       "      <td>5.3699525</td>\n",
       "      <td>1657710000</td>\n",
       "      <td>1657685398</td>\n",
       "      <td>1657739886</td>\n",
       "      <td>1657741260</td>\n",
       "      <td>1657681920</td>\n",
       "      <td>0.50</td>\n",
       "      <td>...</td>\n",
       "      <td>210</td>\n",
       "      <td>5.77</td>\n",
       "      <td>500</td>\n",
       "      <td>Rain</td>\n",
       "      <td>light rain</td>\n",
       "      <td>10d</td>\n",
       "      <td>19</td>\n",
       "      <td>0.26</td>\n",
       "      <td>9.00</td>\n",
       "      <td>0.19</td>\n",
       "    </tr>\n",
       "    <tr>\n",
       "      <th>175</th>\n",
       "      <td>21</td>\n",
       "      <td>Aix en Provence</td>\n",
       "      <td>43.5298424</td>\n",
       "      <td>5.4474738</td>\n",
       "      <td>1657710000</td>\n",
       "      <td>1657685332</td>\n",
       "      <td>1657739915</td>\n",
       "      <td>1657741320</td>\n",
       "      <td>1657681800</td>\n",
       "      <td>0.50</td>\n",
       "      <td>...</td>\n",
       "      <td>302</td>\n",
       "      <td>6.81</td>\n",
       "      <td>500</td>\n",
       "      <td>Rain</td>\n",
       "      <td>light rain</td>\n",
       "      <td>10d</td>\n",
       "      <td>12</td>\n",
       "      <td>0.27</td>\n",
       "      <td>9.00</td>\n",
       "      <td>0.27</td>\n",
       "    </tr>\n",
       "    <tr>\n",
       "      <th>216</th>\n",
       "      <td>27</td>\n",
       "      <td>Collioure</td>\n",
       "      <td>42.52505</td>\n",
       "      <td>3.0831554</td>\n",
       "      <td>1657105200</td>\n",
       "      <td>1657081000</td>\n",
       "      <td>1657135664</td>\n",
       "      <td>1657106400</td>\n",
       "      <td>1657062720</td>\n",
       "      <td>0.23</td>\n",
       "      <td>...</td>\n",
       "      <td>274</td>\n",
       "      <td>12.35</td>\n",
       "      <td>500</td>\n",
       "      <td>Rain</td>\n",
       "      <td>light rain</td>\n",
       "      <td>10d</td>\n",
       "      <td>100</td>\n",
       "      <td>0.51</td>\n",
       "      <td>7.69</td>\n",
       "      <td>1.25</td>\n",
       "    </tr>\n",
       "    <tr>\n",
       "      <th>232</th>\n",
       "      <td>29</td>\n",
       "      <td>Ariege</td>\n",
       "      <td>42.9455368</td>\n",
       "      <td>1.4065544156065486</td>\n",
       "      <td>1657105200</td>\n",
       "      <td>1657081315</td>\n",
       "      <td>1657136154</td>\n",
       "      <td>1657106820</td>\n",
       "      <td>1657063140</td>\n",
       "      <td>0.23</td>\n",
       "      <td>...</td>\n",
       "      <td>179</td>\n",
       "      <td>7.59</td>\n",
       "      <td>501</td>\n",
       "      <td>Rain</td>\n",
       "      <td>moderate rain</td>\n",
       "      <td>10d</td>\n",
       "      <td>52</td>\n",
       "      <td>0.55</td>\n",
       "      <td>9.26</td>\n",
       "      <td>5.45</td>\n",
       "    </tr>\n",
       "    <tr>\n",
       "      <th>256</th>\n",
       "      <td>32</td>\n",
       "      <td>Biarritz</td>\n",
       "      <td>43.4832523</td>\n",
       "      <td>-1.5592776</td>\n",
       "      <td>1657108800</td>\n",
       "      <td>1657081913</td>\n",
       "      <td>1657136980</td>\n",
       "      <td>1657107540</td>\n",
       "      <td>1657063860</td>\n",
       "      <td>0.23</td>\n",
       "      <td>...</td>\n",
       "      <td>284</td>\n",
       "      <td>6.72</td>\n",
       "      <td>500</td>\n",
       "      <td>Rain</td>\n",
       "      <td>light rain</td>\n",
       "      <td>10d</td>\n",
       "      <td>93</td>\n",
       "      <td>0.71</td>\n",
       "      <td>8.27</td>\n",
       "      <td>2.44</td>\n",
       "    </tr>\n",
       "    <tr>\n",
       "      <th>264</th>\n",
       "      <td>33</td>\n",
       "      <td>Bayonne</td>\n",
       "      <td>43.4933379</td>\n",
       "      <td>-1.475099</td>\n",
       "      <td>1657108800</td>\n",
       "      <td>1657081890</td>\n",
       "      <td>1657136962</td>\n",
       "      <td>1657107540</td>\n",
       "      <td>1657063860</td>\n",
       "      <td>0.23</td>\n",
       "      <td>...</td>\n",
       "      <td>284</td>\n",
       "      <td>7.32</td>\n",
       "      <td>500</td>\n",
       "      <td>Rain</td>\n",
       "      <td>light rain</td>\n",
       "      <td>10d</td>\n",
       "      <td>95</td>\n",
       "      <td>0.67</td>\n",
       "      <td>7.92</td>\n",
       "      <td>2.31</td>\n",
       "    </tr>\n",
       "  </tbody>\n",
       "</table>\n",
       "<p>16 rows × 34 columns</p>\n",
       "</div>"
      ],
      "text/plain": [
       "     id                         place                 lat                 lon  \\\n",
       "65    8                    Strasbourg           48.584614           7.7507127   \n",
       "73    9  Chateau du Haut Koenigsbourg  48.249489800000006    7.34429620253195   \n",
       "81   10                        Colmar          48.0777517           7.3579641   \n",
       "89   11                     Eguisheim          48.0447968           7.3079618   \n",
       "97   12                      Besancon          47.2380222           6.0243622   \n",
       "141  17              Gorges du Verdon          43.7496562           6.3285616   \n",
       "142  17              Gorges du Verdon          43.7496562           6.3285616   \n",
       "143  17              Gorges du Verdon          43.7496562           6.3285616   \n",
       "151  18            Bormes les Mimosas          43.1572172   6.329253867921363   \n",
       "159  19                        Cassis          43.2140359           5.5396318   \n",
       "167  20                     Marseille          43.2961743           5.3699525   \n",
       "175  21               Aix en Provence          43.5298424           5.4474738   \n",
       "216  27                     Collioure            42.52505           3.0831554   \n",
       "232  29                        Ariege          42.9455368  1.4065544156065486   \n",
       "256  32                      Biarritz          43.4832523          -1.5592776   \n",
       "264  33                       Bayonne          43.4933379           -1.475099   \n",
       "\n",
       "             dt     sunrise      sunset    moonrise     moonset  moon_phase  \\\n",
       "65   1657191600  1657164893  1657222349  1657195980  1657149120        0.25   \n",
       "73   1657191600  1657165081  1657222357  1657196040  1657149240        0.25   \n",
       "81   1657191600  1657165123  1657222308  1657196040  1657149240        0.25   \n",
       "89   1657191600  1657165143  1657222312  1657196040  1657149240        0.25   \n",
       "97   1657191600  1657165660  1657222412  1657196340  1657149540        0.25   \n",
       "141  1657537200  1657512178  1657567016  1657560180  1657501920        0.41   \n",
       "142  1657623600  1657598626  1657653383  1657651020  1657591320        0.45   \n",
       "143  1657710000  1657685075  1657739749  1657741140  1657681500        0.50   \n",
       "151  1657710000  1657685196  1657739628  1657740960  1657681680        0.50   \n",
       "159  1657710000  1657685374  1657739829  1657741200  1657681860        0.50   \n",
       "167  1657710000  1657685398  1657739886  1657741260  1657681920        0.50   \n",
       "175  1657710000  1657685332  1657739915  1657741320  1657681800        0.50   \n",
       "216  1657105200  1657081000  1657135664  1657106400  1657062720        0.23   \n",
       "232  1657105200  1657081315  1657136154  1657106820  1657063140        0.23   \n",
       "256  1657108800  1657081913  1657136980  1657107540  1657063860        0.23   \n",
       "264  1657108800  1657081890  1657136962  1657107540  1657063860        0.23   \n",
       "\n",
       "     ...  wind_deg  wind_gust  weather_id  weather_main  weather_description  \\\n",
       "65   ...       321       7.92         500          Rain           light rain   \n",
       "73   ...       322       7.41         500          Rain           light rain   \n",
       "81   ...       326       7.35         500          Rain           light rain   \n",
       "89   ...       310       7.05         500          Rain           light rain   \n",
       "97   ...       342       6.59         500          Rain           light rain   \n",
       "141  ...       177       4.45         500          Rain           light rain   \n",
       "142  ...       161       7.30         500          Rain           light rain   \n",
       "143  ...       160       4.69         500          Rain           light rain   \n",
       "151  ...       219       4.99         500          Rain           light rain   \n",
       "159  ...       214       4.62         500          Rain           light rain   \n",
       "167  ...       210       5.77         500          Rain           light rain   \n",
       "175  ...       302       6.81         500          Rain           light rain   \n",
       "216  ...       274      12.35         500          Rain           light rain   \n",
       "232  ...       179       7.59         501          Rain        moderate rain   \n",
       "256  ...       284       6.72         500          Rain           light rain   \n",
       "264  ...       284       7.32         500          Rain           light rain   \n",
       "\n",
       "     weather_icon  clouds   pop    uvi  rain  \n",
       "65            10d      50  0.56   4.05  0.36  \n",
       "73            10d      37  0.45   5.14  0.10  \n",
       "81            10d      21  0.36   5.14  0.12  \n",
       "89            10d      21  0.34   5.14  0.13  \n",
       "97            10d       2  0.24   6.90  0.38  \n",
       "141           10d      40  0.28  10.00  0.51  \n",
       "142           10d       2  0.57  10.00  3.33  \n",
       "143           10d      73  0.65  10.00  1.04  \n",
       "151           10d      62  0.57  10.00  1.71  \n",
       "159           10d      44  0.28   9.00  0.40  \n",
       "167           10d      19  0.26   9.00  0.19  \n",
       "175           10d      12  0.27   9.00  0.27  \n",
       "216           10d     100  0.51   7.69  1.25  \n",
       "232           10d      52  0.55   9.26  5.45  \n",
       "256           10d      93  0.71   8.27  2.44  \n",
       "264           10d      95  0.67   7.92  2.31  \n",
       "\n",
       "[16 rows x 34 columns]"
      ]
     },
     "execution_count": 127,
     "metadata": {},
     "output_type": "execute_result"
    }
   ],
   "source": [
    "data_weather[~data_weather['rain'].isna()]"
   ]
  },
  {
   "cell_type": "code",
   "execution_count": 129,
   "metadata": {},
   "outputs": [],
   "source": [
    "data_weather.to_csv('WeatherForecast 2022-07-06.csv')"
   ]
  },
  {
   "cell_type": "code",
   "execution_count": null,
   "metadata": {},
   "outputs": [],
   "source": []
  }
 ],
 "metadata": {
  "kernelspec": {
   "display_name": "Python 3.10.0 64-bit",
   "language": "python",
   "name": "python3"
  },
  "language_info": {
   "codemirror_mode": {
    "name": "ipython",
    "version": 3
   },
   "file_extension": ".py",
   "mimetype": "text/x-python",
   "name": "python",
   "nbconvert_exporter": "python",
   "pygments_lexer": "ipython3",
   "version": "3.10.0"
  },
  "orig_nbformat": 4,
  "vscode": {
   "interpreter": {
    "hash": "6b23b447ae8d7dd20d4fc812b5289c3091e759321a9b689f6e1bbc2b9587a95b"
   }
  }
 },
 "nbformat": 4,
 "nbformat_minor": 2
}
